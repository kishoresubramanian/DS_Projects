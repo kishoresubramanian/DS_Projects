{
 "cells": [
  {
   "cell_type": "markdown",
   "metadata": {},
   "source": [
    "Predicting Food Delivery Time - Hackathon by IMS Proschool Size of training set: 11,094 records Size of test set: 2,774 records Hackathon closes on December 10, 2019 Evaluation Metric: The final score will be calculated based on accuracy or the number of true predictions using the confusion matrix. FEATURES: Restaurant: A unique ID that represents a restaurant. Location: The location of the restaurant. Cuisines: The cuisines offered by the restaurant. Average_Cost: The average cost for one person/order. Minimum_Order: The minimum order amount. Rating: Customer rating for the restaurant. Votes: The total number of customer votes for the restaurant. Reviews: The number of customer reviews for the restaurant. Delivery_Time: The order delivery time of the restaurant. (Target Classes)"
   ]
  },
  {
   "cell_type": "code",
   "execution_count": 1,
   "metadata": {},
   "outputs": [
    {
     "name": "stderr",
     "output_type": "stream",
     "text": [
      "/opt/anaconda3/lib/python3.7/site-packages/statsmodels/tools/_testing.py:19: FutureWarning: pandas.util.testing is deprecated. Use the functions in the public API at pandas.testing instead.\n",
      "  import pandas.util.testing as tm\n"
     ]
    }
   ],
   "source": [
    "import pandas as pd\n",
    "import numpy as np\n",
    "import seaborn as sns\n",
    "import matplotlib.pyplot as plt\n",
    "%matplotlib inline"
   ]
  },
  {
   "cell_type": "code",
   "execution_count": 2,
   "metadata": {},
   "outputs": [],
   "source": [
    "data_train = pd.read_excel(\"Data_Train.xlsx\")\n",
    "data_test = pd.read_excel(\"Data_Test.xlsx\")"
   ]
  },
  {
   "cell_type": "code",
   "execution_count": 3,
   "metadata": {},
   "outputs": [],
   "source": [
    "data = data_train.copy()"
   ]
  },
  {
   "cell_type": "code",
   "execution_count": 4,
   "metadata": {},
   "outputs": [
    {
     "data": {
      "text/html": [
       "<div>\n",
       "<style scoped>\n",
       "    .dataframe tbody tr th:only-of-type {\n",
       "        vertical-align: middle;\n",
       "    }\n",
       "\n",
       "    .dataframe tbody tr th {\n",
       "        vertical-align: top;\n",
       "    }\n",
       "\n",
       "    .dataframe thead th {\n",
       "        text-align: right;\n",
       "    }\n",
       "</style>\n",
       "<table border=\"1\" class=\"dataframe\">\n",
       "  <thead>\n",
       "    <tr style=\"text-align: right;\">\n",
       "      <th></th>\n",
       "      <th>Restaurant</th>\n",
       "      <th>Location</th>\n",
       "      <th>Cuisines</th>\n",
       "      <th>Average_Cost</th>\n",
       "      <th>Minimum_Order</th>\n",
       "      <th>Rating</th>\n",
       "      <th>Votes</th>\n",
       "      <th>Reviews</th>\n",
       "      <th>Delivery_Time</th>\n",
       "    </tr>\n",
       "  </thead>\n",
       "  <tbody>\n",
       "    <tr>\n",
       "      <th>0</th>\n",
       "      <td>ID_6321</td>\n",
       "      <td>FTI College, Law College Road, Pune</td>\n",
       "      <td>Fast Food, Rolls, Burger, Salad, Wraps</td>\n",
       "      <td>₹200</td>\n",
       "      <td>₹50</td>\n",
       "      <td>3.5</td>\n",
       "      <td>12</td>\n",
       "      <td>4</td>\n",
       "      <td>30 minutes</td>\n",
       "    </tr>\n",
       "    <tr>\n",
       "      <th>1</th>\n",
       "      <td>ID_2882</td>\n",
       "      <td>Sector 3, Marathalli</td>\n",
       "      <td>Ice Cream, Desserts</td>\n",
       "      <td>₹100</td>\n",
       "      <td>₹50</td>\n",
       "      <td>3.5</td>\n",
       "      <td>11</td>\n",
       "      <td>4</td>\n",
       "      <td>30 minutes</td>\n",
       "    </tr>\n",
       "    <tr>\n",
       "      <th>2</th>\n",
       "      <td>ID_1595</td>\n",
       "      <td>Mumbai Central</td>\n",
       "      <td>Italian, Street Food, Fast Food</td>\n",
       "      <td>₹150</td>\n",
       "      <td>₹50</td>\n",
       "      <td>3.6</td>\n",
       "      <td>99</td>\n",
       "      <td>30</td>\n",
       "      <td>65 minutes</td>\n",
       "    </tr>\n",
       "    <tr>\n",
       "      <th>3</th>\n",
       "      <td>ID_5929</td>\n",
       "      <td>Sector 1, Noida</td>\n",
       "      <td>Mughlai, North Indian, Chinese</td>\n",
       "      <td>₹250</td>\n",
       "      <td>₹99</td>\n",
       "      <td>3.7</td>\n",
       "      <td>176</td>\n",
       "      <td>95</td>\n",
       "      <td>30 minutes</td>\n",
       "    </tr>\n",
       "    <tr>\n",
       "      <th>4</th>\n",
       "      <td>ID_6123</td>\n",
       "      <td>Rmz Centennial, I Gate, Whitefield</td>\n",
       "      <td>Cafe, Beverages</td>\n",
       "      <td>₹200</td>\n",
       "      <td>₹99</td>\n",
       "      <td>3.2</td>\n",
       "      <td>521</td>\n",
       "      <td>235</td>\n",
       "      <td>65 minutes</td>\n",
       "    </tr>\n",
       "  </tbody>\n",
       "</table>\n",
       "</div>"
      ],
      "text/plain": [
       "  Restaurant                             Location  \\\n",
       "0    ID_6321  FTI College, Law College Road, Pune   \n",
       "1    ID_2882                 Sector 3, Marathalli   \n",
       "2    ID_1595                       Mumbai Central   \n",
       "3    ID_5929                      Sector 1, Noida   \n",
       "4    ID_6123   Rmz Centennial, I Gate, Whitefield   \n",
       "\n",
       "                                 Cuisines Average_Cost Minimum_Order Rating  \\\n",
       "0  Fast Food, Rolls, Burger, Salad, Wraps         ₹200           ₹50    3.5   \n",
       "1                     Ice Cream, Desserts         ₹100           ₹50    3.5   \n",
       "2         Italian, Street Food, Fast Food         ₹150           ₹50    3.6   \n",
       "3          Mughlai, North Indian, Chinese         ₹250           ₹99    3.7   \n",
       "4                         Cafe, Beverages         ₹200           ₹99    3.2   \n",
       "\n",
       "  Votes Reviews Delivery_Time  \n",
       "0    12       4    30 minutes  \n",
       "1    11       4    30 minutes  \n",
       "2    99      30    65 minutes  \n",
       "3   176      95    30 minutes  \n",
       "4   521     235    65 minutes  "
      ]
     },
     "execution_count": 4,
     "metadata": {},
     "output_type": "execute_result"
    }
   ],
   "source": [
    "data.head()"
   ]
  },
  {
   "cell_type": "code",
   "execution_count": 5,
   "metadata": {},
   "outputs": [
    {
     "name": "stdout",
     "output_type": "stream",
     "text": [
      "<class 'pandas.core.frame.DataFrame'>\n",
      "RangeIndex: 11094 entries, 0 to 11093\n",
      "Data columns (total 9 columns):\n",
      " #   Column         Non-Null Count  Dtype \n",
      "---  ------         --------------  ----- \n",
      " 0   Restaurant     11094 non-null  object\n",
      " 1   Location       11094 non-null  object\n",
      " 2   Cuisines       11094 non-null  object\n",
      " 3   Average_Cost   11094 non-null  object\n",
      " 4   Minimum_Order  11094 non-null  object\n",
      " 5   Rating         11094 non-null  object\n",
      " 6   Votes          11094 non-null  object\n",
      " 7   Reviews        11094 non-null  object\n",
      " 8   Delivery_Time  11094 non-null  object\n",
      "dtypes: object(9)\n",
      "memory usage: 780.2+ KB\n"
     ]
    }
   ],
   "source": [
    "data.info()"
   ]
  },
  {
   "cell_type": "code",
   "execution_count": 6,
   "metadata": {},
   "outputs": [
    {
     "data": {
      "text/plain": [
       "(11094, 9)"
      ]
     },
     "execution_count": 6,
     "metadata": {},
     "output_type": "execute_result"
    }
   ],
   "source": [
    "data.shape"
   ]
  },
  {
   "cell_type": "code",
   "execution_count": 7,
   "metadata": {},
   "outputs": [
    {
     "data": {
      "text/plain": [
       "Restaurant       0\n",
       "Location         0\n",
       "Cuisines         0\n",
       "Average_Cost     0\n",
       "Minimum_Order    0\n",
       "Rating           0\n",
       "Votes            0\n",
       "Reviews          0\n",
       "Delivery_Time    0\n",
       "dtype: int64"
      ]
     },
     "execution_count": 7,
     "metadata": {},
     "output_type": "execute_result"
    }
   ],
   "source": [
    "data.isnull().sum()"
   ]
  },
  {
   "cell_type": "markdown",
   "metadata": {},
   "source": [
    "# Average_Cost"
   ]
  },
  {
   "cell_type": "code",
   "execution_count": 8,
   "metadata": {},
   "outputs": [
    {
     "data": {
      "text/plain": [
       "₹200      3241\n",
       "₹100      2557\n",
       "₹150      2462\n",
       "₹250       881\n",
       "₹300       537\n",
       "₹350       283\n",
       "₹400       282\n",
       "₹50        265\n",
       "₹600       154\n",
       "₹500       101\n",
       "₹450        63\n",
       "₹550        60\n",
       "₹650        55\n",
       "₹800        44\n",
       "₹750        38\n",
       "₹900        15\n",
       "₹700        15\n",
       "₹1,000      12\n",
       "₹850        12\n",
       "₹1,200       8\n",
       "₹950         4\n",
       "₹1,150       1\n",
       "₹2,050       1\n",
       "₹1,400       1\n",
       "₹1,100       1\n",
       "for          1\n",
       "Name: Average_Cost, dtype: int64"
      ]
     },
     "execution_count": 8,
     "metadata": {},
     "output_type": "execute_result"
    }
   ],
   "source": [
    "data[\"Average_Cost\"].value_counts()"
   ]
  },
  {
   "cell_type": "code",
   "execution_count": 9,
   "metadata": {},
   "outputs": [],
   "source": [
    "data[\"Average_Cost\"] = data[\"Average_Cost\"].str.replace(\"₹\", \"\").str.replace(\",\", \"\").str.replace(\"for\", \"0\")"
   ]
  },
  {
   "cell_type": "code",
   "execution_count": 10,
   "metadata": {},
   "outputs": [
    {
     "data": {
      "text/plain": [
       "200     3241\n",
       "100     2557\n",
       "150     2462\n",
       "250      881\n",
       "300      537\n",
       "350      283\n",
       "400      282\n",
       "50       265\n",
       "600      154\n",
       "500      101\n",
       "450       63\n",
       "550       60\n",
       "650       55\n",
       "800       44\n",
       "750       38\n",
       "900       15\n",
       "700       15\n",
       "850       12\n",
       "1000      12\n",
       "1200       8\n",
       "950        4\n",
       "2050       1\n",
       "0          1\n",
       "1400       1\n",
       "1100       1\n",
       "1150       1\n",
       "Name: Average_Cost, dtype: int64"
      ]
     },
     "execution_count": 10,
     "metadata": {},
     "output_type": "execute_result"
    }
   ],
   "source": [
    "data[\"Average_Cost\"].value_counts()"
   ]
  },
  {
   "cell_type": "code",
   "execution_count": 11,
   "metadata": {},
   "outputs": [],
   "source": [
    "data[\"Average_Cost\"] = data[\"Average_Cost\"].astype(int)"
   ]
  },
  {
   "cell_type": "code",
   "execution_count": 12,
   "metadata": {},
   "outputs": [
    {
     "data": {
      "text/plain": [
       "Restaurant       object\n",
       "Location         object\n",
       "Cuisines         object\n",
       "Average_Cost      int64\n",
       "Minimum_Order    object\n",
       "Rating           object\n",
       "Votes            object\n",
       "Reviews          object\n",
       "Delivery_Time    object\n",
       "dtype: object"
      ]
     },
     "execution_count": 12,
     "metadata": {},
     "output_type": "execute_result"
    }
   ],
   "source": [
    "data.dtypes"
   ]
  },
  {
   "cell_type": "markdown",
   "metadata": {},
   "source": [
    "# Minimum_Order"
   ]
  },
  {
   "cell_type": "code",
   "execution_count": 13,
   "metadata": {},
   "outputs": [
    {
     "data": {
      "text/plain": [
       "₹50     10118\n",
       "₹99       779\n",
       "₹0        158\n",
       "₹200        8\n",
       "₹199        8\n",
       "₹59         3\n",
       "₹299        3\n",
       "₹350        3\n",
       "₹79         2\n",
       "₹450        2\n",
       "₹90         2\n",
       "₹300        2\n",
       "₹240        1\n",
       "₹400        1\n",
       "₹500        1\n",
       "₹150        1\n",
       "₹89         1\n",
       "₹250        1\n",
       "Name: Minimum_Order, dtype: int64"
      ]
     },
     "execution_count": 13,
     "metadata": {},
     "output_type": "execute_result"
    }
   ],
   "source": [
    "data[\"Minimum_Order\"].value_counts()"
   ]
  },
  {
   "cell_type": "code",
   "execution_count": 14,
   "metadata": {},
   "outputs": [],
   "source": [
    "data[\"Minimum_Order\"] = data[\"Minimum_Order\"].str.replace(\"₹\",\"\")"
   ]
  },
  {
   "cell_type": "code",
   "execution_count": 15,
   "metadata": {},
   "outputs": [],
   "source": [
    "data[\"Minimum_Order\"] = data[\"Minimum_Order\"].astype(int)"
   ]
  },
  {
   "cell_type": "code",
   "execution_count": 16,
   "metadata": {},
   "outputs": [
    {
     "data": {
      "text/plain": [
       "Restaurant       object\n",
       "Location         object\n",
       "Cuisines         object\n",
       "Average_Cost      int64\n",
       "Minimum_Order     int64\n",
       "Rating           object\n",
       "Votes            object\n",
       "Reviews          object\n",
       "Delivery_Time    object\n",
       "dtype: object"
      ]
     },
     "execution_count": 16,
     "metadata": {},
     "output_type": "execute_result"
    }
   ],
   "source": [
    "data.dtypes"
   ]
  },
  {
   "cell_type": "code",
   "execution_count": 17,
   "metadata": {},
   "outputs": [
    {
     "data": {
      "text/html": [
       "<div>\n",
       "<style scoped>\n",
       "    .dataframe tbody tr th:only-of-type {\n",
       "        vertical-align: middle;\n",
       "    }\n",
       "\n",
       "    .dataframe tbody tr th {\n",
       "        vertical-align: top;\n",
       "    }\n",
       "\n",
       "    .dataframe thead th {\n",
       "        text-align: right;\n",
       "    }\n",
       "</style>\n",
       "<table border=\"1\" class=\"dataframe\">\n",
       "  <thead>\n",
       "    <tr style=\"text-align: right;\">\n",
       "      <th></th>\n",
       "      <th>Restaurant</th>\n",
       "      <th>Location</th>\n",
       "      <th>Cuisines</th>\n",
       "      <th>Average_Cost</th>\n",
       "      <th>Minimum_Order</th>\n",
       "      <th>Rating</th>\n",
       "      <th>Votes</th>\n",
       "      <th>Reviews</th>\n",
       "      <th>Delivery_Time</th>\n",
       "    </tr>\n",
       "  </thead>\n",
       "  <tbody>\n",
       "    <tr>\n",
       "      <th>0</th>\n",
       "      <td>ID_6321</td>\n",
       "      <td>FTI College, Law College Road, Pune</td>\n",
       "      <td>Fast Food, Rolls, Burger, Salad, Wraps</td>\n",
       "      <td>200</td>\n",
       "      <td>50</td>\n",
       "      <td>3.5</td>\n",
       "      <td>12</td>\n",
       "      <td>4</td>\n",
       "      <td>30 minutes</td>\n",
       "    </tr>\n",
       "    <tr>\n",
       "      <th>1</th>\n",
       "      <td>ID_2882</td>\n",
       "      <td>Sector 3, Marathalli</td>\n",
       "      <td>Ice Cream, Desserts</td>\n",
       "      <td>100</td>\n",
       "      <td>50</td>\n",
       "      <td>3.5</td>\n",
       "      <td>11</td>\n",
       "      <td>4</td>\n",
       "      <td>30 minutes</td>\n",
       "    </tr>\n",
       "    <tr>\n",
       "      <th>2</th>\n",
       "      <td>ID_1595</td>\n",
       "      <td>Mumbai Central</td>\n",
       "      <td>Italian, Street Food, Fast Food</td>\n",
       "      <td>150</td>\n",
       "      <td>50</td>\n",
       "      <td>3.6</td>\n",
       "      <td>99</td>\n",
       "      <td>30</td>\n",
       "      <td>65 minutes</td>\n",
       "    </tr>\n",
       "    <tr>\n",
       "      <th>3</th>\n",
       "      <td>ID_5929</td>\n",
       "      <td>Sector 1, Noida</td>\n",
       "      <td>Mughlai, North Indian, Chinese</td>\n",
       "      <td>250</td>\n",
       "      <td>99</td>\n",
       "      <td>3.7</td>\n",
       "      <td>176</td>\n",
       "      <td>95</td>\n",
       "      <td>30 minutes</td>\n",
       "    </tr>\n",
       "    <tr>\n",
       "      <th>4</th>\n",
       "      <td>ID_6123</td>\n",
       "      <td>Rmz Centennial, I Gate, Whitefield</td>\n",
       "      <td>Cafe, Beverages</td>\n",
       "      <td>200</td>\n",
       "      <td>99</td>\n",
       "      <td>3.2</td>\n",
       "      <td>521</td>\n",
       "      <td>235</td>\n",
       "      <td>65 minutes</td>\n",
       "    </tr>\n",
       "  </tbody>\n",
       "</table>\n",
       "</div>"
      ],
      "text/plain": [
       "  Restaurant                             Location  \\\n",
       "0    ID_6321  FTI College, Law College Road, Pune   \n",
       "1    ID_2882                 Sector 3, Marathalli   \n",
       "2    ID_1595                       Mumbai Central   \n",
       "3    ID_5929                      Sector 1, Noida   \n",
       "4    ID_6123   Rmz Centennial, I Gate, Whitefield   \n",
       "\n",
       "                                 Cuisines  Average_Cost  Minimum_Order Rating  \\\n",
       "0  Fast Food, Rolls, Burger, Salad, Wraps           200             50    3.5   \n",
       "1                     Ice Cream, Desserts           100             50    3.5   \n",
       "2         Italian, Street Food, Fast Food           150             50    3.6   \n",
       "3          Mughlai, North Indian, Chinese           250             99    3.7   \n",
       "4                         Cafe, Beverages           200             99    3.2   \n",
       "\n",
       "  Votes Reviews Delivery_Time  \n",
       "0    12       4    30 minutes  \n",
       "1    11       4    30 minutes  \n",
       "2    99      30    65 minutes  \n",
       "3   176      95    30 minutes  \n",
       "4   521     235    65 minutes  "
      ]
     },
     "execution_count": 17,
     "metadata": {},
     "output_type": "execute_result"
    }
   ],
   "source": [
    "data.head()"
   ]
  },
  {
   "cell_type": "markdown",
   "metadata": {},
   "source": [
    "# Rating"
   ]
  },
  {
   "cell_type": "code",
   "execution_count": 18,
   "metadata": {},
   "outputs": [
    {
     "data": {
      "text/plain": [
       "-                     1191\n",
       "2.1                      1\n",
       "2.2                      1\n",
       "2.3                      6\n",
       "2.4                     13\n",
       "2.5                     27\n",
       "2.6                     42\n",
       "2.7                     76\n",
       "2.8                    157\n",
       "2.9                    199\n",
       "3.0                    302\n",
       "3.1                    411\n",
       "3.2                    511\n",
       "3.3                    675\n",
       "3.4                    718\n",
       "3.5                    818\n",
       "3.6                    846\n",
       "3.7                    869\n",
       "3.8                    800\n",
       "3.9                    749\n",
       "4.0                    614\n",
       "4.1                    459\n",
       "4.2                    272\n",
       "4.3                    247\n",
       "4.4                    142\n",
       "4.5                     78\n",
       "4.6                     41\n",
       "4.7                     36\n",
       "4.8                     13\n",
       "4.9                      8\n",
       "NEW                    758\n",
       "Opening Soon            12\n",
       "Temporarily Closed       2\n",
       "Name: Rating, dtype: int64"
      ]
     },
     "execution_count": 18,
     "metadata": {},
     "output_type": "execute_result"
    }
   ],
   "source": [
    "data[\"Rating\"].value_counts().sort_index()"
   ]
  },
  {
   "cell_type": "code",
   "execution_count": 19,
   "metadata": {},
   "outputs": [],
   "source": [
    "list_of_words = [\"Opening Soon\", \"Temporarily Closed\", \"-\", \"NEW\"]"
   ]
  },
  {
   "cell_type": "code",
   "execution_count": 20,
   "metadata": {},
   "outputs": [
    {
     "data": {
      "text/html": [
       "<div>\n",
       "<style scoped>\n",
       "    .dataframe tbody tr th:only-of-type {\n",
       "        vertical-align: middle;\n",
       "    }\n",
       "\n",
       "    .dataframe tbody tr th {\n",
       "        vertical-align: top;\n",
       "    }\n",
       "\n",
       "    .dataframe thead th {\n",
       "        text-align: right;\n",
       "    }\n",
       "</style>\n",
       "<table border=\"1\" class=\"dataframe\">\n",
       "  <thead>\n",
       "    <tr style=\"text-align: right;\">\n",
       "      <th></th>\n",
       "      <th>Restaurant</th>\n",
       "      <th>Location</th>\n",
       "      <th>Cuisines</th>\n",
       "      <th>Average_Cost</th>\n",
       "      <th>Minimum_Order</th>\n",
       "      <th>Rating</th>\n",
       "      <th>Votes</th>\n",
       "      <th>Reviews</th>\n",
       "      <th>Delivery_Time</th>\n",
       "    </tr>\n",
       "  </thead>\n",
       "  <tbody>\n",
       "    <tr>\n",
       "      <th>15</th>\n",
       "      <td>ID_6406</td>\n",
       "      <td>Moulali, Kolkata</td>\n",
       "      <td>Biryani, Mughlai</td>\n",
       "      <td>100</td>\n",
       "      <td>50</td>\n",
       "      <td>3.6</td>\n",
       "      <td>353</td>\n",
       "      <td>53</td>\n",
       "      <td>30 minutes</td>\n",
       "    </tr>\n",
       "    <tr>\n",
       "      <th>16</th>\n",
       "      <td>ID_2141</td>\n",
       "      <td>Sector 1, Noida</td>\n",
       "      <td>Italian</td>\n",
       "      <td>100</td>\n",
       "      <td>50</td>\n",
       "      <td>-</td>\n",
       "      <td>-</td>\n",
       "      <td>-</td>\n",
       "      <td>30 minutes</td>\n",
       "    </tr>\n",
       "    <tr>\n",
       "      <th>17</th>\n",
       "      <td>ID_3355</td>\n",
       "      <td>Dockyard Road, Mumbai CST Area</td>\n",
       "      <td>Chinese, North Indian, South Indian, Fast Food</td>\n",
       "      <td>200</td>\n",
       "      <td>50</td>\n",
       "      <td>3.7</td>\n",
       "      <td>139</td>\n",
       "      <td>47</td>\n",
       "      <td>30 minutes</td>\n",
       "    </tr>\n",
       "    <tr>\n",
       "      <th>18</th>\n",
       "      <td>ID_5262</td>\n",
       "      <td>Pune University</td>\n",
       "      <td>Kerala, Bihari</td>\n",
       "      <td>150</td>\n",
       "      <td>50</td>\n",
       "      <td>-</td>\n",
       "      <td>-</td>\n",
       "      <td>-</td>\n",
       "      <td>30 minutes</td>\n",
       "    </tr>\n",
       "    <tr>\n",
       "      <th>19</th>\n",
       "      <td>ID_8148</td>\n",
       "      <td>Gora Bazar, Rajbari, North Dumdum, Kolkata</td>\n",
       "      <td>South Indian</td>\n",
       "      <td>100</td>\n",
       "      <td>50</td>\n",
       "      <td>3.7</td>\n",
       "      <td>159</td>\n",
       "      <td>46</td>\n",
       "      <td>30 minutes</td>\n",
       "    </tr>\n",
       "  </tbody>\n",
       "</table>\n",
       "</div>"
      ],
      "text/plain": [
       "   Restaurant                                    Location  \\\n",
       "15    ID_6406                            Moulali, Kolkata   \n",
       "16    ID_2141                             Sector 1, Noida   \n",
       "17    ID_3355              Dockyard Road, Mumbai CST Area   \n",
       "18    ID_5262                             Pune University   \n",
       "19    ID_8148  Gora Bazar, Rajbari, North Dumdum, Kolkata   \n",
       "\n",
       "                                          Cuisines  Average_Cost  \\\n",
       "15                                Biryani, Mughlai           100   \n",
       "16                                         Italian           100   \n",
       "17  Chinese, North Indian, South Indian, Fast Food           200   \n",
       "18                                  Kerala, Bihari           150   \n",
       "19                                    South Indian           100   \n",
       "\n",
       "    Minimum_Order Rating Votes Reviews Delivery_Time  \n",
       "15             50    3.6   353      53    30 minutes  \n",
       "16             50      -     -       -    30 minutes  \n",
       "17             50    3.7   139      47    30 minutes  \n",
       "18             50      -     -       -    30 minutes  \n",
       "19             50    3.7   159      46    30 minutes  "
      ]
     },
     "execution_count": 20,
     "metadata": {},
     "output_type": "execute_result"
    }
   ],
   "source": [
    "data.iloc[15:20]"
   ]
  },
  {
   "cell_type": "code",
   "execution_count": 21,
   "metadata": {},
   "outputs": [
    {
     "data": {
      "text/plain": [
       "12         -\n",
       "16         -\n",
       "18         -\n",
       "25         -\n",
       "47       NEW\n",
       "        ... \n",
       "11082      -\n",
       "11084    NEW\n",
       "11085      -\n",
       "11086      -\n",
       "11093    NEW\n",
       "Name: Rating, Length: 1963, dtype: object"
      ]
     },
     "execution_count": 21,
     "metadata": {},
     "output_type": "execute_result"
    }
   ],
   "source": [
    "data['Rating'][data[\"Rating\"].isin(list_of_words)]"
   ]
  },
  {
   "cell_type": "code",
   "execution_count": 22,
   "metadata": {},
   "outputs": [
    {
     "name": "stderr",
     "output_type": "stream",
     "text": [
      "/opt/anaconda3/lib/python3.7/site-packages/ipykernel_launcher.py:1: SettingWithCopyWarning: \n",
      "A value is trying to be set on a copy of a slice from a DataFrame\n",
      "\n",
      "See the caveats in the documentation: https://pandas.pydata.org/pandas-docs/stable/user_guide/indexing.html#returning-a-view-versus-a-copy\n",
      "  \"\"\"Entry point for launching an IPython kernel.\n"
     ]
    }
   ],
   "source": [
    "data['Rating'][data[\"Rating\"].isin(list_of_words)] = np.nan"
   ]
  },
  {
   "cell_type": "code",
   "execution_count": 23,
   "metadata": {},
   "outputs": [
    {
     "data": {
      "text/plain": [
       "NaN    1963\n",
       "3.7     869\n",
       "3.6     846\n",
       "3.5     818\n",
       "3.8     800\n",
       "3.9     749\n",
       "3.4     718\n",
       "3.3     675\n",
       "4.0     614\n",
       "3.2     511\n",
       "4.1     459\n",
       "3.1     411\n",
       "3.0     302\n",
       "4.2     272\n",
       "4.3     247\n",
       "2.9     199\n",
       "2.8     157\n",
       "4.4     142\n",
       "4.5      78\n",
       "2.7      76\n",
       "2.6      42\n",
       "4.6      41\n",
       "4.7      36\n",
       "2.5      27\n",
       "4.8      13\n",
       "2.4      13\n",
       "4.9       8\n",
       "2.3       6\n",
       "2.2       1\n",
       "2.1       1\n",
       "Name: Rating, dtype: int64"
      ]
     },
     "execution_count": 23,
     "metadata": {},
     "output_type": "execute_result"
    }
   ],
   "source": [
    "data[\"Rating\"].value_counts(dropna = False)"
   ]
  },
  {
   "cell_type": "code",
   "execution_count": 24,
   "metadata": {},
   "outputs": [],
   "source": [
    "data[\"Rating\"].fillna(0,inplace = True)"
   ]
  },
  {
   "cell_type": "code",
   "execution_count": 25,
   "metadata": {},
   "outputs": [],
   "source": [
    "data['Rating']=data['Rating'].astype(float)"
   ]
  },
  {
   "cell_type": "code",
   "execution_count": 26,
   "metadata": {},
   "outputs": [
    {
     "data": {
      "text/plain": [
       "Restaurant        object\n",
       "Location          object\n",
       "Cuisines          object\n",
       "Average_Cost       int64\n",
       "Minimum_Order      int64\n",
       "Rating           float64\n",
       "Votes             object\n",
       "Reviews           object\n",
       "Delivery_Time     object\n",
       "dtype: object"
      ]
     },
     "execution_count": 26,
     "metadata": {},
     "output_type": "execute_result"
    }
   ],
   "source": [
    "data.dtypes"
   ]
  },
  {
   "cell_type": "markdown",
   "metadata": {},
   "source": [
    "# Votes"
   ]
  },
  {
   "cell_type": "code",
   "execution_count": 27,
   "metadata": {},
   "outputs": [
    {
     "data": {
      "text/plain": [
       "-       2074\n",
       "10       137\n",
       "100       30\n",
       "1000       3\n",
       "1008       4\n",
       "        ... \n",
       "99        19\n",
       "991        3\n",
       "992        1\n",
       "998        2\n",
       "999        2\n",
       "Name: Votes, Length: 1103, dtype: int64"
      ]
     },
     "execution_count": 27,
     "metadata": {},
     "output_type": "execute_result"
    }
   ],
   "source": [
    "data[\"Votes\"].value_counts().sort_index()"
   ]
  },
  {
   "cell_type": "code",
   "execution_count": 28,
   "metadata": {},
   "outputs": [],
   "source": [
    "data[\"Votes\"] = data[\"Votes\"].str.replace(\"-\", \"0\")"
   ]
  },
  {
   "cell_type": "code",
   "execution_count": 29,
   "metadata": {},
   "outputs": [
    {
     "data": {
      "text/plain": [
       "0       2074\n",
       "4        248\n",
       "6        200\n",
       "7        182\n",
       "9        181\n",
       "        ... \n",
       "1023       1\n",
       "1537       1\n",
       "1122       1\n",
       "3570       1\n",
       "3535       1\n",
       "Name: Votes, Length: 1103, dtype: int64"
      ]
     },
     "execution_count": 29,
     "metadata": {},
     "output_type": "execute_result"
    }
   ],
   "source": [
    "data[\"Votes\"].value_counts()"
   ]
  },
  {
   "cell_type": "code",
   "execution_count": 30,
   "metadata": {},
   "outputs": [],
   "source": [
    "data['Votes']=data['Votes'].astype(int)"
   ]
  },
  {
   "cell_type": "markdown",
   "metadata": {},
   "source": [
    "# Reviews"
   ]
  },
  {
   "cell_type": "code",
   "execution_count": 31,
   "metadata": {},
   "outputs": [
    {
     "data": {
      "text/plain": [
       "-       2312\n",
       "2        420\n",
       "3        387\n",
       "1        381\n",
       "4        356\n",
       "        ... \n",
       "2098       1\n",
       "781        1\n",
       "540        1\n",
       "1370       1\n",
       "461        1\n",
       "Name: Reviews, Length: 761, dtype: int64"
      ]
     },
     "execution_count": 31,
     "metadata": {},
     "output_type": "execute_result"
    }
   ],
   "source": [
    "data['Reviews'].value_counts()"
   ]
  },
  {
   "cell_type": "code",
   "execution_count": 32,
   "metadata": {},
   "outputs": [],
   "source": [
    "data['Reviews']=data['Reviews'].str.replace('-','0')"
   ]
  },
  {
   "cell_type": "code",
   "execution_count": 33,
   "metadata": {},
   "outputs": [
    {
     "data": {
      "text/plain": [
       "0       2312\n",
       "2        420\n",
       "3        387\n",
       "1        381\n",
       "4        356\n",
       "        ... \n",
       "937        1\n",
       "379        1\n",
       "2155       1\n",
       "417        1\n",
       "1673       1\n",
       "Name: Reviews, Length: 761, dtype: int64"
      ]
     },
     "execution_count": 33,
     "metadata": {},
     "output_type": "execute_result"
    }
   ],
   "source": [
    "data['Reviews'].value_counts()"
   ]
  },
  {
   "cell_type": "code",
   "execution_count": 34,
   "metadata": {},
   "outputs": [],
   "source": [
    "data['Reviews']=data['Reviews'].astype(int)"
   ]
  },
  {
   "cell_type": "code",
   "execution_count": 35,
   "metadata": {},
   "outputs": [
    {
     "data": {
      "text/plain": [
       "Restaurant        object\n",
       "Location          object\n",
       "Cuisines          object\n",
       "Average_Cost       int64\n",
       "Minimum_Order      int64\n",
       "Rating           float64\n",
       "Votes              int64\n",
       "Reviews            int64\n",
       "Delivery_Time     object\n",
       "dtype: object"
      ]
     },
     "execution_count": 35,
     "metadata": {},
     "output_type": "execute_result"
    }
   ],
   "source": [
    "data.dtypes"
   ]
  },
  {
   "cell_type": "code",
   "execution_count": 36,
   "metadata": {},
   "outputs": [
    {
     "data": {
      "text/html": [
       "<div>\n",
       "<style scoped>\n",
       "    .dataframe tbody tr th:only-of-type {\n",
       "        vertical-align: middle;\n",
       "    }\n",
       "\n",
       "    .dataframe tbody tr th {\n",
       "        vertical-align: top;\n",
       "    }\n",
       "\n",
       "    .dataframe thead th {\n",
       "        text-align: right;\n",
       "    }\n",
       "</style>\n",
       "<table border=\"1\" class=\"dataframe\">\n",
       "  <thead>\n",
       "    <tr style=\"text-align: right;\">\n",
       "      <th></th>\n",
       "      <th>Restaurant</th>\n",
       "      <th>Location</th>\n",
       "      <th>Cuisines</th>\n",
       "      <th>Average_Cost</th>\n",
       "      <th>Minimum_Order</th>\n",
       "      <th>Rating</th>\n",
       "      <th>Votes</th>\n",
       "      <th>Reviews</th>\n",
       "      <th>Delivery_Time</th>\n",
       "    </tr>\n",
       "  </thead>\n",
       "  <tbody>\n",
       "    <tr>\n",
       "      <th>0</th>\n",
       "      <td>ID_6321</td>\n",
       "      <td>FTI College, Law College Road, Pune</td>\n",
       "      <td>Fast Food, Rolls, Burger, Salad, Wraps</td>\n",
       "      <td>200</td>\n",
       "      <td>50</td>\n",
       "      <td>3.5</td>\n",
       "      <td>12</td>\n",
       "      <td>4</td>\n",
       "      <td>30 minutes</td>\n",
       "    </tr>\n",
       "    <tr>\n",
       "      <th>1</th>\n",
       "      <td>ID_2882</td>\n",
       "      <td>Sector 3, Marathalli</td>\n",
       "      <td>Ice Cream, Desserts</td>\n",
       "      <td>100</td>\n",
       "      <td>50</td>\n",
       "      <td>3.5</td>\n",
       "      <td>11</td>\n",
       "      <td>4</td>\n",
       "      <td>30 minutes</td>\n",
       "    </tr>\n",
       "    <tr>\n",
       "      <th>2</th>\n",
       "      <td>ID_1595</td>\n",
       "      <td>Mumbai Central</td>\n",
       "      <td>Italian, Street Food, Fast Food</td>\n",
       "      <td>150</td>\n",
       "      <td>50</td>\n",
       "      <td>3.6</td>\n",
       "      <td>99</td>\n",
       "      <td>30</td>\n",
       "      <td>65 minutes</td>\n",
       "    </tr>\n",
       "    <tr>\n",
       "      <th>3</th>\n",
       "      <td>ID_5929</td>\n",
       "      <td>Sector 1, Noida</td>\n",
       "      <td>Mughlai, North Indian, Chinese</td>\n",
       "      <td>250</td>\n",
       "      <td>99</td>\n",
       "      <td>3.7</td>\n",
       "      <td>176</td>\n",
       "      <td>95</td>\n",
       "      <td>30 minutes</td>\n",
       "    </tr>\n",
       "    <tr>\n",
       "      <th>4</th>\n",
       "      <td>ID_6123</td>\n",
       "      <td>Rmz Centennial, I Gate, Whitefield</td>\n",
       "      <td>Cafe, Beverages</td>\n",
       "      <td>200</td>\n",
       "      <td>99</td>\n",
       "      <td>3.2</td>\n",
       "      <td>521</td>\n",
       "      <td>235</td>\n",
       "      <td>65 minutes</td>\n",
       "    </tr>\n",
       "  </tbody>\n",
       "</table>\n",
       "</div>"
      ],
      "text/plain": [
       "  Restaurant                             Location  \\\n",
       "0    ID_6321  FTI College, Law College Road, Pune   \n",
       "1    ID_2882                 Sector 3, Marathalli   \n",
       "2    ID_1595                       Mumbai Central   \n",
       "3    ID_5929                      Sector 1, Noida   \n",
       "4    ID_6123   Rmz Centennial, I Gate, Whitefield   \n",
       "\n",
       "                                 Cuisines  Average_Cost  Minimum_Order  \\\n",
       "0  Fast Food, Rolls, Burger, Salad, Wraps           200             50   \n",
       "1                     Ice Cream, Desserts           100             50   \n",
       "2         Italian, Street Food, Fast Food           150             50   \n",
       "3          Mughlai, North Indian, Chinese           250             99   \n",
       "4                         Cafe, Beverages           200             99   \n",
       "\n",
       "   Rating  Votes  Reviews Delivery_Time  \n",
       "0     3.5     12        4    30 minutes  \n",
       "1     3.5     11        4    30 minutes  \n",
       "2     3.6     99       30    65 minutes  \n",
       "3     3.7    176       95    30 minutes  \n",
       "4     3.2    521      235    65 minutes  "
      ]
     },
     "execution_count": 36,
     "metadata": {},
     "output_type": "execute_result"
    }
   ],
   "source": [
    "data.head()"
   ]
  },
  {
   "cell_type": "markdown",
   "metadata": {},
   "source": [
    "# Creating Area from Location"
   ]
  },
  {
   "cell_type": "code",
   "execution_count": 37,
   "metadata": {},
   "outputs": [],
   "source": [
    "data[\"Area\"] = data[\"Location\"].str.split(\",\").str[-1]"
   ]
  },
  {
   "cell_type": "code",
   "execution_count": 38,
   "metadata": {},
   "outputs": [
    {
     "data": {
      "text/html": [
       "<div>\n",
       "<style scoped>\n",
       "    .dataframe tbody tr th:only-of-type {\n",
       "        vertical-align: middle;\n",
       "    }\n",
       "\n",
       "    .dataframe tbody tr th {\n",
       "        vertical-align: top;\n",
       "    }\n",
       "\n",
       "    .dataframe thead th {\n",
       "        text-align: right;\n",
       "    }\n",
       "</style>\n",
       "<table border=\"1\" class=\"dataframe\">\n",
       "  <thead>\n",
       "    <tr style=\"text-align: right;\">\n",
       "      <th></th>\n",
       "      <th>Restaurant</th>\n",
       "      <th>Location</th>\n",
       "      <th>Cuisines</th>\n",
       "      <th>Average_Cost</th>\n",
       "      <th>Minimum_Order</th>\n",
       "      <th>Rating</th>\n",
       "      <th>Votes</th>\n",
       "      <th>Reviews</th>\n",
       "      <th>Delivery_Time</th>\n",
       "      <th>Area</th>\n",
       "    </tr>\n",
       "  </thead>\n",
       "  <tbody>\n",
       "    <tr>\n",
       "      <th>0</th>\n",
       "      <td>ID_6321</td>\n",
       "      <td>FTI College, Law College Road, Pune</td>\n",
       "      <td>Fast Food, Rolls, Burger, Salad, Wraps</td>\n",
       "      <td>200</td>\n",
       "      <td>50</td>\n",
       "      <td>3.5</td>\n",
       "      <td>12</td>\n",
       "      <td>4</td>\n",
       "      <td>30 minutes</td>\n",
       "      <td>Pune</td>\n",
       "    </tr>\n",
       "    <tr>\n",
       "      <th>1</th>\n",
       "      <td>ID_2882</td>\n",
       "      <td>Sector 3, Marathalli</td>\n",
       "      <td>Ice Cream, Desserts</td>\n",
       "      <td>100</td>\n",
       "      <td>50</td>\n",
       "      <td>3.5</td>\n",
       "      <td>11</td>\n",
       "      <td>4</td>\n",
       "      <td>30 minutes</td>\n",
       "      <td>Marathalli</td>\n",
       "    </tr>\n",
       "    <tr>\n",
       "      <th>2</th>\n",
       "      <td>ID_1595</td>\n",
       "      <td>Mumbai Central</td>\n",
       "      <td>Italian, Street Food, Fast Food</td>\n",
       "      <td>150</td>\n",
       "      <td>50</td>\n",
       "      <td>3.6</td>\n",
       "      <td>99</td>\n",
       "      <td>30</td>\n",
       "      <td>65 minutes</td>\n",
       "      <td>Mumbai Central</td>\n",
       "    </tr>\n",
       "    <tr>\n",
       "      <th>3</th>\n",
       "      <td>ID_5929</td>\n",
       "      <td>Sector 1, Noida</td>\n",
       "      <td>Mughlai, North Indian, Chinese</td>\n",
       "      <td>250</td>\n",
       "      <td>99</td>\n",
       "      <td>3.7</td>\n",
       "      <td>176</td>\n",
       "      <td>95</td>\n",
       "      <td>30 minutes</td>\n",
       "      <td>Noida</td>\n",
       "    </tr>\n",
       "    <tr>\n",
       "      <th>4</th>\n",
       "      <td>ID_6123</td>\n",
       "      <td>Rmz Centennial, I Gate, Whitefield</td>\n",
       "      <td>Cafe, Beverages</td>\n",
       "      <td>200</td>\n",
       "      <td>99</td>\n",
       "      <td>3.2</td>\n",
       "      <td>521</td>\n",
       "      <td>235</td>\n",
       "      <td>65 minutes</td>\n",
       "      <td>Whitefield</td>\n",
       "    </tr>\n",
       "  </tbody>\n",
       "</table>\n",
       "</div>"
      ],
      "text/plain": [
       "  Restaurant                             Location  \\\n",
       "0    ID_6321  FTI College, Law College Road, Pune   \n",
       "1    ID_2882                 Sector 3, Marathalli   \n",
       "2    ID_1595                       Mumbai Central   \n",
       "3    ID_5929                      Sector 1, Noida   \n",
       "4    ID_6123   Rmz Centennial, I Gate, Whitefield   \n",
       "\n",
       "                                 Cuisines  Average_Cost  Minimum_Order  \\\n",
       "0  Fast Food, Rolls, Burger, Salad, Wraps           200             50   \n",
       "1                     Ice Cream, Desserts           100             50   \n",
       "2         Italian, Street Food, Fast Food           150             50   \n",
       "3          Mughlai, North Indian, Chinese           250             99   \n",
       "4                         Cafe, Beverages           200             99   \n",
       "\n",
       "   Rating  Votes  Reviews Delivery_Time            Area  \n",
       "0     3.5     12        4    30 minutes            Pune  \n",
       "1     3.5     11        4    30 minutes      Marathalli  \n",
       "2     3.6     99       30    65 minutes  Mumbai Central  \n",
       "3     3.7    176       95    30 minutes           Noida  \n",
       "4     3.2    521      235    65 minutes      Whitefield  "
      ]
     },
     "execution_count": 38,
     "metadata": {},
     "output_type": "execute_result"
    }
   ],
   "source": [
    "data.head()"
   ]
  },
  {
   "cell_type": "markdown",
   "metadata": {},
   "source": [
    "# Restaurant"
   ]
  },
  {
   "cell_type": "code",
   "execution_count": 39,
   "metadata": {},
   "outputs": [
    {
     "data": {
      "text/plain": [
       "7480"
      ]
     },
     "execution_count": 39,
     "metadata": {},
     "output_type": "execute_result"
    }
   ],
   "source": [
    "data['Restaurant'].nunique()"
   ]
  },
  {
   "cell_type": "code",
   "execution_count": 40,
   "metadata": {},
   "outputs": [],
   "source": [
    "from sklearn.preprocessing import LabelEncoder\n",
    "lb = LabelEncoder()"
   ]
  },
  {
   "cell_type": "code",
   "execution_count": 41,
   "metadata": {},
   "outputs": [],
   "source": [
    "# map function will check for index in Series data (encoded) so we have specified index in Series\n",
    "mean_average_cost = data.pivot_table(index = [\"Restaurant\"],values = \"Average_Cost\")\n",
    "encoded = pd.Series(data = lb.fit_transform(mean_average_cost[\"Average_Cost\"]), index = mean_average_cost.index)\n",
    "data[\"Restaurant\"] = data[\"Restaurant\"].map(encoded)"
   ]
  },
  {
   "cell_type": "code",
   "execution_count": 42,
   "metadata": {},
   "outputs": [
    {
     "data": {
      "text/html": [
       "<div>\n",
       "<style scoped>\n",
       "    .dataframe tbody tr th:only-of-type {\n",
       "        vertical-align: middle;\n",
       "    }\n",
       "\n",
       "    .dataframe tbody tr th {\n",
       "        vertical-align: top;\n",
       "    }\n",
       "\n",
       "    .dataframe thead th {\n",
       "        text-align: right;\n",
       "    }\n",
       "</style>\n",
       "<table border=\"1\" class=\"dataframe\">\n",
       "  <thead>\n",
       "    <tr style=\"text-align: right;\">\n",
       "      <th></th>\n",
       "      <th>Restaurant</th>\n",
       "      <th>Location</th>\n",
       "      <th>Cuisines</th>\n",
       "      <th>Average_Cost</th>\n",
       "      <th>Minimum_Order</th>\n",
       "      <th>Rating</th>\n",
       "      <th>Votes</th>\n",
       "      <th>Reviews</th>\n",
       "      <th>Delivery_Time</th>\n",
       "      <th>Area</th>\n",
       "    </tr>\n",
       "  </thead>\n",
       "  <tbody>\n",
       "    <tr>\n",
       "      <th>0</th>\n",
       "      <td>33</td>\n",
       "      <td>FTI College, Law College Road, Pune</td>\n",
       "      <td>Fast Food, Rolls, Burger, Salad, Wraps</td>\n",
       "      <td>200</td>\n",
       "      <td>50</td>\n",
       "      <td>3.5</td>\n",
       "      <td>12</td>\n",
       "      <td>4</td>\n",
       "      <td>30 minutes</td>\n",
       "      <td>Pune</td>\n",
       "    </tr>\n",
       "    <tr>\n",
       "      <th>1</th>\n",
       "      <td>3</td>\n",
       "      <td>Sector 3, Marathalli</td>\n",
       "      <td>Ice Cream, Desserts</td>\n",
       "      <td>100</td>\n",
       "      <td>50</td>\n",
       "      <td>3.5</td>\n",
       "      <td>11</td>\n",
       "      <td>4</td>\n",
       "      <td>30 minutes</td>\n",
       "      <td>Marathalli</td>\n",
       "    </tr>\n",
       "    <tr>\n",
       "      <th>2</th>\n",
       "      <td>15</td>\n",
       "      <td>Mumbai Central</td>\n",
       "      <td>Italian, Street Food, Fast Food</td>\n",
       "      <td>150</td>\n",
       "      <td>50</td>\n",
       "      <td>3.6</td>\n",
       "      <td>99</td>\n",
       "      <td>30</td>\n",
       "      <td>65 minutes</td>\n",
       "      <td>Mumbai Central</td>\n",
       "    </tr>\n",
       "    <tr>\n",
       "      <th>3</th>\n",
       "      <td>49</td>\n",
       "      <td>Sector 1, Noida</td>\n",
       "      <td>Mughlai, North Indian, Chinese</td>\n",
       "      <td>250</td>\n",
       "      <td>99</td>\n",
       "      <td>3.7</td>\n",
       "      <td>176</td>\n",
       "      <td>95</td>\n",
       "      <td>30 minutes</td>\n",
       "      <td>Noida</td>\n",
       "    </tr>\n",
       "    <tr>\n",
       "      <th>4</th>\n",
       "      <td>33</td>\n",
       "      <td>Rmz Centennial, I Gate, Whitefield</td>\n",
       "      <td>Cafe, Beverages</td>\n",
       "      <td>200</td>\n",
       "      <td>99</td>\n",
       "      <td>3.2</td>\n",
       "      <td>521</td>\n",
       "      <td>235</td>\n",
       "      <td>65 minutes</td>\n",
       "      <td>Whitefield</td>\n",
       "    </tr>\n",
       "  </tbody>\n",
       "</table>\n",
       "</div>"
      ],
      "text/plain": [
       "   Restaurant                             Location  \\\n",
       "0          33  FTI College, Law College Road, Pune   \n",
       "1           3                 Sector 3, Marathalli   \n",
       "2          15                       Mumbai Central   \n",
       "3          49                      Sector 1, Noida   \n",
       "4          33   Rmz Centennial, I Gate, Whitefield   \n",
       "\n",
       "                                 Cuisines  Average_Cost  Minimum_Order  \\\n",
       "0  Fast Food, Rolls, Burger, Salad, Wraps           200             50   \n",
       "1                     Ice Cream, Desserts           100             50   \n",
       "2         Italian, Street Food, Fast Food           150             50   \n",
       "3          Mughlai, North Indian, Chinese           250             99   \n",
       "4                         Cafe, Beverages           200             99   \n",
       "\n",
       "   Rating  Votes  Reviews Delivery_Time            Area  \n",
       "0     3.5     12        4    30 minutes            Pune  \n",
       "1     3.5     11        4    30 minutes      Marathalli  \n",
       "2     3.6     99       30    65 minutes  Mumbai Central  \n",
       "3     3.7    176       95    30 minutes           Noida  \n",
       "4     3.2    521      235    65 minutes      Whitefield  "
      ]
     },
     "execution_count": 42,
     "metadata": {},
     "output_type": "execute_result"
    }
   ],
   "source": [
    "data.head()"
   ]
  },
  {
   "cell_type": "markdown",
   "metadata": {},
   "source": [
    "# Area"
   ]
  },
  {
   "cell_type": "code",
   "execution_count": 43,
   "metadata": {},
   "outputs": [
    {
     "data": {
      "text/plain": [
       "22"
      ]
     },
     "execution_count": 43,
     "metadata": {},
     "output_type": "execute_result"
    }
   ],
   "source": [
    "data[\"Area\"].nunique()"
   ]
  },
  {
   "cell_type": "code",
   "execution_count": 44,
   "metadata": {},
   "outputs": [],
   "source": [
    "dic_area_count = data[\"Area\"].value_counts().to_dict()\n",
    "data[\"Area\"] = data[\"Area\"].map(dic_area_count)"
   ]
  },
  {
   "cell_type": "code",
   "execution_count": 45,
   "metadata": {},
   "outputs": [
    {
     "data": {
      "text/plain": [
       "{' Noida': 2086,\n",
       " ' Pune': 1358,\n",
       " 'Bangalore': 947,\n",
       " ' Mumbai CST Area': 661,\n",
       " ' Kolkata': 546,\n",
       " 'Delhi University-GTB Nagar': 545,\n",
       " ' Gurgoan': 493,\n",
       " ' Timarpur': 472,\n",
       " 'Mumbai Central': 459,\n",
       " ' Whitefield': 457,\n",
       " ' India Gate': 411,\n",
       " ' Marathalli': 366,\n",
       " 'Majestic': 334,\n",
       " 'Delhi Cantt.': 326,\n",
       " ' Maharashtra': 307,\n",
       " ' Hyderabad': 294,\n",
       " ' Delhi': 282,\n",
       " 'Pune University': 278,\n",
       " 'Gurgaon': 260,\n",
       " ' Mumbai': 109,\n",
       " ' Begumpet': 81,\n",
       " ' Electronic City': 22}"
      ]
     },
     "execution_count": 45,
     "metadata": {},
     "output_type": "execute_result"
    }
   ],
   "source": [
    "dic_area_count"
   ]
  },
  {
   "cell_type": "markdown",
   "metadata": {},
   "source": [
    "# Cuisines"
   ]
  },
  {
   "cell_type": "code",
   "execution_count": 46,
   "metadata": {},
   "outputs": [
    {
     "data": {
      "text/plain": [
       "2179"
      ]
     },
     "execution_count": 46,
     "metadata": {},
     "output_type": "execute_result"
    }
   ],
   "source": [
    "data[\"Cuisines\"].nunique()"
   ]
  },
  {
   "cell_type": "code",
   "execution_count": 47,
   "metadata": {},
   "outputs": [],
   "source": [
    "dic_foodorders = data[\"Cuisines\"].value_counts().to_dict()\n",
    "data[\"Cuisines\"] =data[\"Cuisines\"].map(dic_foodorders)"
   ]
  },
  {
   "cell_type": "code",
   "execution_count": 48,
   "metadata": {},
   "outputs": [
    {
     "data": {
      "text/plain": [
       "{'North Indian': 850,\n",
       " 'North Indian, Chinese': 614,\n",
       " 'Fast Food': 434,\n",
       " 'South Indian': 270,\n",
       " 'Chinese': 245,\n",
       " 'Street Food': 181,\n",
       " 'Bakery, Desserts': 171,\n",
       " 'Bakery': 168,\n",
       " 'North Indian, Mughlai': 155,\n",
       " 'Pizza, Fast Food': 133,\n",
       " 'Chinese, North Indian': 125,\n",
       " 'Fast Food, Beverages': 114,\n",
       " 'North Indian, Fast Food': 113,\n",
       " 'North Indian, Chinese, Fast Food': 104,\n",
       " 'Biryani': 103,\n",
       " 'Desserts': 100,\n",
       " 'Biryani, North Indian': 89,\n",
       " 'Desserts, Beverages': 89,\n",
       " 'North Indian, Mughlai, Chinese': 83,\n",
       " 'North Indian, Chinese, Mughlai': 78,\n",
       " 'Mithai, Street Food': 73,\n",
       " 'Bakery, Fast Food': 71,\n",
       " 'Chinese, Fast Food': 68,\n",
       " 'Beverages': 68,\n",
       " 'North Indian, South Indian, Chinese': 67,\n",
       " 'South Indian, North Indian, Chinese': 66,\n",
       " 'Burger, Fast Food': 63,\n",
       " 'Ice Cream, Desserts': 61,\n",
       " 'North Indian, Chinese, Biryani': 58,\n",
       " 'Rolls': 57,\n",
       " 'Fast Food, Chinese': 57,\n",
       " 'North Indian, South Indian': 53,\n",
       " 'Beverages, Fast Food': 53,\n",
       " 'Ice Cream': 52,\n",
       " 'Cafe': 52,\n",
       " 'South Indian, Chinese': 49,\n",
       " 'Pizza': 47,\n",
       " 'Mithai': 46,\n",
       " 'Bakery, Desserts, Fast Food': 46,\n",
       " 'Healthy Food': 43,\n",
       " 'North Indian, Chinese, South Indian': 42,\n",
       " 'Desserts, Ice Cream': 41,\n",
       " 'Chinese, Momos': 40,\n",
       " 'Cafe, Fast Food': 40,\n",
       " 'South Indian, North Indian': 39,\n",
       " 'North Indian, Biryani': 39,\n",
       " 'Fast Food, North Indian': 36,\n",
       " 'North Indian, Rolls': 35,\n",
       " 'North Indian, Street Food': 34,\n",
       " 'Beverages, Desserts': 34,\n",
       " 'Rolls, Fast Food': 33,\n",
       " 'Mughlai, North Indian': 33,\n",
       " 'North Indian, Chinese, Rolls': 32,\n",
       " 'Maharashtrian': 28,\n",
       " 'Ice Cream, Beverages': 28,\n",
       " 'North Indian, Beverages': 28,\n",
       " 'Fast Food, Street Food': 27,\n",
       " 'Fast Food, Rolls': 27,\n",
       " 'Street Food, Fast Food': 25,\n",
       " 'Biryani, North Indian, Mughlai': 24,\n",
       " 'Burger, Fast Food, Beverages': 24,\n",
       " 'Desserts, Bakery': 24,\n",
       " 'Chinese, Thai': 24,\n",
       " 'Momos': 23,\n",
       " 'Mishti': 23,\n",
       " 'Pizza, Italian': 23,\n",
       " 'Mughlai': 22,\n",
       " 'Fast Food, Pizza': 22,\n",
       " 'Fast Food, Desserts': 22,\n",
       " 'Biryani, North Indian, Chinese': 21,\n",
       " 'Beverages, Desserts, Ice Cream': 21,\n",
       " 'North Indian, Chinese, Seafood': 21,\n",
       " 'Momos, Fast Food': 20,\n",
       " 'Biryani, Mughlai': 19,\n",
       " 'Biryani, Hyderabadi, North Indian, Mughlai': 19,\n",
       " 'South Indian, Fast Food': 19,\n",
       " 'Mithai, Fast Food': 18,\n",
       " 'North Indian, Chinese, Continental': 18,\n",
       " 'Paan': 18,\n",
       " 'Chinese, North Indian, Mughlai': 18,\n",
       " 'Lebanese': 18,\n",
       " 'Chinese, Mughlai, North Indian': 17,\n",
       " 'Juices': 17,\n",
       " 'Beverages, Ice Cream': 17,\n",
       " 'Cafe, Desserts': 17,\n",
       " 'North Indian, Chinese, Street Food': 16,\n",
       " 'Bakery, Desserts, Ice Cream': 16,\n",
       " 'Ice Cream, Desserts, Beverages': 16,\n",
       " 'Biryani, Kebab': 16,\n",
       " 'Juices, Beverages': 16,\n",
       " 'Mughlai, North Indian, Chinese': 16,\n",
       " 'North Indian, Fast Food, Chinese': 16,\n",
       " 'Fast Food, Desserts, Beverages': 16,\n",
       " 'South Indian, Beverages': 16,\n",
       " 'North Indian, Chinese, South Indian, Fast Food': 15,\n",
       " 'South Indian, Street Food': 15,\n",
       " 'Burger': 15,\n",
       " 'Fast Food, Chinese, North Indian': 15,\n",
       " 'Bengali': 15,\n",
       " 'Street Food, Mithai': 15,\n",
       " 'Desserts, Fast Food': 15,\n",
       " 'Biryani, Chinese, North Indian': 15,\n",
       " 'Chinese, Rolls': 15,\n",
       " 'Beverages, Juices': 14,\n",
       " 'Asian, Biryani, North Indian, Desserts': 14,\n",
       " 'Chinese, Mughlai': 14,\n",
       " 'North Indian, South Indian, Chinese, Fast Food': 14,\n",
       " 'Fast Food, Sandwich': 14,\n",
       " 'Desserts, Ice Cream, Beverages': 14,\n",
       " 'Cafe, Beverages': 14,\n",
       " 'Chinese, North Indian, Fast Food': 13,\n",
       " 'North Indian, Mughlai, Kebab': 13,\n",
       " 'Fast Food, Healthy Food, Sandwich, Salad': 13,\n",
       " 'South Indian, North Indian, Chinese, Street Food': 13,\n",
       " 'South Indian, North Indian, Chinese, Fast Food': 13,\n",
       " 'Italian, Fast Food': 12,\n",
       " 'Biryani, Chinese': 12,\n",
       " 'Bakery, Fast Food, Desserts': 12,\n",
       " 'Chinese, North Indian, South Indian, Fast Food': 12,\n",
       " 'Bengali, North Indian': 11,\n",
       " 'Fast Food, North Eastern, Momos': 11,\n",
       " 'North Indian, Mughlai, Biryani': 11,\n",
       " 'Cafe, Chinese': 11,\n",
       " 'Desserts, Beverages, Ice Cream': 11,\n",
       " 'Cafe, Fast Food, Beverages': 11,\n",
       " 'Coffee, Cafe, Fast Food, Desserts, Beverages': 11,\n",
       " 'Fast Food, South Indian': 11,\n",
       " 'Fast Food, Street Food, Beverages': 11,\n",
       " 'Sandwich, Fast Food': 11,\n",
       " 'Chinese, Asian': 11,\n",
       " 'Street Food, Beverages': 11,\n",
       " 'Rolls, North Indian': 11,\n",
       " 'Street Food, South Indian': 11,\n",
       " 'Fast Food, North Indian, Biryani, Rolls, Wraps': 11,\n",
       " 'Fast Food, Burger': 10,\n",
       " 'Wraps, Healthy Food, Sandwich, Salad': 10,\n",
       " 'Ice Cream, Desserts, Fast Food': 10,\n",
       " 'Italian, Pizza': 10,\n",
       " 'North Indian, Biryani, Chinese': 10,\n",
       " 'Healthy Food, North Indian, Biryani, Continental, Beverages': 10,\n",
       " 'Burger, American, Fast Food': 10,\n",
       " 'North Indian, Chinese, Continental, Italian': 10,\n",
       " 'Sandwich': 10,\n",
       " 'Pizza, Fast Food, Italian': 10,\n",
       " 'Japanese, Sushi': 10,\n",
       " 'South Indian, Chinese, North Indian': 10,\n",
       " 'North Eastern, Momos, Fast Food, Beverages, Tibetan': 9,\n",
       " 'Italian, Mexican': 9,\n",
       " 'Pizza, Italian, Beverages': 9,\n",
       " 'Fast Food, Bakery': 9,\n",
       " 'Chinese, Thai, Asian': 9,\n",
       " 'Burger, Fast Food, Desserts, Beverages': 9,\n",
       " 'Chinese, Fast Food, North Indian': 9,\n",
       " 'Pizza, Italian, Fast Food': 8,\n",
       " 'South Indian, North Indian, Chinese, Beverages': 8,\n",
       " 'North Indian, South Indian, Beverages, Desserts': 8,\n",
       " 'Tea, Fast Food': 8,\n",
       " 'Chinese, North Indian, Biryani': 8,\n",
       " 'North Indian, Continental': 8,\n",
       " 'Fast Food, Italian, Beverages': 8,\n",
       " 'Rolls, Chinese': 8,\n",
       " 'Mughlai, Biryani': 8,\n",
       " 'Fast Food, Burger, Beverages': 8,\n",
       " 'North Indian, South Indian, Fast Food': 8,\n",
       " 'Italian': 8,\n",
       " 'Chinese, North Indian, South Indian': 8,\n",
       " 'Andhra, Biryani': 8,\n",
       " 'Fast Food, Ice Cream, Beverages': 8,\n",
       " 'Kerala': 8,\n",
       " 'Beverages, Tea, Fast Food': 7,\n",
       " 'North Indian, Chinese, Momos': 7,\n",
       " 'Chinese, Seafood': 7,\n",
       " 'Juices, Fast Food': 7,\n",
       " 'North Indian, Chinese, Bengali': 7,\n",
       " 'Biryani, North Indian, Rolls': 7,\n",
       " 'Pizza, Fast Food, Beverages': 7,\n",
       " 'North Indian, Chinese, Italian': 7,\n",
       " 'Mishti, Street Food': 7,\n",
       " 'Asian': 7,\n",
       " 'North Indian, Continental, Chinese': 7,\n",
       " 'Cafe, Fast Food, Desserts, Beverages': 7,\n",
       " 'American, Fast Food': 7,\n",
       " 'Andhra': 7,\n",
       " 'Street Food, North Indian': 7,\n",
       " 'Fast Food, American': 7,\n",
       " 'BBQ': 6,\n",
       " 'North Indian, Mughlai, Beverages': 6,\n",
       " 'Street Food, Fast Food, Beverages': 6,\n",
       " 'Cafe, Fast Food, Beverages, Desserts, Tea': 6,\n",
       " 'Andhra, North Indian, Chinese': 6,\n",
       " 'Cafe, Italian': 6,\n",
       " 'Biryani, Hyderabadi': 6,\n",
       " 'Beverages, Juices, Fast Food': 6,\n",
       " 'Chinese, Beverages': 6,\n",
       " 'Continental, Fast Food': 6,\n",
       " 'North Indian, Biryani, Mughlai, Kebab': 6,\n",
       " 'North Indian, Fast Food, Beverages': 6,\n",
       " 'Kebab': 6,\n",
       " 'Sandwich, Fast Food, Beverages': 6,\n",
       " 'North Indian, Street Food, Chinese': 6,\n",
       " 'Beverages, Street Food': 6,\n",
       " 'Chinese, Fast Food, Beverages': 6,\n",
       " 'Fast Food, North Indian, Beverages': 6,\n",
       " 'Cafe, Continental': 6,\n",
       " 'Bengali, Chinese, North Indian': 6,\n",
       " 'Fast Food, Healthy Food': 6,\n",
       " 'Tea, Beverages, Fast Food': 6,\n",
       " 'North Indian, Fast Food, Biryani, Rolls, Wraps': 6,\n",
       " 'Fast Food, North Indian, Chinese': 6,\n",
       " 'Mithai, Bakery': 6,\n",
       " 'Continental': 6,\n",
       " 'Healthy Food, Salad, Juices': 6,\n",
       " 'North Indian, Maharashtrian': 6,\n",
       " 'North Indian, Chinese, Beverages': 6,\n",
       " 'Mithai, North Indian, Street Food': 5,\n",
       " 'North Indian, Hyderabadi': 5,\n",
       " 'North Indian, Chinese, Fast Food, Mughlai': 5,\n",
       " 'Cafe, Italian, Continental': 5,\n",
       " 'Fast Food, Chinese, Beverages': 5,\n",
       " 'Chinese, Thai, Seafood': 5,\n",
       " 'Street Food, Desserts': 5,\n",
       " 'Biryani, Mughlai, North Indian': 5,\n",
       " 'Chinese, Continental, Italian, Healthy Food, Asian, North Indian, Pizza, Desserts': 5,\n",
       " 'Desserts, Beverages, Fast Food': 5,\n",
       " 'North Indian, Thai, Goan, Mughlai, Seafood': 5,\n",
       " 'Mithai, Bakery, Fast Food': 5,\n",
       " 'South Indian, Fast Food, North Indian': 5,\n",
       " 'North Indian, Italian, Continental, Lebanese, Desserts, Beverages': 5,\n",
       " 'Healthy Food, Fast Food': 5,\n",
       " 'Bengali, Fast Food': 5,\n",
       " 'Continental, North Indian, Desserts, Beverages': 5,\n",
       " 'Mithai, North Indian': 5,\n",
       " 'Burger, Fast Food, Beverages, Cafe, Desserts': 5,\n",
       " 'Ice Cream, Fast Food': 5,\n",
       " 'Fast Food, Mughlai': 5,\n",
       " 'Italian, Continental': 5,\n",
       " 'Continental, Fast Food, Beverages': 5,\n",
       " 'Pizza, Beverages': 5,\n",
       " 'Mexican, Italian': 5,\n",
       " 'Cafe, Beverages, Sandwich, Fast Food': 5,\n",
       " 'Chinese, South Indian': 5,\n",
       " 'Tibetan, Momos': 5,\n",
       " 'Burger, Pizza, Fast Food': 5,\n",
       " 'North Indian, Chinese, Momos, Rolls': 5,\n",
       " 'Street Food, Mishti': 5,\n",
       " 'Bakery, Desserts, Beverages': 5,\n",
       " 'Asian, Continental, North Indian': 5,\n",
       " 'Tibetan': 5,\n",
       " 'Ice Cream, Beverages, Fast Food': 5,\n",
       " 'Biryani, Fast Food': 5,\n",
       " 'Chinese, Biryani': 5,\n",
       " 'North Indian, Chinese, Rolls, Momos': 5,\n",
       " 'Fast Food, Italian': 5,\n",
       " 'Continental, North Indian, Mughlai, Italian, Asian': 5,\n",
       " 'North Indian, Mughlai, Rolls': 5,\n",
       " 'Chinese, North Indian, Rolls': 5,\n",
       " 'Mexican, Fast Food': 5,\n",
       " 'Fast Food, Rolls, Beverages': 5,\n",
       " 'Rolls, Momos': 5,\n",
       " 'North Indian, South Indian, Continental': 5,\n",
       " 'Fast Food, Ice Cream': 5,\n",
       " 'Mishti, Fast Food, South Indian': 5,\n",
       " 'North Indian, Chinese, Odia': 5,\n",
       " 'North Indian, Chinese, Fast Food, South Indian': 5,\n",
       " 'Lebanese, Fast Food': 5,\n",
       " 'Fast Food, Lebanese': 5,\n",
       " 'Healthy Food, Continental': 5,\n",
       " 'Mithai, Street Food, South Indian, North Indian, Chinese, Bakery': 4,\n",
       " 'Biryani, Kebab, North Indian': 4,\n",
       " 'Cafe, Beverages, Sandwich, Fast Food, Desserts': 4,\n",
       " 'Street Food, Juices, Desserts': 4,\n",
       " 'Kerala, South Indian, Chinese': 4,\n",
       " 'Street Food, Biryani, North Indian, Chinese': 4,\n",
       " 'Fast Food, Coffee': 4,\n",
       " 'Street Food, Fast Food, North Indian': 4,\n",
       " 'Asian, Chinese, Thai': 4,\n",
       " 'Pizza, Burger, Rolls, Sandwich': 4,\n",
       " 'Cafe, Italian, Bakery': 4,\n",
       " 'Mishti, Fast Food': 4,\n",
       " 'North Indian, Biryani, Kebab, BBQ': 4,\n",
       " 'Healthy Food, Salad': 4,\n",
       " 'Chinese, North Indian, Street Food': 4,\n",
       " 'Biryani, South Indian': 4,\n",
       " 'Desserts, Bakery, Beverages': 4,\n",
       " 'North Indian, Rolls, Chinese': 4,\n",
       " 'North Indian, Sandwich': 4,\n",
       " 'Healthy Food, North Indian': 4,\n",
       " 'North Indian, Kebab': 4,\n",
       " 'Bakery, Fast Food, Chinese': 4,\n",
       " 'Bakery, Desserts, Cafe': 4,\n",
       " 'Bengali, North Indian, Chinese': 4,\n",
       " 'North Indian, Fast Food, Rolls': 4,\n",
       " 'Italian, Continental, Salad': 4,\n",
       " 'Cafe, Continental, Italian': 4,\n",
       " 'Chinese, South Indian, Fast Food, North Indian': 4,\n",
       " 'North Indian, Chinese, Continental, Beverages': 4,\n",
       " 'Mexican, Fast Food, Healthy Food': 4,\n",
       " 'Biryani, North Indian, Mughlai, Kebab, Rolls': 4,\n",
       " 'Biryani, North Indian, Andhra, Chinese': 4,\n",
       " 'Fast Food, Continental': 4,\n",
       " 'Mithai, Desserts': 4,\n",
       " 'Kerala, South Indian': 4,\n",
       " 'Bakery, Cafe': 4,\n",
       " 'Pizza, Continental, Fast Food': 4,\n",
       " 'Fast Food, Chinese, South Indian': 4,\n",
       " 'North Indian, Biryani, Seafood': 4,\n",
       " 'Maharashtrian, Street Food': 4,\n",
       " 'Parsi': 4,\n",
       " 'North Indian, South Indian, Street Food, Chinese': 4,\n",
       " 'Beverages, Fast Food, Ice Cream': 4,\n",
       " 'Continental, North Indian': 4,\n",
       " 'Continental, Beverages, Desserts': 4,\n",
       " 'American': 4,\n",
       " 'Pizza, Chinese': 4,\n",
       " 'North Indian, Mughlai, Chinese, Momos': 4,\n",
       " 'Mishti, Fast Food, South Indian, Street Food, Desserts': 4,\n",
       " 'Pizza, Fast Food, Chinese': 4,\n",
       " 'North Indian, Street Food, South Indian': 4,\n",
       " 'Cafe, Chinese, Fast Food': 4,\n",
       " 'North Indian, Bengali, Fast Food': 4,\n",
       " 'Rolls, Sandwich, Fast Food': 4,\n",
       " 'Italian, Beverages': 4,\n",
       " 'Mughlai, Chinese, North Indian': 4,\n",
       " 'Italian, Pizza, Salad': 4,\n",
       " 'North Indian, Fast Food, South Indian, Chinese': 4,\n",
       " 'Momos, Chinese, Fast Food': 4,\n",
       " 'Chinese, Momos, Seafood': 4,\n",
       " 'Italian, American, Continental': 4,\n",
       " 'Fast Food, Healthy Food, Beverages': 4,\n",
       " 'North Indian, Mughlai, Chinese, Seafood': 4,\n",
       " 'Chinese, Continental': 4,\n",
       " 'North Indian, Chinese, Thai': 4,\n",
       " 'North Indian, Rajasthani, Beverages': 4,\n",
       " 'North Indian, Continental, Italian': 4,\n",
       " 'Kebab, Italian, Pizza, Desserts, Beverages': 4,\n",
       " 'Fast Food, North Indian, Mishti': 4,\n",
       " 'Biryani, Andhra': 4,\n",
       " 'South Indian, Continental, Fast Food': 4,\n",
       " 'North Indian, Chinese, Kerala': 4,\n",
       " 'North Indian, Chinese, Maharashtrian': 4,\n",
       " 'American, Italian': 4,\n",
       " 'Fast Food, Juices': 4,\n",
       " 'Mexican': 4,\n",
       " 'Andhra, North Indian': 4,\n",
       " 'Seafood, North Indian': 4,\n",
       " 'Rolls, Biryani': 4,\n",
       " 'Chinese, Fast Food, Rolls': 4,\n",
       " 'North Indian, Continental, Chinese, Juices': 4,\n",
       " 'Hyderabadi, Biryani': 4,\n",
       " 'Mangalorean': 4,\n",
       " 'Arabian': 4,\n",
       " 'North Indian, Mughlai, Momos': 4,\n",
       " 'Mithai, Street Food, North Indian, South Indian, Bakery, Chinese, Fast Food': 4,\n",
       " 'Cafe, North Indian': 4,\n",
       " 'South Indian, North Indian, Fast Food': 4,\n",
       " 'Continental, North Indian, Chinese': 4,\n",
       " 'Andhra, North Indian, Chinese, Seafood': 4,\n",
       " 'North Indian, Chinese, Mughlai, Fast Food': 4,\n",
       " 'Cafe, Italian, Fast Food': 4,\n",
       " 'North Indian, Desserts, Beverages': 4,\n",
       " 'Cafe, Healthy Food, Italian': 4,\n",
       " 'Desserts, Street Food': 4,\n",
       " 'North Indian, Mughlai, Lebanese': 4,\n",
       " 'Rolls, Fast Food, Beverages': 4,\n",
       " 'North Indian, Mughlai, Biryani, Rolls': 4,\n",
       " 'Rolls, Chinese, North Indian': 3,\n",
       " 'Fast Food, Ice Cream, Desserts': 3,\n",
       " 'Healthy Food, Continental, Fast Food': 3,\n",
       " 'Mithai, North Indian, Chinese': 3,\n",
       " 'North Indian, South Indian, Desserts, Beverages': 3,\n",
       " 'North Indian, Mughlai, Italian, Chinese': 3,\n",
       " 'Cafe, Spanish, Italian, Mexican, Salad, Juices': 3,\n",
       " 'Rajasthani, Fast Food, Mishti': 3,\n",
       " 'Chinese, North Indian, South Indian, Street Food': 3,\n",
       " 'Ice Cream, Desserts, Bakery': 3,\n",
       " 'Biryani, North Indian, Andhra': 3,\n",
       " 'South Indian, Street Food, Fast Food': 3,\n",
       " 'Chinese, North Indian, Fast Food, Mughlai': 3,\n",
       " 'Cafe, Italian, Chinese, Beverages': 3,\n",
       " 'Italian, European, North Indian': 3,\n",
       " 'Biryani, Kebab, Rolls, Mughlai': 3,\n",
       " 'Continental, North Indian, Italian, Asian': 3,\n",
       " 'North Indian, Chinese, Mughlai, Biryani, Beverages': 3,\n",
       " 'South Indian, Biryani': 3,\n",
       " 'North Indian, Chinese, South Indian, Fast Food, Street Food': 3,\n",
       " 'Coffee, Beverages, Sandwich': 3,\n",
       " 'North Indian, Biryani, Rolls': 3,\n",
       " 'Juices, Healthy Food': 3,\n",
       " 'Chinese, North Indian, Momos': 3,\n",
       " 'Chinese, Thai, Continental': 3,\n",
       " 'Italian, Mexican, Salad, Beverages': 3,\n",
       " 'North Indian, South Indian, Fast Food, Chinese': 3,\n",
       " 'Continental, Desserts, Beverages, Sandwich, Fast Food': 3,\n",
       " 'South Indian, Chinese, Fast Food': 3,\n",
       " 'Cafe, American, Fast Food, Salad': 3,\n",
       " 'Mithai, Beverages': 3,\n",
       " 'Fast Food, Kebab': 3,\n",
       " 'Bengali, Chinese, Fast Food': 3,\n",
       " 'Italian, Street Food, Fast Food': 3,\n",
       " 'Fast Food, Beverages, Desserts': 3,\n",
       " 'North Indian, Chinese, Mughlai, Biryani': 3,\n",
       " 'Fast Food, Street Food, North Indian': 3,\n",
       " 'North Indian, Street Food, Desserts': 3,\n",
       " 'North Indian, Chinese, Continental, Salad': 3,\n",
       " 'North Indian, Street Food, South Indian, Fast Food, Chinese': 3,\n",
       " 'North Indian, Chinese, Kebab': 3,\n",
       " 'Biryani, Chinese, Mughlai': 3,\n",
       " 'Tea, Street Food, Maharashtrian': 3,\n",
       " 'Fast Food, Chinese, North Indian, South Indian': 3,\n",
       " 'Chinese, North Indian, Fast Food, Biryani': 3,\n",
       " 'Pizza, Chinese, Healthy Food': 3,\n",
       " 'Fast Food, Beverages, Wraps, Italian, Burger': 3,\n",
       " 'Mishti, South Indian, Street Food': 3,\n",
       " 'Pizza, Salad': 3,\n",
       " 'North Indian, South Indian, Chinese, Beverages': 3,\n",
       " 'Mughlai, Biryani, Afghan': 3,\n",
       " 'Cafe, Desserts, Tea': 3,\n",
       " 'Brazilian, Steak, South American': 3,\n",
       " 'Arabian, Fast Food': 3,\n",
       " 'Rolls, Lebanese': 3,\n",
       " 'North Indian, South Indian, Chinese, Street Food': 3,\n",
       " 'Mughlai, North Indian, Rolls': 3,\n",
       " 'Fast Food, Pizza, Desserts': 3,\n",
       " 'Cafe, Beverages, Fast Food, Desserts': 3,\n",
       " 'Rolls, Chinese, Fast Food': 3,\n",
       " 'Healthy Food, Beverages': 3,\n",
       " 'North Indian, Street Food, Fast Food, Chinese': 3,\n",
       " 'Chinese, Thai, Tibetan, Japanese, Momos': 3,\n",
       " 'Continental, Beverages, Desserts, Fast Food': 3,\n",
       " 'Desserts, Burger, Beverages, Fast Food, Cafe, Bakery': 3,\n",
       " 'Fast Food, Biryani, Beverages': 3,\n",
       " 'Fast Food, South Indian, North Indian, Beverages': 3,\n",
       " 'Cafe, Beverages, Bakery': 3,\n",
       " 'Coffee, Beverages, Fast Food': 3,\n",
       " 'Cafe, Desserts, Beverages': 3,\n",
       " 'Fast Food, Momos': 3,\n",
       " 'Fast Food, Street Food, Juices': 3,\n",
       " 'Chinese, Pizza, Fast Food': 3,\n",
       " 'Fast Food, Momos, Rolls': 3,\n",
       " 'Cafe, Continental, Fast Food': 3,\n",
       " 'North Indian, Seafood, Fast Food, Continental, Chinese, Desserts, Mughlai': 3,\n",
       " 'Bakery, Continental, Pizza, Desserts': 3,\n",
       " 'Salad, Beverages, Healthy Food, Desserts': 3,\n",
       " 'Fast Food, Burger, American, Wraps': 3,\n",
       " 'Andhra, Biryani, Chinese': 3,\n",
       " 'Chinese, Bengali, Bangladeshi, Rolls': 3,\n",
       " 'Malaysian, Thai, Vietnamese, Japanese, Korean, Asian, Salad': 3,\n",
       " 'Pizza, Mexican, Italian': 3,\n",
       " 'North Indian, Chinese, Fast Food, Beverages': 3,\n",
       " 'Chinese, Seafood, Japanese, Thai': 3,\n",
       " 'Pizza, Italian, Desserts, Beverages': 3,\n",
       " 'Desserts, Bakery, Fast Food': 3,\n",
       " 'Biryani, North Indian, Mughlai, Desserts, Beverages': 3,\n",
       " 'Chinese, North Indian, Lebanese, Malwani': 3,\n",
       " 'Chinese, Fast Food, Momos': 3,\n",
       " 'Afghan, BBQ, Biryani, Seafood': 3,\n",
       " 'Fast Food, Mishti': 3,\n",
       " 'Chinese, North Indian, Pizza': 3,\n",
       " 'Cafe, Healthy Food': 3,\n",
       " 'North Indian, Chinese, Mangalorean': 3,\n",
       " 'Pizza, Fast Food, Italian, Desserts, Beverages': 3,\n",
       " 'North Indian, Mughlai, Beverages, Fast Food': 3,\n",
       " 'Kerala, Chinese': 3,\n",
       " 'Sandwich, Italian, Desserts': 3,\n",
       " 'Italian, North Indian, Chinese': 3,\n",
       " 'Arabian, North Indian, Awadhi, Chinese': 3,\n",
       " 'Fast Food, Burger, Sandwich': 3,\n",
       " 'Beverages, Salad, Desserts': 3,\n",
       " 'North Indian, Biryani, Mughlai': 3,\n",
       " 'Mithai, North Indian, South Indian, Street Food, Chinese': 3,\n",
       " 'Street Food, North Indian, Fast Food': 3,\n",
       " 'Bengali, Chinese, North Indian, Biryani': 3,\n",
       " 'Momos, Tibetan, Beverages': 3,\n",
       " 'Italian, Pizza, Desserts, Beverages': 3,\n",
       " 'Finger Food, Salad, Continental, Italian, Sandwich': 3,\n",
       " 'Salad, Healthy Food': 3,\n",
       " 'Italian, Mexican, Pizza, Salad, Beverages': 3,\n",
       " 'Frozen Yogurt, Desserts': 3,\n",
       " 'German, Italian, Cafe': 3,\n",
       " 'Chinese, Thai, Momos': 3,\n",
       " 'Biryani, North Indian, South Indian, Andhra': 3,\n",
       " 'Mughlai, North Indian, Chinese, Seafood': 3,\n",
       " 'Pizza, Bakery': 3,\n",
       " 'North Indian, Mughlai, Kebab, Chinese, Desserts': 3,\n",
       " 'Continental, Desserts, Beverages, Sandwich': 3,\n",
       " 'Mithai, North Indian, South Indian': 3,\n",
       " 'Bakery, Fast Food, Desserts, Beverages': 3,\n",
       " 'Mishti, Street Food, South Indian': 3,\n",
       " 'Chinese, Italian, Continental': 3,\n",
       " 'Biryani, Hyderabadi, Chinese': 3,\n",
       " 'Mexican, Beverages': 3,\n",
       " 'Coffee': 3,\n",
       " 'Asian, Chinese': 3,\n",
       " 'Biryani, Kebab, Mughlai': 3,\n",
       " 'Fast Food, Tea, Beverages': 3,\n",
       " 'Pizza, Italian, Beverages, American, Fast Food, Desserts': 3,\n",
       " 'Chinese, Momos, Sushi, Thai, Asian, Poké, Vietnamese, Japanese': 3,\n",
       " 'Healthy Food, Juices': 3,\n",
       " 'Mithai, Street Food, North Indian': 3,\n",
       " 'North Indian, Healthy Food, South Indian': 3,\n",
       " 'Bakery, Desserts, Healthy Food': 3,\n",
       " 'Raw Meats, North Indian, Fast Food': 3,\n",
       " 'Fast Food, Burger, Biryani': 3,\n",
       " 'Beverages, Fast Food, Chinese': 3,\n",
       " 'North Indian, Chinese, Mughlai, Maharashtrian': 3,\n",
       " 'Italian, Pizza, Salad, Healthy Food, Mexican, Cafe, Desserts, Continental': 3,\n",
       " 'Rolls, Kebab': 3,\n",
       " 'North Indian, Seafood': 3,\n",
       " 'Sandwich, Beverages, Fast Food': 3,\n",
       " 'Maharashtrian, North Indian': 3,\n",
       " 'South Indian, Fast Food, Chinese': 3,\n",
       " 'Biryani, Awadhi, Beverages, Desserts': 3,\n",
       " 'Cafe, Desserts, French, Bakery, European': 3,\n",
       " 'North Indian, South Indian, Street Food, Chinese, Beverages': 3,\n",
       " 'North Indian, Street Food, Beverages': 3,\n",
       " 'North Indian, Lebanese, Mediterranean, Mughlai': 3,\n",
       " 'Cafe, Coffee, Tea, Desserts': 3,\n",
       " 'Street Food, Maharashtrian': 3,\n",
       " 'Rajasthani, North Indian': 3,\n",
       " 'Cafe, Beverages, Fast Food': 3,\n",
       " 'Fast Food, Street Food, Desserts, Beverages': 3,\n",
       " 'Asian, Chinese, Thai, Beverages, Desserts': 3,\n",
       " 'Chinese, South Indian, North Indian': 3,\n",
       " 'Fast Food, Bakery, Desserts': 3,\n",
       " 'Continental, Steak, Salad': 3,\n",
       " 'Healthy Food, American, Salad': 3,\n",
       " 'Portuguese, Wraps, Burger, Salad': 3,\n",
       " 'Cafe, Bakery': 3,\n",
       " 'Rolls, Kebab, Mughlai, North Indian': 3,\n",
       " 'Biryani, Mughlai, Hyderabadi, Desserts': 3,\n",
       " 'Arabian, Mithai': 3,\n",
       " 'Iranian, North Indian, Mughlai, Chinese, Bakery': 3,\n",
       " 'Cafe, Desserts, Fast Food': 3,\n",
       " 'South Indian, Bengali, North Indian, Chinese': 3,\n",
       " 'Chinese, Fast Food, Ice Cream, Beverages': 3,\n",
       " 'Continental, Sandwich, Burger': 3,\n",
       " 'Biryani, Bengali': 3,\n",
       " 'Cafe, Healthy Food, Desserts': 3,\n",
       " 'Chinese, Fast Food, Mughlai': 3,\n",
       " 'Mughlai, Biryani, Chinese, Rolls, BBQ': 3,\n",
       " 'Biryani, South Indian, Chinese': 3,\n",
       " 'North Indian, Healthy Food, Wraps, Sandwich, Salad, Mexican': 3,\n",
       " 'Fast Food, Mughlai, Chinese': 3,\n",
       " 'North Indian, Chinese, South Indian, Andhra': 3,\n",
       " 'South Indian, Fast Food, North Indian, Chinese, Biryani': 3,\n",
       " 'Mughlai, Biryani, Kebab, North Indian': 3,\n",
       " 'Mughlai, Chinese': 3,\n",
       " 'Pizza, Desserts': 3,\n",
       " 'Chinese, Malaysian, Thai, Japanese': 3,\n",
       " 'Parsi, North Indian, Iranian, Maharashtrian, Fast Food, Desserts, Beverages': 3,\n",
       " 'German, Burger, Fast Food, Cafe': 3,\n",
       " 'Bakery, Cafe, Desserts': 3,\n",
       " 'Beverages, Healthy Food': 3,\n",
       " 'North Indian, Odia': 3,\n",
       " 'Momos, Fast Food, Tea': 3,\n",
       " 'Chinese, North Indian, Mughlai, Ice Cream': 3,\n",
       " 'Fast Food, Juices, Beverages, Pizza': 3,\n",
       " 'American, Continental': 3,\n",
       " 'North Indian, Mughlai, Chinese, Biryani': 3,\n",
       " 'North Indian, Asian': 3,\n",
       " 'North Indian, South Indian, Chinese, Mithai': 3,\n",
       " 'Cafe, Chinese, Italian, North Indian, Juices, Momos': 3,\n",
       " 'Salad, Italian, Burmese, Mexican': 3,\n",
       " 'Street Food, North Indian, Mithai': 3,\n",
       " 'Maharashtrian, North Indian, Chinese': 3,\n",
       " 'North Indian, Chinese, Italian, Finger Food, American': 3,\n",
       " 'South Indian, Chinese, Street Food': 3,\n",
       " 'South Indian, North Indian, Beverages': 3,\n",
       " 'North Indian, Lucknowi': 3,\n",
       " 'Fast Food, Lebanese, Beverages': 3,\n",
       " 'Bakery, Fast Food, Biryani': 3,\n",
       " 'Chinese, Sushi, Thai, Poké, Asian': 2,\n",
       " 'North Indian, Thai, Italian, Chinese, Bar Food, Fast Food, Beverages': 2,\n",
       " 'Bengali, Chinese': 2,\n",
       " 'Cafe, Continental, Burger': 2,\n",
       " 'Pizza, Chinese, Italian, Continental, Desserts, Beverages, Cafe': 2,\n",
       " 'North Indian, Mughlai, Chinese, Beverages': 2,\n",
       " 'Cafe, Bakery, Desserts': 2,\n",
       " 'Cafe, American, Fast Food': 2,\n",
       " 'North Indian, Thai, Chinese, Continental': 2,\n",
       " 'Mughlai, North Indian, Biryani': 2,\n",
       " 'Cafe, South Indian': 2,\n",
       " 'Chinese, Thai, Asian, Biryani, Italian, Cafe': 2,\n",
       " 'Biryani, Mughlai, Kebab': 2,\n",
       " 'Odia, North Indian, Chinese': 2,\n",
       " 'Continental, North Indian, Thai': 2,\n",
       " 'Chinese, Momos, Asian': 2,\n",
       " 'Chinese, Fast Food, North Indian, Healthy Food': 2,\n",
       " 'Thai, Chinese, Japanese, Momos, Salad, Vietnamese, Malaysian': 2,\n",
       " 'Mexican, Italian, Modern Indian': 2,\n",
       " 'North Indian, Chinese, Rolls, Desserts, Biryani': 2,\n",
       " 'Mithai, North Indian, South Indian, Chinese': 2,\n",
       " 'North Indian, Chinese, Hyderabadi': 2,\n",
       " 'Momos, Rolls': 2,\n",
       " 'European, Italian, Salad': 2,\n",
       " 'Fast Food, Italian, Chinese': 2,\n",
       " 'North Indian, Mughlai, Asian, Italian': 2,\n",
       " 'Hyderabadi': 2,\n",
       " 'Bar Food, Asian, North Indian, Italian': 2,\n",
       " 'Chinese, Momos, Fast Food': 2,\n",
       " 'Salad, Fast Food, South Indian, North Indian': 2,\n",
       " 'Bakery, Desserts, Sandwich': 2,\n",
       " 'North Indian, Street Food, Mithai': 2,\n",
       " 'Biryani, Mughlai, Kebab, Rolls, Roast Chicken': 2,\n",
       " 'Tea, Fast Food, North Indian, Chinese': 2,\n",
       " 'North Indian, Chinese, Bengali, Kebab': 2,\n",
       " 'Cafe, Salad, Healthy Food, Sandwich, Italian, Beverages, Desserts': 2,\n",
       " 'Lebanese, Rolls, Fast Food': 2,\n",
       " 'Biryani, North Indian, Kebab': 2,\n",
       " 'Bakery, Chinese, Fast Food': 2,\n",
       " 'North Indian, Chinese, Italian, Fast Food': 2,\n",
       " 'Beverages, Sandwich': 2,\n",
       " 'Japanese, Thai, Chinese': 2,\n",
       " 'Mughlai, North Indian, Continental, Modern Indian, Street Food': 2,\n",
       " 'Chinese, Asian, Sushi': 2,\n",
       " 'Italian, North Indian': 2,\n",
       " 'North Indian, North Eastern, Continental, Asian': 2,\n",
       " 'North Indian, Continental, Chinese, Italian, Finger Food, Momos': 2,\n",
       " 'Chinese, North Indian, Bengali, Salad': 2,\n",
       " 'Continental, Chinese': 2,\n",
       " 'Continental, Kebab, Italian, Modern Indian, Finger Food, Asian, Sushi, Desserts': 2,\n",
       " 'Finger Food': 2,\n",
       " 'Biryani, North Indian, Fast Food': 2,\n",
       " 'Healthy Food, Beverages, Salad, Juices': 2,\n",
       " 'Mughlai, North Indian, Chinese, Biryani': 2,\n",
       " 'Beverages, Desserts, Fast Food': 2,\n",
       " 'Ice Cream, Fast Food, Beverages': 2,\n",
       " 'North Indian, Lebanese': 2,\n",
       " 'Fast Food, Momos, North Indian': 2,\n",
       " 'Asian, Thai, Chinese, Momos': 2,\n",
       " 'North Indian, Chinese, Fast Food, Pizza, Juices': 2,\n",
       " 'Burger, Fast Food, Desserts': 2,\n",
       " 'North Indian, Chinese, Mughlai, Fast Food, Beverages': 2,\n",
       " 'Chinese, Naga': 2,\n",
       " 'Healthy Food, Sandwich, Beverages': 2,\n",
       " 'Chinese, Asian, Momos': 2,\n",
       " 'North Indian, Biryani, Wraps, Desserts': 2,\n",
       " 'Sushi, Asian': 2,\n",
       " 'Asian, Japanese, Chinese, Thai, Malaysian, Sushi, Vietnamese': 2,\n",
       " 'Fast Food, Lebanese, Rolls': 2,\n",
       " 'Finger Food, Continental, Italian': 2,\n",
       " 'Chinese, Cantonese': 2,\n",
       " 'Fast Food, Mithai, Bakery': 2,\n",
       " 'Italian, Salad, Mexican, North Indian': 2,\n",
       " 'BBQ, Chinese, Lebanese': 2,\n",
       " 'South Indian, North Indian, Continental, Chinese': 2,\n",
       " 'Healthy Food, Sandwich, Juices, Beverages': 2,\n",
       " 'Italian, Desserts, Continental': 2,\n",
       " 'Mughlai, Chinese, North Indian, Fast Food': 2,\n",
       " 'Fast Food, Chinese, Continental': 2,\n",
       " 'Cafe, North Indian, South Indian, Chinese': 2,\n",
       " 'North Indian, Rolls, Desserts': 2,\n",
       " 'Cafe, Fast Food, Korean, Desserts': 2,\n",
       " 'Continental, North Indian, Italian': 2,\n",
       " 'North Indian, Chinese, American': 2,\n",
       " 'Chinese, Odia, Bengali, North Indian': 2,\n",
       " 'Kashmiri, North Indian, Mughlai, Seafood': 2,\n",
       " 'Continental, Juices, American, Fast Food, Italian, Ice Cream': 2,\n",
       " 'Chinese, Fast Food, South Indian, North Indian': 2,\n",
       " 'Cafe, Sushi, Continental, Italian': 2,\n",
       " 'Continental, Italian, Thai': 2,\n",
       " 'North Indian, Mexican, Italian': 2,\n",
       " 'North Indian, Continental, Chinese, Fast Food': 2,\n",
       " 'North Indian, Chinese, Biryani, Continental': 2,\n",
       " 'North Indian, Chinese, Thai, European, Italian': 2,\n",
       " 'American, Italian, Mexican': 2,\n",
       " 'North Indian, Chinese, Continental, Fast Food, Pizza': 2,\n",
       " 'European, Salad, Bar Food, Finger Food, Beverages, Tea, Coffee': 2,\n",
       " 'Seafood, Maharashtrian, Konkan': 2,\n",
       " 'Continental, Cafe, Pizza, Fast Food, Steak': 2,\n",
       " 'Rolls, Fast Food, Chinese, North Indian': 2,\n",
       " 'South Indian, Italian, Chinese': 2,\n",
       " 'North Indian, Mughlai, Rajasthani, Chinese, Bakery': 2,\n",
       " 'South Indian, North Indian, Continental': 2,\n",
       " 'Chinese, Momos, Rolls': 2,\n",
       " 'Burger, Sandwich, North Indian, Chinese': 2,\n",
       " 'Street Food, Fast Food, North Indian, Chinese': 2,\n",
       " 'North Indian, Gujarati, Rajasthani': 2,\n",
       " 'North Indian, Continental, Chinese, Italian': 2,\n",
       " 'Tea': 2,\n",
       " 'South Indian, Fast Food, Mithai': 2,\n",
       " 'Chinese, North Indian, Thai, Fast Food, Seafood': 2,\n",
       " 'Seafood, North Indian, Chinese, Thai': 2,\n",
       " 'Tibetan, Nepalese, Momos': 2,\n",
       " 'Chinese, North Indian, Seafood': 2,\n",
       " 'Kerala, North Indian': 2,\n",
       " 'Mithai, Street Food, Bakery': 2,\n",
       " 'Bakery, Beverages, Chinese': 2,\n",
       " 'Korean, Sushi': 2,\n",
       " 'Fast Food, Sandwich, Beverages': 2,\n",
       " 'Maharashtrian, Healthy Food': 2,\n",
       " 'Momos, North Indian': 2,\n",
       " 'Pizza, Italian, Mexican': 2,\n",
       " 'Lebanese, Fast Food, Beverages': 2,\n",
       " 'Kebab, North Indian, Chinese': 2,\n",
       " 'North Indian, South Indian, Continental, Mediterranean, Lebanese, Desserts, Beverages': 2,\n",
       " 'Fast Food, Street Food, Momos': 2,\n",
       " 'Street Food, Chinese': 2,\n",
       " 'North Indian, Chinese, Continental, Thai': 2,\n",
       " 'North Indian, Biryani, Lebanese': 2,\n",
       " 'Italian, Seafood, Chinese, Fast Food': 2,\n",
       " 'Cafe, Italian, Continental, Bakery': 2,\n",
       " 'North Indian, Burger, Chinese, Fast Food, Beverages, Pizza, Sandwich, Momos': 2,\n",
       " 'Biryani, North Indian, Chinese, Mughlai': 2,\n",
       " 'North Indian, Chinese, South Indian, Desserts': 2,\n",
       " 'Momos, Chinese, Burger, Fast Food': 2,\n",
       " 'North Indian, South Indian, Chinese, Beverages, Ice Cream': 2,\n",
       " 'Asian, Thai, Japanese, Chinese, Momos': 2,\n",
       " 'Iranian, Fast Food': 2,\n",
       " 'North Indian, Kebab, Mughlai': 2,\n",
       " 'Rolls, Fast Food, Chinese': 2,\n",
       " 'Maharashtrian, Biryani': 2,\n",
       " 'North Indian, Chinese, Italian, Continental, Thai': 2,\n",
       " 'Arabian, North Indian, Chinese, Fast Food': 2,\n",
       " 'Cafe, Fast Food, Desserts': 2,\n",
       " 'Kerala, South Indian, Seafood': 2,\n",
       " 'Mithai, Chinese, South Indian': 2,\n",
       " 'Rolls, North Indian, Biryani, Chinese': 2,\n",
       " 'Continental, North Indian, Seafood, Cafe, Salad, Chinese': 2,\n",
       " 'Pizza, Salad, Burger, Sandwich, Lebanese, Italian': 2,\n",
       " 'Fast Food, Rolls, Biryani, North Indian': 2,\n",
       " 'South Indian, North Indian, Chinese, Biryani': 2,\n",
       " 'Biryani, Mughlai, Chinese, Arabian': 2,\n",
       " 'Continental, North Indian, European, Asian, Italian, Seafood': 2,\n",
       " 'Hot dogs': 2,\n",
       " 'North Indian, Asian, Italian': 2,\n",
       " 'Andhra, South Indian': 2,\n",
       " 'Mithai, North Indian, Chinese, South Indian, Street Food, Italian, Desserts, Beverages': 2,\n",
       " 'Andhra, Biryani, Chinese, North Indian, South Indian': 2,\n",
       " 'North Indian, Mughlai, Chinese, Kebab': 2,\n",
       " 'North Indian, Mughlai, South Indian, Chinese': 2,\n",
       " 'Finger Food, Brazilian, BBQ': 2,\n",
       " 'Chinese, Street Food, Rolls': 2,\n",
       " 'Chinese, North Indian, Fast Food, Momos': 2,\n",
       " 'Fast Food, South Indian, Street Food': 2,\n",
       " 'Continental, Thai, Italian, Salad': 2,\n",
       " 'North Indian, Fast Food, Chinese, Continental': 2,\n",
       " 'Beverages, Fast Food, Desserts, Ice Cream, Juices': 2,\n",
       " 'Fast Food, Biryani, North Indian, Rolls': 2,\n",
       " 'North Indian, Kebab, Chinese': 2,\n",
       " 'Mughlai, Chinese, Fast Food': 2,\n",
       " 'American, Asian, Continental': 2,\n",
       " 'North Indian, Mughlai, Continental, Chinese': 2,\n",
       " 'American, Fast Food, Burger': 2,\n",
       " 'Cafe, North Indian, Italian': 2,\n",
       " 'American, Italian, Beverages': 2,\n",
       " 'Biryani, Kebab, North Indian, Hyderabadi': 2,\n",
       " 'Asian, Japanese, Korean, Chinese, Momos, Thai': 2,\n",
       " 'Bakery, Cafe, Fast Food': 2,\n",
       " 'North Indian, Chinese, Ice Cream': 2,\n",
       " 'Mexican, American, Fast Food': 2,\n",
       " 'North Indian, South Indian, Chinese, Fast Food, Mithai': 2,\n",
       " 'North Eastern, North Indian, Chinese': 2,\n",
       " 'Fast Food, Healthy Food, Burger, Rolls': 2,\n",
       " 'Chinese, Maharashtrian, North Indian, Hyderabadi': 2,\n",
       " 'Chinese, Asian, Sushi, Japanese, Thai': 2,\n",
       " 'North Indian, Chinese, Fast Food, Momos': 2,\n",
       " 'Street Food, South Indian, North Indian': 2,\n",
       " 'North Indian, Seafood, Chinese': 2,\n",
       " 'Desserts, Juices': 2,\n",
       " 'Salad, North Indian, Biryani, Desserts, Beverages, Wraps': 2,\n",
       " 'Fast Food, Continental, Pizza, Beverages': 2,\n",
       " 'Chinese, Fast Food, Desserts': 2,\n",
       " 'North Indian, Desserts': 2,\n",
       " 'Malwani, Seafood': 2,\n",
       " 'Andhra, Biryani, South Indian': 2,\n",
       " 'Cafe, Fast Food, Continental': 2,\n",
       " 'Desserts, Beverages, Healthy Food': 2,\n",
       " 'Cafe, Chinese, Italian, Continental, North Indian, Mexican, Momos': 2,\n",
       " 'Cafe, Fast Food, Chinese': 2,\n",
       " 'American, Italian, Cafe, Salad': 2,\n",
       " 'Seafood, Chinese, North Indian': 2,\n",
       " 'Healthy Food, Sandwich, Salad, Beverages': 2,\n",
       " 'Andhra, South Indian, North Indian, Biryani, Chinese, Beverages': 2,\n",
       " 'Cafe, American, Fast Food, Beverages': 2,\n",
       " 'Cafe, European, Continental, Sandwich, Salad, Healthy Food': 2,\n",
       " 'Chinese, Italian, North Indian': 2,\n",
       " 'Asian, Thai, Sushi': 2,\n",
       " 'Street Food, Fast Food, Beverages, Desserts, Mithai': 2,\n",
       " 'Mishti, Desserts': 2,\n",
       " 'Chinese, Thai, Asian, Japanese': 2,\n",
       " 'North Indian, Biryani, Mughlai, Chinese': 2,\n",
       " 'Continental, Fast Food, North Indian, Mughlai': 2,\n",
       " 'North Indian, Mughlai, Raw Meats': 2,\n",
       " 'Rolls, Fast Food, North Indian': 2,\n",
       " 'Mithai, North Indian, Street Food, Chinese': 2,\n",
       " 'Bar Food, Asian, Mughlai, North Indian': 2,\n",
       " 'Bihari': 2,\n",
       " 'North Indian, South Indian, Continental, Fast Food, Chinese': 2,\n",
       " 'Beverages, Ice Cream, Fast Food': 2,\n",
       " 'European, Italian, American, Salad': 2,\n",
       " 'South Indian, Street Food, Chinese': 2,\n",
       " 'Japanese': 2,\n",
       " 'Chinese, North Indian, Street Food, Fast Food, South Indian': 2,\n",
       " 'Mithai, Street Food, Fast Food': 2,\n",
       " 'Bengali, Mithai': 2,\n",
       " 'Biryani, Mughlai, Chinese, Street Food': 2,\n",
       " 'South Indian, Maharashtrian': 2,\n",
       " 'North Indian, Continental, South Indian, Chinese': 2,\n",
       " 'Fast Food, Pizza, Rolls, Sandwich': 2,\n",
       " 'Pizza, North Indian, Street Food': 2,\n",
       " 'Chinese, North Indian, Continental': 2,\n",
       " 'Chinese, Italian, Continental, Momos': 2,\n",
       " 'Street Food, Chinese, North Indian, Fast Food': 2,\n",
       " 'North Indian, Continental, Asian, Pizza': 2,\n",
       " 'Fast Food, Maharashtrian, South Indian, Chinese, Beverages': 2,\n",
       " 'Biryani, Andhra, South Indian, Chinese': 2,\n",
       " 'Seafood, Chinese, Continental, North Indian, Beverages, Biryani': 2,\n",
       " 'North Indian, Chinese, Kebab, Mughlai': 2,\n",
       " 'Bakery, Pizza, Beverages': 2,\n",
       " 'Continental, Chinese, North Indian': 2,\n",
       " 'North Indian, Ice Cream': 2,\n",
       " 'Cafe, Fast Food, North Indian, Italian': 2,\n",
       " 'Kerala, North Indian, Chinese, South Indian': 2,\n",
       " 'Fast Food, Biryani, Rolls': 2,\n",
       " 'Beverages, Desserts, Juices': 2,\n",
       " 'Mithai, Street Food, Chinese': 2,\n",
       " 'North Indian, Chinese, Malwani, Mughlai': 2,\n",
       " 'Healthy Food, Italian, Salad': 2,\n",
       " 'South Indian, Chinese, Beverages': 2,\n",
       " 'Beverages, Tea, Coffee, North Indian': 2,\n",
       " 'Sandwich, Chinese, North Indian, Pizza, Rolls, Fast Food, Desserts, Beverages': 2,\n",
       " 'Burger, Street Food': 2,\n",
       " 'Burger, Wraps, Sandwich, Fast Food, Beverages, Desserts': 2,\n",
       " 'Seafood, North Indian, Mangalorean, Chinese': 2,\n",
       " 'Cafe, Continental, Salad, Italian, Fast Food, Desserts, Beverages': 2,\n",
       " 'Continental, American, Asian, North Indian, South Indian, European, Chinese, Fast Food': 2,\n",
       " 'Biryani, Street Food': 2,\n",
       " 'Chinese, North Indian, Mughlai, Malwani': 2,\n",
       " 'Chinese, North Indian, Thai': 2,\n",
       " 'Continental, Mexican, Italian, American': 2,\n",
       " 'North Eastern': 2,\n",
       " 'Italian, Pizza, Burger': 2,\n",
       " 'North Indian, Momos, Desserts, Beverages': 2,\n",
       " 'Italian, Fast Food, Mexican, Chinese': 2,\n",
       " 'Cafe, North Indian, Healthy Food, Desserts': 2,\n",
       " 'Chinese, Fast Food, Italian, Momos': 2,\n",
       " 'Cafe, Desserts, Fast Food, Beverages': 2,\n",
       " 'North Indian, Chinese, South Indian, Continental': 2,\n",
       " 'North Indian, Chinese, Mughlai, Kebab': 2,\n",
       " 'Chinese, Thai, Indonesian, Italian': 2,\n",
       " 'Chinese, Rolls, Beverages': 2,\n",
       " 'Momos, Chinese': 2,\n",
       " 'Italian, Mexican, Chinese': 2,\n",
       " 'Mughlai, Biryani, North Indian': 2,\n",
       " 'Fast Food, Burger, Sandwich, Beverages': 2,\n",
       " 'Chinese, Mughlai, Arabian, North Indian': 2,\n",
       " 'North Indian, Street Food, South Indian, Mithai': 2,\n",
       " 'North Indian, Fast Food, Italian': 2,\n",
       " 'Fast Food, Juices, Beverages': 2,\n",
       " 'Biryani, Chinese, Fast Food, Beverages, North Indian, Mughlai, Seafood': 2,\n",
       " 'Chinese, Fast Food, Street Food': 2,\n",
       " 'South Indian, North Indian, Andhra': 2,\n",
       " 'North Indian, Fast Food, Chinese, Maharashtrian': 2,\n",
       " 'Healthy Food, Salad, Continental, Desserts, Beverages': 2,\n",
       " 'Italian, Mexican, Salad, Juices': 2,\n",
       " 'North Indian, Arabian': 2,\n",
       " 'Rolls, Kebab, Beverages': 2,\n",
       " 'North Indian, European, Asian, Mediterranean': 2,\n",
       " 'North Indian, Biryani, Sandwich, Rolls': 2,\n",
       " 'Fast Food, Biryani': 2,\n",
       " 'Beverages, Ice Cream, Sandwich, Desserts': 2,\n",
       " 'Momos, Desserts': 2,\n",
       " 'Continental, Pizza, Italian': 2,\n",
       " 'Burger, Sandwich, Pizza, Chinese, Beverages': 2,\n",
       " 'Hyderabadi, Arabian, Chinese, Mughlai': 2,\n",
       " 'North Indian, South Indian, Fast Food, Beverages': 2,\n",
       " 'Seafood, North Indian, Chinese, Mughlai, Biryani': 2,\n",
       " 'North Indian, South Indian, Chinese, Bengali, Odia, Biryani, Beverages': 2,\n",
       " 'Cafe, Chinese, Italian': 2,\n",
       " 'Chinese, Continental, Fast Food': 2,\n",
       " 'Chinese, North Indian, Street Food, Fast Food, Beverages': 2,\n",
       " 'North Indian, Chinese, Arabian': 2,\n",
       " 'Modern Indian, North Indian, Asian, Continental, Mughlai, Bar Food': 2,\n",
       " 'Rajasthani': 2,\n",
       " 'Continental, North Indian, Italian, Beverages, Desserts': 2,\n",
       " 'Beverages, Rolls, Sandwich': 2,\n",
       " 'North Indian, Italian, Chinese, Mexican': 2,\n",
       " 'Biryani, Mughlai, Chinese, Seafood': 2,\n",
       " 'Continental, North Indian, Asian, Pizza': 2,\n",
       " 'North Indian, Chinese, Mithai': 2,\n",
       " 'Lucknowi, Biryani': 2,\n",
       " 'European, American, Bakery, Salad': 2,\n",
       " 'Beverages, Ice Cream, Desserts, Sandwich, North Indian': 2,\n",
       " 'American, Sandwich, Burger': 2,\n",
       " 'Desserts, Mithai': 2,\n",
       " 'South Indian, Chettinad': 2,\n",
       " 'Biryani, Fast Food, Momos': 2,\n",
       " 'Fast Food, Wraps': 2,\n",
       " 'Cafe, Korean': 2,\n",
       " 'Maharashtrian, Beverages': 2,\n",
       " 'Italian, Fast Food, Beverages': 2,\n",
       " 'Chinese, North Indian, Maharashtrian': 2,\n",
       " 'South Indian, Continental': 2,\n",
       " 'North Indian, Mughlai, Salad': 2,\n",
       " 'Sandwich, Fast Food, Beverages, Mexican, Desserts': 2,\n",
       " 'North Indian, Fast Food, Mughlai': 2,\n",
       " 'North Indian, Chinese, Mughlai, Rolls': 2,\n",
       " 'North Indian, Chinese, Seafood, Biryani': 2,\n",
       " 'Maharashtrian, South Indian, Chinese': 2,\n",
       " 'Salad': 2,\n",
       " 'Italian, North Indian, Continental': 2,\n",
       " 'Salad, Sandwich, Continental, Healthy Food': 2,\n",
       " 'Street Food, Chinese, Momos, Burger, Sandwich, Lebanese': 2,\n",
       " 'Cafe, North Indian, Continental, Chinese': 2,\n",
       " 'Turkish, Healthy Food, Wraps': 2,\n",
       " 'Tamil, Biryani, South Indian, Chettinad, North Indian, Chinese': 2,\n",
       " 'Cafe, Burger, Fast Food, Beverages': 2,\n",
       " 'Sandwich, Street Food': 2,\n",
       " 'Street Food, Chinese, North Indian': 2,\n",
       " 'Kerala, Chinese, South Indian, North Indian': 2,\n",
       " 'Burger, Fast Food, Chinese': 2,\n",
       " 'Continental, Finger Food, North Indian, Chinese': 2,\n",
       " 'Continental, North Indian, BBQ, Steak': 2,\n",
       " 'Continental, Healthy Food': 2,\n",
       " 'Biryani, North Indian, Rolls, Kashmiri, Mughlai': 2,\n",
       " 'North Indian, Chinese, Healthy Food': 2,\n",
       " 'Cafe, American, Chinese, Continental, North Indian, Italian': 2,\n",
       " 'Pizza, Italian, Cafe': 2,\n",
       " 'Bakery, Fast Food, Street Food': 2,\n",
       " 'Continental, North Indian, Italian, Finger Food': 2,\n",
       " 'North Indian, Charcoal Chicken, Fast Food, Mughlai, Biryani, Kebab': 2,\n",
       " 'Fast Food, Bengali': 2,\n",
       " 'North Indian, Bengali': 2,\n",
       " 'Fast Food, Pizza, Sandwich, Desserts': 2,\n",
       " 'Cafe, American, Desserts': 2,\n",
       " 'North Indian, Pizza': 2,\n",
       " 'Mexican, American, Italian, Burger': 2,\n",
       " 'North Indian, Fast Food, Street Food': 2,\n",
       " 'European, Chinese, North Indian, Italian': 2,\n",
       " 'Wraps, Burger, North Indian, Biryani': 2,\n",
       " 'Bengali, Rolls, Biryani': 2,\n",
       " 'Healthy Food, Fast Food, Salad': 2,\n",
       " 'Chinese, Continental, European, Mexican, Momos': 2,\n",
       " 'North Indian, Street Food, Beverages, Chinese': 2,\n",
       " 'Desserts, Ice Cream, Fast Food': 2,\n",
       " 'Italian, Lebanese, North Indian': 2,\n",
       " 'Fast Food, North Indian, Rolls, Chinese, Momos, Mughlai': 2,\n",
       " 'Italian, Desserts': 2,\n",
       " 'North Indian, Maharashtrian, Chinese': 2,\n",
       " 'Paan, Fast Food': 2,\n",
       " 'Maharashtrian, Fast Food': 2,\n",
       " 'Mithai, North Indian, Fast Food, Desserts, South Indian, Street Food, Bakery, Chinese': 2,\n",
       " 'Paan, Beverages': 2,\n",
       " 'North Indian, Chinese, Continental, Momos': 2,\n",
       " 'North Indian, Chinese, Seafood, Asian': 2,\n",
       " 'North Indian, Chinese, South Indian, Biryani': 2,\n",
       " 'Bakery, Mithai': 2,\n",
       " 'Kerala, Biryani': 2,\n",
       " 'South Indian, Desserts': 2,\n",
       " 'Salad, Continental, Finger Food, North Indian, Italian, Maharashtrian': 2,\n",
       " 'Burger, Beverages': 2,\n",
       " 'Chinese, Asian, Thai, Momos': 2,\n",
       " 'North Indian, Tea, Fast Food, Beverages': 2,\n",
       " 'Maharashtrian, Seafood': 2,\n",
       " 'Desserts, Fast Food, Beverages': 2,\n",
       " 'Rolls, Sandwich, Fast Food, Beverages': 2,\n",
       " 'Chinese, Mughlai, North Indian, Seafood, Biryani': 2,\n",
       " 'North Indian, Afghan, Lebanese': 2,\n",
       " 'Cafe, Salad': 2,\n",
       " 'Beverages, Juices, Healthy Food': 2,\n",
       " 'Cafe, Chinese, North Indian': 2,\n",
       " 'Chinese, North Indian, South Indian, Fast Food, Street Food': 2,\n",
       " 'Thai': 2,\n",
       " 'North Indian, Maharashtrian, Konkan, Biryani, Malwani': 2,\n",
       " 'North Indian, Chinese, Biryani, Andhra': 2,\n",
       " 'Chinese, Asian, South Indian': 2,\n",
       " 'South Indian, Kerala, Chinese': 2,\n",
       " 'Asian, Burmese, Bubble Tea, Desserts, Salad, Tea, Beverages, Ice Cream': 2,\n",
       " 'Seafood, Rolls, BBQ': 2,\n",
       " 'Salad, European, Steak, Healthy Food, Beverages, Finger Food': 2,\n",
       " 'Fast Food, Pizza, North Indian': 2,\n",
       " 'Momos, Fast Food, Chinese': 2,\n",
       " 'Arabian, North Indian, Biryani, Chinese, Seafood': 2,\n",
       " 'Chinese, Kebab': 2,\n",
       " 'Naga': 2,\n",
       " 'South Indian, North Indian, Chinese, Andhra': 2,\n",
       " 'Chinese, North Indian, Momos, Fast Food': 2,\n",
       " 'Chinese, Biryani, North Indian': 2,\n",
       " 'Cafe, Bakery, Sandwich, Juices': 2,\n",
       " 'Bar Food, North Indian, Chinese': 2,\n",
       " 'Bakery, North Indian': 2,\n",
       " 'Mughlai, North Indian, Biryani, Kebab': 2,\n",
       " 'Mughlai, Seafood, Chinese, North Indian': 2,\n",
       " 'Parsi, Bakery': 2,\n",
       " 'North Indian, Continental, South Indian': 2,\n",
       " 'North Indian, Continental, Chinese, Italian, Lebanese, Momos': 2,\n",
       " 'Italian, Salad': 2,\n",
       " 'Cafe, Italian, Continental, North Indian': 2,\n",
       " 'North Indian, Chinese, Lebanese': 2,\n",
       " 'North Indian, Chinese, Mughlai, Momos': 2,\n",
       " 'Chinese, Desserts, North Indian': 1,\n",
       " 'Chinese, Momos, Vietnamese, Thai': 1,\n",
       " 'South Indian, North Indian, Mangalorean, Seafood': 1,\n",
       " 'Kerala, South Indian, North Indian, Chinese, Seafood, Desserts, Beverages': 1,\n",
       " 'Finger Food, North Indian, Continental, Salad, Italian': 1,\n",
       " 'North Indian, Cafe, Mexican': 1,\n",
       " 'Cafe, Italian, Desserts': 1,\n",
       " 'Sandwich, Salad, Beverages': 1,\n",
       " 'Chinese, Continental, North Indian, Italian, South Indian': 1,\n",
       " ...}"
      ]
     },
     "execution_count": 48,
     "metadata": {},
     "output_type": "execute_result"
    }
   ],
   "source": [
    "dic_foodorders"
   ]
  },
  {
   "cell_type": "markdown",
   "metadata": {},
   "source": [
    "# Handling Outliers"
   ]
  },
  {
   "cell_type": "code",
   "execution_count": 49,
   "metadata": {},
   "outputs": [
    {
     "data": {
      "text/html": [
       "<div>\n",
       "<style scoped>\n",
       "    .dataframe tbody tr th:only-of-type {\n",
       "        vertical-align: middle;\n",
       "    }\n",
       "\n",
       "    .dataframe tbody tr th {\n",
       "        vertical-align: top;\n",
       "    }\n",
       "\n",
       "    .dataframe thead th {\n",
       "        text-align: right;\n",
       "    }\n",
       "</style>\n",
       "<table border=\"1\" class=\"dataframe\">\n",
       "  <thead>\n",
       "    <tr style=\"text-align: right;\">\n",
       "      <th></th>\n",
       "      <th>Restaurant</th>\n",
       "      <th>Location</th>\n",
       "      <th>Cuisines</th>\n",
       "      <th>Average_Cost</th>\n",
       "      <th>Minimum_Order</th>\n",
       "      <th>Rating</th>\n",
       "      <th>Votes</th>\n",
       "      <th>Reviews</th>\n",
       "      <th>Delivery_Time</th>\n",
       "      <th>Area</th>\n",
       "    </tr>\n",
       "  </thead>\n",
       "  <tbody>\n",
       "    <tr>\n",
       "      <th>0</th>\n",
       "      <td>33</td>\n",
       "      <td>FTI College, Law College Road, Pune</td>\n",
       "      <td>1</td>\n",
       "      <td>200</td>\n",
       "      <td>50</td>\n",
       "      <td>3.5</td>\n",
       "      <td>12</td>\n",
       "      <td>4</td>\n",
       "      <td>30 minutes</td>\n",
       "      <td>1358</td>\n",
       "    </tr>\n",
       "    <tr>\n",
       "      <th>1</th>\n",
       "      <td>3</td>\n",
       "      <td>Sector 3, Marathalli</td>\n",
       "      <td>61</td>\n",
       "      <td>100</td>\n",
       "      <td>50</td>\n",
       "      <td>3.5</td>\n",
       "      <td>11</td>\n",
       "      <td>4</td>\n",
       "      <td>30 minutes</td>\n",
       "      <td>366</td>\n",
       "    </tr>\n",
       "    <tr>\n",
       "      <th>2</th>\n",
       "      <td>15</td>\n",
       "      <td>Mumbai Central</td>\n",
       "      <td>3</td>\n",
       "      <td>150</td>\n",
       "      <td>50</td>\n",
       "      <td>3.6</td>\n",
       "      <td>99</td>\n",
       "      <td>30</td>\n",
       "      <td>65 minutes</td>\n",
       "      <td>459</td>\n",
       "    </tr>\n",
       "    <tr>\n",
       "      <th>3</th>\n",
       "      <td>49</td>\n",
       "      <td>Sector 1, Noida</td>\n",
       "      <td>16</td>\n",
       "      <td>250</td>\n",
       "      <td>99</td>\n",
       "      <td>3.7</td>\n",
       "      <td>176</td>\n",
       "      <td>95</td>\n",
       "      <td>30 minutes</td>\n",
       "      <td>2086</td>\n",
       "    </tr>\n",
       "    <tr>\n",
       "      <th>4</th>\n",
       "      <td>33</td>\n",
       "      <td>Rmz Centennial, I Gate, Whitefield</td>\n",
       "      <td>14</td>\n",
       "      <td>200</td>\n",
       "      <td>99</td>\n",
       "      <td>3.2</td>\n",
       "      <td>521</td>\n",
       "      <td>235</td>\n",
       "      <td>65 minutes</td>\n",
       "      <td>457</td>\n",
       "    </tr>\n",
       "  </tbody>\n",
       "</table>\n",
       "</div>"
      ],
      "text/plain": [
       "   Restaurant                             Location  Cuisines  Average_Cost  \\\n",
       "0          33  FTI College, Law College Road, Pune         1           200   \n",
       "1           3                 Sector 3, Marathalli        61           100   \n",
       "2          15                       Mumbai Central         3           150   \n",
       "3          49                      Sector 1, Noida        16           250   \n",
       "4          33   Rmz Centennial, I Gate, Whitefield        14           200   \n",
       "\n",
       "   Minimum_Order  Rating  Votes  Reviews Delivery_Time  Area  \n",
       "0             50     3.5     12        4    30 minutes  1358  \n",
       "1             50     3.5     11        4    30 minutes   366  \n",
       "2             50     3.6     99       30    65 minutes   459  \n",
       "3             99     3.7    176       95    30 minutes  2086  \n",
       "4             99     3.2    521      235    65 minutes   457  "
      ]
     },
     "execution_count": 49,
     "metadata": {},
     "output_type": "execute_result"
    }
   ],
   "source": [
    "data.head()"
   ]
  },
  {
   "cell_type": "code",
   "execution_count": 50,
   "metadata": {},
   "outputs": [
    {
     "data": {
      "text/plain": [
       "(11094, 10)"
      ]
     },
     "execution_count": 50,
     "metadata": {},
     "output_type": "execute_result"
    }
   ],
   "source": [
    "data.shape"
   ]
  },
  {
   "cell_type": "code",
   "execution_count": 51,
   "metadata": {},
   "outputs": [
    {
     "data": {
      "text/plain": [
       "Area                0\n",
       "Average_Cost      867\n",
       "Cuisines         1898\n",
       "Delivery_Time       0\n",
       "Location            0\n",
       "Minimum_Order     976\n",
       "Rating           1963\n",
       "Restaurant        838\n",
       "Reviews          1490\n",
       "Votes            1420\n",
       "dtype: int64"
      ]
     },
     "execution_count": 51,
     "metadata": {},
     "output_type": "execute_result"
    }
   ],
   "source": [
    "q1 = data.quantile(0.25)\n",
    "q3 = data.quantile(0.75)\n",
    "IQR= q3-q1 \n",
    "((data< (q1-1.5*IQR)) | (data > (q3+1.5*IQR))).sum()"
   ]
  },
  {
   "cell_type": "markdown",
   "metadata": {},
   "source": [
    "# https://www.pluralsight.com/guides/cleaning-up-data-from-outliers"
   ]
  },
  {
   "cell_type": "code",
   "execution_count": 52,
   "metadata": {},
   "outputs": [],
   "source": [
    "columns = ['Restaurant', 'Cuisines', 'Average_Cost', 'Minimum_Order','Rating', 'Votes', 'Reviews', 'Area']\n",
    "for i in columns:\n",
    "       \n",
    "    q75, q25 = np.percentile(data[i], [75,25])\n",
    "    iqr = q75-q25\n",
    "    minimum = q25-1.5*iqr\n",
    "    maximum = q75+1.5*iqr\n",
    "    data[i] = np.where(data[i] < minimum, minimum, data[i])\n",
    "    data[i] = np.where(data[i] > maximum, maximum, data[i])"
   ]
  },
  {
   "cell_type": "code",
   "execution_count": 53,
   "metadata": {},
   "outputs": [],
   "source": [
    "#((data< (Q1-1.5*IQR)) | (data > (Q3+1.5*IQR))).sum()"
   ]
  },
  {
   "cell_type": "code",
   "execution_count": 54,
   "metadata": {},
   "outputs": [
    {
     "data": {
      "text/plain": [
       "Area             0\n",
       "Average_Cost     0\n",
       "Cuisines         0\n",
       "Delivery_Time    0\n",
       "Location         0\n",
       "Minimum_Order    0\n",
       "Rating           0\n",
       "Restaurant       0\n",
       "Reviews          0\n",
       "Votes            0\n",
       "dtype: int64"
      ]
     },
     "execution_count": 54,
     "metadata": {},
     "output_type": "execute_result"
    }
   ],
   "source": [
    "((data< (q1-1.5*IQR)) | (data > (q3+1.5*IQR))).sum()"
   ]
  },
  {
   "cell_type": "code",
   "execution_count": 55,
   "metadata": {},
   "outputs": [
    {
     "data": {
      "text/plain": [
       "(11094, 10)"
      ]
     },
     "execution_count": 55,
     "metadata": {},
     "output_type": "execute_result"
    }
   ],
   "source": [
    "data.shape"
   ]
  },
  {
   "cell_type": "code",
   "execution_count": 56,
   "metadata": {},
   "outputs": [
    {
     "data": {
      "text/plain": [
       "Restaurant       0.556002\n",
       "Cuisines         1.201727\n",
       "Average_Cost     0.652784\n",
       "Minimum_Order    0.000000\n",
       "Rating          -0.877016\n",
       "Votes            1.206945\n",
       "Reviews          1.196568\n",
       "Area             0.868114\n",
       "dtype: float64"
      ]
     },
     "execution_count": 56,
     "metadata": {},
     "output_type": "execute_result"
    }
   ],
   "source": [
    "data.skew()"
   ]
  },
  {
   "cell_type": "code",
   "execution_count": 57,
   "metadata": {},
   "outputs": [],
   "source": [
    "cols = ['Restaurant', 'Cuisines', 'Average_Cost', 'Minimum_Order',\n",
    "       'Rating', 'Votes', 'Reviews', 'Area']\n",
    "for i in cols:\n",
    "    data[i] = np.log(data[i]+1)   "
   ]
  },
  {
   "cell_type": "code",
   "execution_count": 58,
   "metadata": {},
   "outputs": [
    {
     "data": {
      "text/plain": [
       "Restaurant      -0.744979\n",
       "Cuisines        -0.064990\n",
       "Average_Cost    -0.428448\n",
       "Minimum_Order    0.000000\n",
       "Rating          -1.121949\n",
       "Votes           -0.426981\n",
       "Reviews         -0.120592\n",
       "Area            -0.082398\n",
       "dtype: float64"
      ]
     },
     "execution_count": 58,
     "metadata": {},
     "output_type": "execute_result"
    }
   ],
   "source": [
    "data.skew()"
   ]
  },
  {
   "cell_type": "markdown",
   "metadata": {},
   "source": [
    "# Feature Selection"
   ]
  },
  {
   "cell_type": "markdown",
   "metadata": {},
   "source": [
    "https://towardsdatascience.com/chi-squared-test-for-feature-selection-with-implementation-in-python-65b4ae7696db"
   ]
  },
  {
   "cell_type": "code",
   "execution_count": 59,
   "metadata": {},
   "outputs": [],
   "source": [
    "import pandas as pd\n",
    "import numpy as np\n",
    "from sklearn.feature_selection import SelectKBest\n",
    "from sklearn.feature_selection import chi2"
   ]
  },
  {
   "cell_type": "code",
   "execution_count": 60,
   "metadata": {},
   "outputs": [],
   "source": [
    "x =data.drop([\"Delivery_Time\", \"Location\"], axis = 1)\n",
    "y = data[\"Delivery_Time\"]"
   ]
  },
  {
   "cell_type": "code",
   "execution_count": 61,
   "metadata": {},
   "outputs": [],
   "source": [
    "#apply SelectKBest class to extract top 10 best features\n",
    "bestfeatures = SelectKBest(score_func=chi2,k=5)\n",
    "fit = bestfeatures.fit(x,y)"
   ]
  },
  {
   "cell_type": "code",
   "execution_count": 62,
   "metadata": {},
   "outputs": [],
   "source": [
    "dfscores = pd.DataFrame(fit.scores_)\n",
    "dfcolumns = pd.DataFrame(x.columns)"
   ]
  },
  {
   "cell_type": "code",
   "execution_count": 63,
   "metadata": {},
   "outputs": [],
   "source": [
    "featureScores = pd.concat([dfcolumns,dfscores],axis=1)\n",
    "featureScores.columns = ['Features','Score']  #naming the dataframe columns"
   ]
  },
  {
   "cell_type": "code",
   "execution_count": 64,
   "metadata": {},
   "outputs": [
    {
     "data": {
      "text/html": [
       "<div>\n",
       "<style scoped>\n",
       "    .dataframe tbody tr th:only-of-type {\n",
       "        vertical-align: middle;\n",
       "    }\n",
       "\n",
       "    .dataframe tbody tr th {\n",
       "        vertical-align: top;\n",
       "    }\n",
       "\n",
       "    .dataframe thead th {\n",
       "        text-align: right;\n",
       "    }\n",
       "</style>\n",
       "<table border=\"1\" class=\"dataframe\">\n",
       "  <thead>\n",
       "    <tr style=\"text-align: right;\">\n",
       "      <th></th>\n",
       "      <th>Features</th>\n",
       "      <th>Score</th>\n",
       "    </tr>\n",
       "  </thead>\n",
       "  <tbody>\n",
       "    <tr>\n",
       "      <th>0</th>\n",
       "      <td>Restaurant</td>\n",
       "      <td>2.007080e+02</td>\n",
       "    </tr>\n",
       "    <tr>\n",
       "      <th>1</th>\n",
       "      <td>Cuisines</td>\n",
       "      <td>1.693507e+02</td>\n",
       "    </tr>\n",
       "    <tr>\n",
       "      <th>2</th>\n",
       "      <td>Average_Cost</td>\n",
       "      <td>2.250893e+01</td>\n",
       "    </tr>\n",
       "    <tr>\n",
       "      <th>3</th>\n",
       "      <td>Minimum_Order</td>\n",
       "      <td>2.198364e-27</td>\n",
       "    </tr>\n",
       "    <tr>\n",
       "      <th>4</th>\n",
       "      <td>Rating</td>\n",
       "      <td>3.197954e+01</td>\n",
       "    </tr>\n",
       "    <tr>\n",
       "      <th>5</th>\n",
       "      <td>Votes</td>\n",
       "      <td>3.018315e+03</td>\n",
       "    </tr>\n",
       "    <tr>\n",
       "      <th>6</th>\n",
       "      <td>Reviews</td>\n",
       "      <td>2.967239e+03</td>\n",
       "    </tr>\n",
       "    <tr>\n",
       "      <th>7</th>\n",
       "      <td>Area</td>\n",
       "      <td>1.633281e+00</td>\n",
       "    </tr>\n",
       "  </tbody>\n",
       "</table>\n",
       "</div>"
      ],
      "text/plain": [
       "        Features         Score\n",
       "0     Restaurant  2.007080e+02\n",
       "1       Cuisines  1.693507e+02\n",
       "2   Average_Cost  2.250893e+01\n",
       "3  Minimum_Order  2.198364e-27\n",
       "4         Rating  3.197954e+01\n",
       "5          Votes  3.018315e+03\n",
       "6        Reviews  2.967239e+03\n",
       "7           Area  1.633281e+00"
      ]
     },
     "execution_count": 64,
     "metadata": {},
     "output_type": "execute_result"
    }
   ],
   "source": [
    "featureScores"
   ]
  },
  {
   "cell_type": "code",
   "execution_count": 65,
   "metadata": {},
   "outputs": [
    {
     "name": "stdout",
     "output_type": "stream",
     "text": [
      "        Features         Score\n",
      "5          Votes  3.018315e+03\n",
      "6        Reviews  2.967239e+03\n",
      "0     Restaurant  2.007080e+02\n",
      "1       Cuisines  1.693507e+02\n",
      "4         Rating  3.197954e+01\n",
      "2   Average_Cost  2.250893e+01\n",
      "7           Area  1.633281e+00\n",
      "3  Minimum_Order  2.198364e-27\n"
     ]
    }
   ],
   "source": [
    "print(featureScores.nlargest(8,'Score'))"
   ]
  },
  {
   "cell_type": "code",
   "execution_count": 66,
   "metadata": {},
   "outputs": [],
   "source": [
    "x = x.drop(\"Minimum_Order\", axis = 1)"
   ]
  },
  {
   "cell_type": "code",
   "execution_count": 67,
   "metadata": {},
   "outputs": [
    {
     "name": "stdout",
     "output_type": "stream",
     "text": [
      "(11094, 7) (11094,)\n"
     ]
    }
   ],
   "source": [
    "print(x.shape, y.shape)"
   ]
  },
  {
   "cell_type": "markdown",
   "metadata": {},
   "source": [
    "from imblearn.combine import SMOTETomek\n",
    "from imblearn.over_sampling import SMOTE\n",
    "smote=SMOTE(k_neighbors=4) # We need to specify the number of k_neighbors, the new point should consider\n",
    "#smote=SMOTETomek(random_state=42)\n",
    "X,Y=smote.fit_sample(x,y)"
   ]
  },
  {
   "cell_type": "markdown",
   "metadata": {},
   "source": [
    "# ValueError: Expected n_neighbors <= n_samples,  but n_samples = 4, n_neighbors = 5\n",
    "\n",
    "I had a similiar issue.\n",
    "\n",
    "SMOTE is based in a KNN algorithm, so you need a minimal number of samples to create a new instance of this subset.\n",
    "\n",
    "For example:\n",
    "\n",
    "If you is trying to predict is a integer value, class 1, 2, 3, and supposing that you have just 2 samples of class 1, how to get k-3 neighbors? Will be impossible. It's too umbalanced!!\n",
    "The message is pretty clear:\n",
    "\n",
    "Expected n_neighbors <= n_samples.\n",
    "\n",
    "So, you need have more or equals SAMPLES than neighbors, to create new instances.\n",
    "\n",
    "I look yout dataset and you have just 4 samples of OUTPUT 1. So, the message is saying you have just 4 but I need 6 neighbors to create a new instance of them.\n",
    "\n",
    "***You have selected a larger k than your no.of samples , k needs to be < n_samples.***\n",
    "\n",
    "https://stackoverflow.com/questions/45943335/smote-value-error/48820222<br>\n",
    "https://github.com/esteinig/netviewP/issues/2"
   ]
  },
  {
   "cell_type": "markdown",
   "metadata": {},
   "source": [
    "from imblearn.combine import SMOTETomek\n",
    "from imblearn.over_sampling import SMOTE\n",
    "smote=SMOTE(k_neighbors=3) # We need to specify the number of k_neighbors, the new point should consider\n",
    "#smote=SMOTETomek(random_state=42)\n",
    "X,Y=smote.fit_sample(x,y)"
   ]
  },
  {
   "cell_type": "markdown",
   "metadata": {},
   "source": [
    "# difference between smotetomek vs smote"
   ]
  },
  {
   "cell_type": "markdown",
   "metadata": {},
   "source": [
    "SMOTE is an oversampling method that synthesizes new plausible examples in the majority class.<br> Tomek Links refers to a method for identifying pairs of nearest neighbors in a dataset that have different classes."
   ]
  },
  {
   "cell_type": "code",
   "execution_count": null,
   "metadata": {},
   "outputs": [],
   "source": [
    "#y.value_counts()"
   ]
  },
  {
   "cell_type": "code",
   "execution_count": null,
   "metadata": {},
   "outputs": [],
   "source": [
    "#print(X.shape, Y.shape)"
   ]
  },
  {
   "cell_type": "code",
   "execution_count": null,
   "metadata": {},
   "outputs": [],
   "source": [
    "#Y.value_counts()"
   ]
  },
  {
   "cell_type": "markdown",
   "metadata": {},
   "source": [
    "# **TEST DATA CLEANING**"
   ]
  },
  {
   "cell_type": "code",
   "execution_count": 68,
   "metadata": {},
   "outputs": [
    {
     "data": {
      "text/html": [
       "<div>\n",
       "<style scoped>\n",
       "    .dataframe tbody tr th:only-of-type {\n",
       "        vertical-align: middle;\n",
       "    }\n",
       "\n",
       "    .dataframe tbody tr th {\n",
       "        vertical-align: top;\n",
       "    }\n",
       "\n",
       "    .dataframe thead th {\n",
       "        text-align: right;\n",
       "    }\n",
       "</style>\n",
       "<table border=\"1\" class=\"dataframe\">\n",
       "  <thead>\n",
       "    <tr style=\"text-align: right;\">\n",
       "      <th></th>\n",
       "      <th>Restaurant</th>\n",
       "      <th>Location</th>\n",
       "      <th>Cuisines</th>\n",
       "      <th>Average_Cost</th>\n",
       "      <th>Minimum_Order</th>\n",
       "      <th>Rating</th>\n",
       "      <th>Votes</th>\n",
       "      <th>Reviews</th>\n",
       "    </tr>\n",
       "  </thead>\n",
       "  <tbody>\n",
       "    <tr>\n",
       "      <th>0</th>\n",
       "      <td>ID_2842</td>\n",
       "      <td>Mico Layout, Stage 2, BTM Layout,Bangalore</td>\n",
       "      <td>North Indian, Chinese, Assamese</td>\n",
       "      <td>₹350</td>\n",
       "      <td>₹50</td>\n",
       "      <td>4.2</td>\n",
       "      <td>361</td>\n",
       "      <td>225</td>\n",
       "    </tr>\n",
       "    <tr>\n",
       "      <th>1</th>\n",
       "      <td>ID_730</td>\n",
       "      <td>Mico Layout, Stage 2, BTM Layout,Bangalore</td>\n",
       "      <td>Biryani, Kebab</td>\n",
       "      <td>₹100</td>\n",
       "      <td>₹50</td>\n",
       "      <td>NEW</td>\n",
       "      <td>-</td>\n",
       "      <td>-</td>\n",
       "    </tr>\n",
       "    <tr>\n",
       "      <th>2</th>\n",
       "      <td>ID_4620</td>\n",
       "      <td>Sector 1, Noida</td>\n",
       "      <td>Fast Food</td>\n",
       "      <td>₹100</td>\n",
       "      <td>₹50</td>\n",
       "      <td>3.6</td>\n",
       "      <td>36</td>\n",
       "      <td>16</td>\n",
       "    </tr>\n",
       "    <tr>\n",
       "      <th>3</th>\n",
       "      <td>ID_5470</td>\n",
       "      <td>Babarpur, New Delhi, Delhi</td>\n",
       "      <td>Mithai, North Indian, Chinese, Fast Food, Sout...</td>\n",
       "      <td>₹200</td>\n",
       "      <td>₹50</td>\n",
       "      <td>3.6</td>\n",
       "      <td>66</td>\n",
       "      <td>33</td>\n",
       "    </tr>\n",
       "    <tr>\n",
       "      <th>4</th>\n",
       "      <td>ID_3249</td>\n",
       "      <td>Sector 1, Noida</td>\n",
       "      <td>Chinese, Fast Food</td>\n",
       "      <td>₹150</td>\n",
       "      <td>₹50</td>\n",
       "      <td>2.9</td>\n",
       "      <td>38</td>\n",
       "      <td>14</td>\n",
       "    </tr>\n",
       "  </tbody>\n",
       "</table>\n",
       "</div>"
      ],
      "text/plain": [
       "  Restaurant                                    Location  \\\n",
       "0    ID_2842  Mico Layout, Stage 2, BTM Layout,Bangalore   \n",
       "1     ID_730  Mico Layout, Stage 2, BTM Layout,Bangalore   \n",
       "2    ID_4620                             Sector 1, Noida   \n",
       "3    ID_5470                  Babarpur, New Delhi, Delhi   \n",
       "4    ID_3249                             Sector 1, Noida   \n",
       "\n",
       "                                            Cuisines Average_Cost  \\\n",
       "0                    North Indian, Chinese, Assamese         ₹350   \n",
       "1                                     Biryani, Kebab         ₹100   \n",
       "2                                          Fast Food         ₹100   \n",
       "3  Mithai, North Indian, Chinese, Fast Food, Sout...         ₹200   \n",
       "4                                 Chinese, Fast Food         ₹150   \n",
       "\n",
       "  Minimum_Order Rating Votes Reviews  \n",
       "0           ₹50    4.2   361     225  \n",
       "1           ₹50    NEW     -       -  \n",
       "2           ₹50    3.6    36      16  \n",
       "3           ₹50    3.6    66      33  \n",
       "4           ₹50    2.9    38      14  "
      ]
     },
     "execution_count": 68,
     "metadata": {},
     "output_type": "execute_result"
    }
   ],
   "source": [
    "data_test = pd.read_excel(\"Data_Test.xlsx\")\n",
    "data_test.head()"
   ]
  },
  {
   "cell_type": "code",
   "execution_count": 69,
   "metadata": {},
   "outputs": [
    {
     "name": "stdout",
     "output_type": "stream",
     "text": [
      "<class 'pandas.core.frame.DataFrame'>\n",
      "RangeIndex: 2774 entries, 0 to 2773\n",
      "Data columns (total 8 columns):\n",
      " #   Column         Non-Null Count  Dtype \n",
      "---  ------         --------------  ----- \n",
      " 0   Restaurant     2774 non-null   object\n",
      " 1   Location       2774 non-null   object\n",
      " 2   Cuisines       2774 non-null   object\n",
      " 3   Average_Cost   2774 non-null   object\n",
      " 4   Minimum_Order  2774 non-null   object\n",
      " 5   Rating         2774 non-null   object\n",
      " 6   Votes          2774 non-null   object\n",
      " 7   Reviews        2774 non-null   object\n",
      "dtypes: object(8)\n",
      "memory usage: 173.5+ KB\n"
     ]
    }
   ],
   "source": [
    "test = data_test.copy()\n",
    "test.info()"
   ]
  },
  {
   "cell_type": "code",
   "execution_count": 70,
   "metadata": {},
   "outputs": [],
   "source": [
    "test[\"Average_Cost\"] = test[\"Average_Cost\"].str.replace(\"₹\", \"\").str.replace(\",\", \"\")\n",
    "test[\"Minimum_Order\"] = test[\"Minimum_Order\"].str.replace(\"₹\", \"\")\n",
    "test[\"Minimum_Order\"] = test[\"Minimum_Order\"].astype(int)"
   ]
  },
  {
   "cell_type": "code",
   "execution_count": 71,
   "metadata": {},
   "outputs": [
    {
     "data": {
      "text/plain": [
       "-               305\n",
       "3.6             223\n",
       "3.9             216\n",
       "3.7             212\n",
       "NEW             200\n",
       "3.5             197\n",
       "3.4             185\n",
       "3.8             183\n",
       "3.3             153\n",
       "4.0             141\n",
       "3.2             129\n",
       "3.1             120\n",
       "4.1             115\n",
       "4.2              70\n",
       "3.0              65\n",
       "2.9              57\n",
       "4.3              52\n",
       "2.8              41\n",
       "4.4              29\n",
       "2.7              22\n",
       "4.5              18\n",
       "2.6               9\n",
       "4.6               7\n",
       "2.5               6\n",
       "4.7               6\n",
       "2.4               5\n",
       "4.8               3\n",
       "2.3               2\n",
       "Opening Soon      2\n",
       "2.1               1\n",
       "Name: Rating, dtype: int64"
      ]
     },
     "execution_count": 71,
     "metadata": {},
     "output_type": "execute_result"
    }
   ],
   "source": [
    "test[\"Rating\"].value_counts()"
   ]
  },
  {
   "cell_type": "code",
   "execution_count": 72,
   "metadata": {},
   "outputs": [
    {
     "name": "stderr",
     "output_type": "stream",
     "text": [
      "/opt/anaconda3/lib/python3.7/site-packages/ipykernel_launcher.py:2: SettingWithCopyWarning: \n",
      "A value is trying to be set on a copy of a slice from a DataFrame\n",
      "\n",
      "See the caveats in the documentation: https://pandas.pydata.org/pandas-docs/stable/user_guide/indexing.html#returning-a-view-versus-a-copy\n",
      "  \n"
     ]
    }
   ],
   "source": [
    "list_of_words = [\"Opening Soon\", \"Temporarily Closed\", \"-\", \"NEW\"]\n",
    "test[\"Rating\"][test[\"Rating\"].isin(list_of_words)] = np.nan"
   ]
  },
  {
   "cell_type": "code",
   "execution_count": 73,
   "metadata": {},
   "outputs": [
    {
     "data": {
      "text/plain": [
       "NaN    507\n",
       "3.6    223\n",
       "3.9    216\n",
       "3.7    212\n",
       "3.5    197\n",
       "3.4    185\n",
       "3.8    183\n",
       "3.3    153\n",
       "4.0    141\n",
       "3.2    129\n",
       "3.1    120\n",
       "4.1    115\n",
       "4.2     70\n",
       "3.0     65\n",
       "2.9     57\n",
       "4.3     52\n",
       "2.8     41\n",
       "4.4     29\n",
       "2.7     22\n",
       "4.5     18\n",
       "2.6      9\n",
       "4.6      7\n",
       "2.5      6\n",
       "4.7      6\n",
       "2.4      5\n",
       "4.8      3\n",
       "2.3      2\n",
       "2.1      1\n",
       "Name: Rating, dtype: int64"
      ]
     },
     "execution_count": 73,
     "metadata": {},
     "output_type": "execute_result"
    }
   ],
   "source": [
    "test[\"Rating\"].value_counts(dropna = False)"
   ]
  },
  {
   "cell_type": "code",
   "execution_count": 74,
   "metadata": {},
   "outputs": [],
   "source": [
    "test[\"Rating\"].fillna(0,inplace = True)"
   ]
  },
  {
   "cell_type": "code",
   "execution_count": 75,
   "metadata": {},
   "outputs": [
    {
     "data": {
      "text/plain": [
       "-      542\n",
       "7       60\n",
       "9       57\n",
       "6       55\n",
       "5       51\n",
       "      ... \n",
       "422      1\n",
       "566      1\n",
       "666      1\n",
       "510      1\n",
       "798      1\n",
       "Name: Votes, Length: 580, dtype: int64"
      ]
     },
     "execution_count": 75,
     "metadata": {},
     "output_type": "execute_result"
    }
   ],
   "source": [
    "test[\"Votes\"].value_counts()"
   ]
  },
  {
   "cell_type": "code",
   "execution_count": 76,
   "metadata": {},
   "outputs": [],
   "source": [
    "test[\"Votes\"] = test[\"Votes\"].str.replace(\"-\", \"0\")"
   ]
  },
  {
   "cell_type": "code",
   "execution_count": 77,
   "metadata": {},
   "outputs": [],
   "source": [
    "test[\"Reviews\"] = test[\"Reviews\"].str.replace(\"-\", \"0\")"
   ]
  },
  {
   "cell_type": "code",
   "execution_count": 78,
   "metadata": {},
   "outputs": [
    {
     "data": {
      "text/plain": [
       "Restaurant       0\n",
       "Location         0\n",
       "Cuisines         0\n",
       "Average_Cost     0\n",
       "Minimum_Order    0\n",
       "Rating           0\n",
       "Votes            0\n",
       "Reviews          0\n",
       "dtype: int64"
      ]
     },
     "execution_count": 78,
     "metadata": {},
     "output_type": "execute_result"
    }
   ],
   "source": [
    "test.isnull().sum()"
   ]
  },
  {
   "cell_type": "code",
   "execution_count": 79,
   "metadata": {},
   "outputs": [],
   "source": [
    "test[\"Rating\"] = test[\"Rating\"].astype(float)\n",
    "test[\"Votes\"] = test[\"Votes\"].astype(int)\n",
    "test[\"Reviews\"] = test[\"Reviews\"].astype(int)\n",
    "test[\"Average_Cost\"] = test[\"Average_Cost\"].astype(int)"
   ]
  },
  {
   "cell_type": "code",
   "execution_count": 80,
   "metadata": {},
   "outputs": [],
   "source": [
    "test[\"Area\"] = data[\"Location\"].str.split(\",\").str[-1]"
   ]
  },
  {
   "cell_type": "code",
   "execution_count": 81,
   "metadata": {},
   "outputs": [],
   "source": [
    "mean_average_cost1 = test.pivot_table(index = [\"Restaurant\"],values = \"Average_Cost\")\n",
    "encoded1 = pd.Series(data = lb.fit_transform(mean_average_cost1[\"Average_Cost\"]), index = mean_average_cost1.index)\n",
    "test[\"Restaurant\"] = test[\"Restaurant\"].map(encoded1)"
   ]
  },
  {
   "cell_type": "code",
   "execution_count": 82,
   "metadata": {},
   "outputs": [],
   "source": [
    "dic_area_count = test[\"Area\"].value_counts().to_dict()\n",
    "test[\"Area\"] = test[\"Area\"].map(dic_area_count)"
   ]
  },
  {
   "cell_type": "code",
   "execution_count": 83,
   "metadata": {},
   "outputs": [],
   "source": [
    "dic_foodorders = test[\"Cuisines\"].value_counts().to_dict()\n",
    "test[\"Cuisines\"] =test[\"Cuisines\"].map(dic_foodorders)"
   ]
  },
  {
   "cell_type": "code",
   "execution_count": 84,
   "metadata": {},
   "outputs": [
    {
     "data": {
      "text/html": [
       "<div>\n",
       "<style scoped>\n",
       "    .dataframe tbody tr th:only-of-type {\n",
       "        vertical-align: middle;\n",
       "    }\n",
       "\n",
       "    .dataframe tbody tr th {\n",
       "        vertical-align: top;\n",
       "    }\n",
       "\n",
       "    .dataframe thead th {\n",
       "        text-align: right;\n",
       "    }\n",
       "</style>\n",
       "<table border=\"1\" class=\"dataframe\">\n",
       "  <thead>\n",
       "    <tr style=\"text-align: right;\">\n",
       "      <th></th>\n",
       "      <th>Restaurant</th>\n",
       "      <th>Location</th>\n",
       "      <th>Cuisines</th>\n",
       "      <th>Average_Cost</th>\n",
       "      <th>Minimum_Order</th>\n",
       "      <th>Rating</th>\n",
       "      <th>Votes</th>\n",
       "      <th>Reviews</th>\n",
       "      <th>Area</th>\n",
       "    </tr>\n",
       "  </thead>\n",
       "  <tbody>\n",
       "    <tr>\n",
       "      <th>0</th>\n",
       "      <td>20</td>\n",
       "      <td>Mico Layout, Stage 2, BTM Layout,Bangalore</td>\n",
       "      <td>1</td>\n",
       "      <td>350</td>\n",
       "      <td>50</td>\n",
       "      <td>4.2</td>\n",
       "      <td>361</td>\n",
       "      <td>225</td>\n",
       "      <td>342</td>\n",
       "    </tr>\n",
       "    <tr>\n",
       "      <th>1</th>\n",
       "      <td>2</td>\n",
       "      <td>Mico Layout, Stage 2, BTM Layout,Bangalore</td>\n",
       "      <td>6</td>\n",
       "      <td>100</td>\n",
       "      <td>50</td>\n",
       "      <td>0.0</td>\n",
       "      <td>0</td>\n",
       "      <td>0</td>\n",
       "      <td>79</td>\n",
       "    </tr>\n",
       "    <tr>\n",
       "      <th>2</th>\n",
       "      <td>2</td>\n",
       "      <td>Sector 1, Noida</td>\n",
       "      <td>119</td>\n",
       "      <td>100</td>\n",
       "      <td>50</td>\n",
       "      <td>3.6</td>\n",
       "      <td>36</td>\n",
       "      <td>16</td>\n",
       "      <td>134</td>\n",
       "    </tr>\n",
       "    <tr>\n",
       "      <th>3</th>\n",
       "      <td>10</td>\n",
       "      <td>Babarpur, New Delhi, Delhi</td>\n",
       "      <td>1</td>\n",
       "      <td>200</td>\n",
       "      <td>50</td>\n",
       "      <td>3.6</td>\n",
       "      <td>66</td>\n",
       "      <td>33</td>\n",
       "      <td>503</td>\n",
       "    </tr>\n",
       "    <tr>\n",
       "      <th>4</th>\n",
       "      <td>6</td>\n",
       "      <td>Sector 1, Noida</td>\n",
       "      <td>23</td>\n",
       "      <td>150</td>\n",
       "      <td>50</td>\n",
       "      <td>2.9</td>\n",
       "      <td>38</td>\n",
       "      <td>14</td>\n",
       "      <td>119</td>\n",
       "    </tr>\n",
       "  </tbody>\n",
       "</table>\n",
       "</div>"
      ],
      "text/plain": [
       "   Restaurant                                    Location  Cuisines  \\\n",
       "0          20  Mico Layout, Stage 2, BTM Layout,Bangalore         1   \n",
       "1           2  Mico Layout, Stage 2, BTM Layout,Bangalore         6   \n",
       "2           2                             Sector 1, Noida       119   \n",
       "3          10                  Babarpur, New Delhi, Delhi         1   \n",
       "4           6                             Sector 1, Noida        23   \n",
       "\n",
       "   Average_Cost  Minimum_Order  Rating  Votes  Reviews  Area  \n",
       "0           350             50     4.2    361      225   342  \n",
       "1           100             50     0.0      0        0    79  \n",
       "2           100             50     3.6     36       16   134  \n",
       "3           200             50     3.6     66       33   503  \n",
       "4           150             50     2.9     38       14   119  "
      ]
     },
     "execution_count": 84,
     "metadata": {},
     "output_type": "execute_result"
    }
   ],
   "source": [
    "test.head()"
   ]
  },
  {
   "cell_type": "code",
   "execution_count": 85,
   "metadata": {},
   "outputs": [
    {
     "data": {
      "text/plain": [
       "Area               0\n",
       "Average_Cost     162\n",
       "Cuisines         517\n",
       "Location           0\n",
       "Minimum_Order    218\n",
       "Rating           507\n",
       "Restaurant        97\n",
       "Reviews          364\n",
       "Votes            341\n",
       "dtype: int64"
      ]
     },
     "execution_count": 85,
     "metadata": {},
     "output_type": "execute_result"
    }
   ],
   "source": [
    "Q1 = test.quantile(0.25)\n",
    "Q3 = test.quantile(0.75)\n",
    "IQR= Q3-Q1 \n",
    "((test< (Q1-1.5*IQR)) | (test > (Q3+1.5*IQR))).sum()"
   ]
  },
  {
   "cell_type": "code",
   "execution_count": 86,
   "metadata": {},
   "outputs": [],
   "source": [
    "columns_1 = ['Restaurant', 'Cuisines', 'Average_Cost', 'Minimum_Order','Rating', 'Votes', 'Reviews']\n",
    "for i in columns_1:\n",
    "       \n",
    "    q75, q25 = np.percentile(test[i], [75,25])\n",
    "    iqr = q75-q25\n",
    "    minimum = q25-1.5*iqr\n",
    "    maximum = q75+1.5*iqr\n",
    "    test[i] = np.where(test[i] < minimum, minimum, test[i])\n",
    "    test[i] = np.where(test[i] > maximum, maximum, test[i])"
   ]
  },
  {
   "cell_type": "code",
   "execution_count": 87,
   "metadata": {},
   "outputs": [
    {
     "data": {
      "text/plain": [
       "Area             0\n",
       "Average_Cost     0\n",
       "Cuisines         0\n",
       "Location         0\n",
       "Minimum_Order    0\n",
       "Rating           0\n",
       "Restaurant       0\n",
       "Reviews          0\n",
       "Votes            0\n",
       "dtype: int64"
      ]
     },
     "execution_count": 87,
     "metadata": {},
     "output_type": "execute_result"
    }
   ],
   "source": [
    "((test< (Q1-1.5*IQR)) | (test > (Q3+1.5*IQR))).sum()"
   ]
  },
  {
   "cell_type": "code",
   "execution_count": 88,
   "metadata": {},
   "outputs": [
    {
     "data": {
      "text/plain": [
       "Restaurant       0.682158\n",
       "Cuisines         1.077220\n",
       "Average_Cost     0.618555\n",
       "Minimum_Order    0.000000\n",
       "Rating          -0.868044\n",
       "Votes            1.207319\n",
       "Reviews          1.209794\n",
       "Area             0.774490\n",
       "dtype: float64"
      ]
     },
     "execution_count": 88,
     "metadata": {},
     "output_type": "execute_result"
    }
   ],
   "source": [
    "test.skew()"
   ]
  },
  {
   "cell_type": "code",
   "execution_count": 89,
   "metadata": {},
   "outputs": [],
   "source": [
    "cols_1= ['Restaurant', 'Cuisines', 'Average_Cost', 'Minimum_Order',\n",
    "       'Rating', 'Votes', 'Reviews', 'Area']\n",
    "for i in cols_1:\n",
    "    test[i] = np.log(test[i]+1)  "
   ]
  },
  {
   "cell_type": "code",
   "execution_count": 90,
   "metadata": {},
   "outputs": [
    {
     "data": {
      "text/plain": [
       "Restaurant      -0.626999\n",
       "Cuisines         0.146204\n",
       "Average_Cost    -0.331594\n",
       "Minimum_Order    0.000000\n",
       "Rating          -1.096908\n",
       "Votes           -0.405331\n",
       "Reviews         -0.102511\n",
       "Area            -0.119786\n",
       "dtype: float64"
      ]
     },
     "execution_count": 90,
     "metadata": {},
     "output_type": "execute_result"
    }
   ],
   "source": [
    "test.skew()"
   ]
  },
  {
   "cell_type": "code",
   "execution_count": 91,
   "metadata": {},
   "outputs": [
    {
     "data": {
      "text/html": [
       "<div>\n",
       "<style scoped>\n",
       "    .dataframe tbody tr th:only-of-type {\n",
       "        vertical-align: middle;\n",
       "    }\n",
       "\n",
       "    .dataframe tbody tr th {\n",
       "        vertical-align: top;\n",
       "    }\n",
       "\n",
       "    .dataframe thead th {\n",
       "        text-align: right;\n",
       "    }\n",
       "</style>\n",
       "<table border=\"1\" class=\"dataframe\">\n",
       "  <thead>\n",
       "    <tr style=\"text-align: right;\">\n",
       "      <th></th>\n",
       "      <th>Restaurant</th>\n",
       "      <th>Location</th>\n",
       "      <th>Cuisines</th>\n",
       "      <th>Average_Cost</th>\n",
       "      <th>Minimum_Order</th>\n",
       "      <th>Rating</th>\n",
       "      <th>Votes</th>\n",
       "      <th>Reviews</th>\n",
       "      <th>Area</th>\n",
       "    </tr>\n",
       "  </thead>\n",
       "  <tbody>\n",
       "    <tr>\n",
       "      <th>0</th>\n",
       "      <td>3.044522</td>\n",
       "      <td>Mico Layout, Stage 2, BTM Layout,Bangalore</td>\n",
       "      <td>0.693147</td>\n",
       "      <td>5.860786</td>\n",
       "      <td>3.931826</td>\n",
       "      <td>1.648659</td>\n",
       "      <td>5.891644</td>\n",
       "      <td>5.007296</td>\n",
       "      <td>5.837730</td>\n",
       "    </tr>\n",
       "    <tr>\n",
       "      <th>1</th>\n",
       "      <td>1.098612</td>\n",
       "      <td>Mico Layout, Stage 2, BTM Layout,Bangalore</td>\n",
       "      <td>1.945910</td>\n",
       "      <td>4.615121</td>\n",
       "      <td>3.931826</td>\n",
       "      <td>1.029619</td>\n",
       "      <td>0.000000</td>\n",
       "      <td>0.000000</td>\n",
       "      <td>4.382027</td>\n",
       "    </tr>\n",
       "    <tr>\n",
       "      <th>2</th>\n",
       "      <td>1.098612</td>\n",
       "      <td>Sector 1, Noida</td>\n",
       "      <td>4.532599</td>\n",
       "      <td>4.615121</td>\n",
       "      <td>3.931826</td>\n",
       "      <td>1.526056</td>\n",
       "      <td>3.610918</td>\n",
       "      <td>2.833213</td>\n",
       "      <td>4.905275</td>\n",
       "    </tr>\n",
       "    <tr>\n",
       "      <th>3</th>\n",
       "      <td>2.397895</td>\n",
       "      <td>Babarpur, New Delhi, Delhi</td>\n",
       "      <td>0.693147</td>\n",
       "      <td>5.303305</td>\n",
       "      <td>3.931826</td>\n",
       "      <td>1.526056</td>\n",
       "      <td>4.204693</td>\n",
       "      <td>3.526361</td>\n",
       "      <td>6.222576</td>\n",
       "    </tr>\n",
       "    <tr>\n",
       "      <th>4</th>\n",
       "      <td>1.945910</td>\n",
       "      <td>Sector 1, Noida</td>\n",
       "      <td>3.178054</td>\n",
       "      <td>5.017280</td>\n",
       "      <td>3.931826</td>\n",
       "      <td>1.360977</td>\n",
       "      <td>3.663562</td>\n",
       "      <td>2.708050</td>\n",
       "      <td>4.787492</td>\n",
       "    </tr>\n",
       "  </tbody>\n",
       "</table>\n",
       "</div>"
      ],
      "text/plain": [
       "   Restaurant                                    Location  Cuisines  \\\n",
       "0    3.044522  Mico Layout, Stage 2, BTM Layout,Bangalore  0.693147   \n",
       "1    1.098612  Mico Layout, Stage 2, BTM Layout,Bangalore  1.945910   \n",
       "2    1.098612                             Sector 1, Noida  4.532599   \n",
       "3    2.397895                  Babarpur, New Delhi, Delhi  0.693147   \n",
       "4    1.945910                             Sector 1, Noida  3.178054   \n",
       "\n",
       "   Average_Cost  Minimum_Order    Rating     Votes   Reviews      Area  \n",
       "0      5.860786       3.931826  1.648659  5.891644  5.007296  5.837730  \n",
       "1      4.615121       3.931826  1.029619  0.000000  0.000000  4.382027  \n",
       "2      4.615121       3.931826  1.526056  3.610918  2.833213  4.905275  \n",
       "3      5.303305       3.931826  1.526056  4.204693  3.526361  6.222576  \n",
       "4      5.017280       3.931826  1.360977  3.663562  2.708050  4.787492  "
      ]
     },
     "execution_count": 91,
     "metadata": {},
     "output_type": "execute_result"
    }
   ],
   "source": [
    "test.head()"
   ]
  },
  {
   "cell_type": "code",
   "execution_count": 92,
   "metadata": {},
   "outputs": [],
   "source": [
    "df_test = test.drop([\"Location\", \"Minimum_Order\"],axis = 1)"
   ]
  },
  {
   "cell_type": "code",
   "execution_count": 132,
   "metadata": {},
   "outputs": [
    {
     "data": {
      "text/html": [
       "<div>\n",
       "<style scoped>\n",
       "    .dataframe tbody tr th:only-of-type {\n",
       "        vertical-align: middle;\n",
       "    }\n",
       "\n",
       "    .dataframe tbody tr th {\n",
       "        vertical-align: top;\n",
       "    }\n",
       "\n",
       "    .dataframe thead th {\n",
       "        text-align: right;\n",
       "    }\n",
       "</style>\n",
       "<table border=\"1\" class=\"dataframe\">\n",
       "  <thead>\n",
       "    <tr style=\"text-align: right;\">\n",
       "      <th></th>\n",
       "      <th>Restaurant</th>\n",
       "      <th>Cuisines</th>\n",
       "      <th>Average_Cost</th>\n",
       "      <th>Rating</th>\n",
       "      <th>Votes</th>\n",
       "      <th>Reviews</th>\n",
       "      <th>Area</th>\n",
       "    </tr>\n",
       "  </thead>\n",
       "  <tbody>\n",
       "    <tr>\n",
       "      <th>0</th>\n",
       "      <td>3.044522</td>\n",
       "      <td>0.693147</td>\n",
       "      <td>5.860786</td>\n",
       "      <td>1.648659</td>\n",
       "      <td>5.891644</td>\n",
       "      <td>5.007296</td>\n",
       "      <td>5.837730</td>\n",
       "    </tr>\n",
       "    <tr>\n",
       "      <th>1</th>\n",
       "      <td>1.098612</td>\n",
       "      <td>1.945910</td>\n",
       "      <td>4.615121</td>\n",
       "      <td>1.029619</td>\n",
       "      <td>0.000000</td>\n",
       "      <td>0.000000</td>\n",
       "      <td>4.382027</td>\n",
       "    </tr>\n",
       "    <tr>\n",
       "      <th>2</th>\n",
       "      <td>1.098612</td>\n",
       "      <td>4.532599</td>\n",
       "      <td>4.615121</td>\n",
       "      <td>1.526056</td>\n",
       "      <td>3.610918</td>\n",
       "      <td>2.833213</td>\n",
       "      <td>4.905275</td>\n",
       "    </tr>\n",
       "    <tr>\n",
       "      <th>3</th>\n",
       "      <td>2.397895</td>\n",
       "      <td>0.693147</td>\n",
       "      <td>5.303305</td>\n",
       "      <td>1.526056</td>\n",
       "      <td>4.204693</td>\n",
       "      <td>3.526361</td>\n",
       "      <td>6.222576</td>\n",
       "    </tr>\n",
       "    <tr>\n",
       "      <th>4</th>\n",
       "      <td>1.945910</td>\n",
       "      <td>3.178054</td>\n",
       "      <td>5.017280</td>\n",
       "      <td>1.360977</td>\n",
       "      <td>3.663562</td>\n",
       "      <td>2.708050</td>\n",
       "      <td>4.787492</td>\n",
       "    </tr>\n",
       "  </tbody>\n",
       "</table>\n",
       "</div>"
      ],
      "text/plain": [
       "   Restaurant  Cuisines  Average_Cost    Rating     Votes   Reviews      Area\n",
       "0    3.044522  0.693147      5.860786  1.648659  5.891644  5.007296  5.837730\n",
       "1    1.098612  1.945910      4.615121  1.029619  0.000000  0.000000  4.382027\n",
       "2    1.098612  4.532599      4.615121  1.526056  3.610918  2.833213  4.905275\n",
       "3    2.397895  0.693147      5.303305  1.526056  4.204693  3.526361  6.222576\n",
       "4    1.945910  3.178054      5.017280  1.360977  3.663562  2.708050  4.787492"
      ]
     },
     "execution_count": 132,
     "metadata": {},
     "output_type": "execute_result"
    }
   ],
   "source": [
    "df_test.head()"
   ]
  },
  {
   "cell_type": "code",
   "execution_count": 164,
   "metadata": {},
   "outputs": [
    {
     "data": {
      "text/plain": [
       "(2774, 7)"
      ]
     },
     "execution_count": 164,
     "metadata": {},
     "output_type": "execute_result"
    }
   ],
   "source": [
    "df_test.shape"
   ]
  },
  {
   "cell_type": "markdown",
   "metadata": {},
   "source": [
    "# Modeling and Predicting of Imbalanced dataset"
   ]
  },
  {
   "cell_type": "code",
   "execution_count": 94,
   "metadata": {},
   "outputs": [],
   "source": [
    "from sklearn.ensemble import RandomForestClassifier\n",
    "from xgboost import XGBClassifier\n",
    "from sklearn.model_selection import train_test_split\n",
    "from sklearn.metrics import classification_report, confusion_matrix, accuracy_score, f1_score"
   ]
  },
  {
   "cell_type": "code",
   "execution_count": 95,
   "metadata": {},
   "outputs": [],
   "source": [
    "x = data.drop([\"Delivery_Time\", \"Location\"], axis = 1)\n",
    "y = data[\"Delivery_Time\"]"
   ]
  },
  {
   "cell_type": "code",
   "execution_count": 96,
   "metadata": {},
   "outputs": [],
   "source": [
    "x = x.drop(\"Minimum_Order\", axis = 1)"
   ]
  },
  {
   "cell_type": "code",
   "execution_count": 104,
   "metadata": {},
   "outputs": [
    {
     "data": {
      "text/html": [
       "<div>\n",
       "<style scoped>\n",
       "    .dataframe tbody tr th:only-of-type {\n",
       "        vertical-align: middle;\n",
       "    }\n",
       "\n",
       "    .dataframe tbody tr th {\n",
       "        vertical-align: top;\n",
       "    }\n",
       "\n",
       "    .dataframe thead th {\n",
       "        text-align: right;\n",
       "    }\n",
       "</style>\n",
       "<table border=\"1\" class=\"dataframe\">\n",
       "  <thead>\n",
       "    <tr style=\"text-align: right;\">\n",
       "      <th></th>\n",
       "      <th>Restaurant</th>\n",
       "      <th>Cuisines</th>\n",
       "      <th>Average_Cost</th>\n",
       "      <th>Rating</th>\n",
       "      <th>Votes</th>\n",
       "      <th>Reviews</th>\n",
       "      <th>Area</th>\n",
       "    </tr>\n",
       "  </thead>\n",
       "  <tbody>\n",
       "    <tr>\n",
       "      <th>0</th>\n",
       "      <td>3.526361</td>\n",
       "      <td>0.693147</td>\n",
       "      <td>5.303305</td>\n",
       "      <td>1.504077</td>\n",
       "      <td>2.564949</td>\n",
       "      <td>1.609438</td>\n",
       "      <td>7.214504</td>\n",
       "    </tr>\n",
       "    <tr>\n",
       "      <th>1</th>\n",
       "      <td>1.386294</td>\n",
       "      <td>4.127134</td>\n",
       "      <td>4.615121</td>\n",
       "      <td>1.504077</td>\n",
       "      <td>2.484907</td>\n",
       "      <td>1.609438</td>\n",
       "      <td>5.905362</td>\n",
       "    </tr>\n",
       "    <tr>\n",
       "      <th>2</th>\n",
       "      <td>2.772589</td>\n",
       "      <td>1.386294</td>\n",
       "      <td>5.017280</td>\n",
       "      <td>1.526056</td>\n",
       "      <td>4.605170</td>\n",
       "      <td>3.433987</td>\n",
       "      <td>6.131226</td>\n",
       "    </tr>\n",
       "    <tr>\n",
       "      <th>3</th>\n",
       "      <td>3.912023</td>\n",
       "      <td>2.833213</td>\n",
       "      <td>5.525453</td>\n",
       "      <td>1.547563</td>\n",
       "      <td>5.176150</td>\n",
       "      <td>4.564348</td>\n",
       "      <td>7.643483</td>\n",
       "    </tr>\n",
       "    <tr>\n",
       "      <th>4</th>\n",
       "      <td>3.526361</td>\n",
       "      <td>2.708050</td>\n",
       "      <td>5.303305</td>\n",
       "      <td>1.435085</td>\n",
       "      <td>5.948035</td>\n",
       "      <td>5.046646</td>\n",
       "      <td>6.126869</td>\n",
       "    </tr>\n",
       "    <tr>\n",
       "      <th>...</th>\n",
       "      <td>...</td>\n",
       "      <td>...</td>\n",
       "      <td>...</td>\n",
       "      <td>...</td>\n",
       "      <td>...</td>\n",
       "      <td>...</td>\n",
       "      <td>...</td>\n",
       "    </tr>\n",
       "    <tr>\n",
       "      <th>11089</th>\n",
       "      <td>3.912023</td>\n",
       "      <td>0.693147</td>\n",
       "      <td>5.525453</td>\n",
       "      <td>1.648659</td>\n",
       "      <td>5.789960</td>\n",
       "      <td>5.046646</td>\n",
       "      <td>3.135494</td>\n",
       "    </tr>\n",
       "    <tr>\n",
       "      <th>11090</th>\n",
       "      <td>1.386294</td>\n",
       "      <td>6.028279</td>\n",
       "      <td>4.615121</td>\n",
       "      <td>1.526056</td>\n",
       "      <td>3.610918</td>\n",
       "      <td>2.833213</td>\n",
       "      <td>7.643483</td>\n",
       "    </tr>\n",
       "    <tr>\n",
       "      <th>11091</th>\n",
       "      <td>1.386294</td>\n",
       "      <td>2.397895</td>\n",
       "      <td>4.615121</td>\n",
       "      <td>1.504077</td>\n",
       "      <td>3.828641</td>\n",
       "      <td>2.944439</td>\n",
       "      <td>5.814131</td>\n",
       "    </tr>\n",
       "    <tr>\n",
       "      <th>11092</th>\n",
       "      <td>1.386294</td>\n",
       "      <td>6.028279</td>\n",
       "      <td>4.615121</td>\n",
       "      <td>1.410987</td>\n",
       "      <td>3.218876</td>\n",
       "      <td>2.302585</td>\n",
       "      <td>5.905362</td>\n",
       "    </tr>\n",
       "    <tr>\n",
       "      <th>11093</th>\n",
       "      <td>1.386294</td>\n",
       "      <td>6.028279</td>\n",
       "      <td>4.615121</td>\n",
       "      <td>1.029619</td>\n",
       "      <td>0.000000</td>\n",
       "      <td>0.000000</td>\n",
       "      <td>5.564520</td>\n",
       "    </tr>\n",
       "  </tbody>\n",
       "</table>\n",
       "<p>11094 rows × 7 columns</p>\n",
       "</div>"
      ],
      "text/plain": [
       "       Restaurant  Cuisines  Average_Cost    Rating     Votes   Reviews  \\\n",
       "0        3.526361  0.693147      5.303305  1.504077  2.564949  1.609438   \n",
       "1        1.386294  4.127134      4.615121  1.504077  2.484907  1.609438   \n",
       "2        2.772589  1.386294      5.017280  1.526056  4.605170  3.433987   \n",
       "3        3.912023  2.833213      5.525453  1.547563  5.176150  4.564348   \n",
       "4        3.526361  2.708050      5.303305  1.435085  5.948035  5.046646   \n",
       "...           ...       ...           ...       ...       ...       ...   \n",
       "11089    3.912023  0.693147      5.525453  1.648659  5.789960  5.046646   \n",
       "11090    1.386294  6.028279      4.615121  1.526056  3.610918  2.833213   \n",
       "11091    1.386294  2.397895      4.615121  1.504077  3.828641  2.944439   \n",
       "11092    1.386294  6.028279      4.615121  1.410987  3.218876  2.302585   \n",
       "11093    1.386294  6.028279      4.615121  1.029619  0.000000  0.000000   \n",
       "\n",
       "           Area  \n",
       "0      7.214504  \n",
       "1      5.905362  \n",
       "2      6.131226  \n",
       "3      7.643483  \n",
       "4      6.126869  \n",
       "...         ...  \n",
       "11089  3.135494  \n",
       "11090  7.643483  \n",
       "11091  5.814131  \n",
       "11092  5.905362  \n",
       "11093  5.564520  \n",
       "\n",
       "[11094 rows x 7 columns]"
      ]
     },
     "execution_count": 104,
     "metadata": {},
     "output_type": "execute_result"
    }
   ],
   "source": [
    "x"
   ]
  },
  {
   "cell_type": "code",
   "execution_count": 139,
   "metadata": {},
   "outputs": [],
   "source": [
    "from sklearn.model_selection import train_test_split\n",
    "x_train, x_test, y_train, y_test = train_test_split(x,y,test_size= 0.25,random_state = 42)"
   ]
  },
  {
   "cell_type": "code",
   "execution_count": 140,
   "metadata": {},
   "outputs": [
    {
     "data": {
      "text/plain": [
       "(2774, 7)"
      ]
     },
     "execution_count": 140,
     "metadata": {},
     "output_type": "execute_result"
    }
   ],
   "source": [
    "x_test.shape"
   ]
  },
  {
   "cell_type": "code",
   "execution_count": 99,
   "metadata": {},
   "outputs": [],
   "source": [
    "from xgboost import XGBClassifier\n",
    "xgb = XGBClassifier(base_score=0.5, booster='gbtree', colsample_bylevel=1,\n",
    "              colsample_bynode=1, colsample_bytree=0.6, gamma=0.3,\n",
    "              learning_rate=0.25, max_delta_step=0, max_depth=64,\n",
    "              min_child_weight=3, missing=None, n_estimators=500, n_jobs=1,\n",
    "              nthread=None, objective='multi:softprob', random_state=0,\n",
    "              reg_alpha=0, reg_lambda=1, scale_pos_weight=1, seed=None,\n",
    "              silent=None, subsample=1, verbosity=1)"
   ]
  },
  {
   "cell_type": "code",
   "execution_count": 100,
   "metadata": {},
   "outputs": [
    {
     "name": "stdout",
     "output_type": "stream",
     "text": [
      "[15:37:55] WARNING: /Users/travis/build/dmlc/xgboost/src/learner.cc:480: \n",
      "Parameters: { scale_pos_weight } might not be used.\n",
      "\n",
      "  This may not be accurate due to some parameters are only used in language bindings but\n",
      "  passed down to XGBoost core.  Or some parameters are not used but slip through this\n",
      "  verification. Please open an issue if you find above cases.\n",
      "\n",
      "\n"
     ]
    },
    {
     "data": {
      "text/plain": [
       "XGBClassifier(base_score=0.5, booster='gbtree', colsample_bylevel=1,\n",
       "              colsample_bynode=1, colsample_bytree=0.6, gamma=0.3, gpu_id=-1,\n",
       "              importance_type='gain', interaction_constraints='',\n",
       "              learning_rate=0.25, max_delta_step=0, max_depth=64,\n",
       "              min_child_weight=3, missing=None, monotone_constraints='()',\n",
       "              n_estimators=500, n_jobs=1, nthread=1, num_parallel_tree=1,\n",
       "              objective='multi:softprob', random_state=0, reg_alpha=0,\n",
       "              reg_lambda=1, scale_pos_weight=1, seed=0, silent=None,\n",
       "              subsample=1, tree_method='exact', validate_parameters=1,\n",
       "              verbosity=1)"
      ]
     },
     "execution_count": 100,
     "metadata": {},
     "output_type": "execute_result"
    }
   ],
   "source": [
    "xgb.fit(x_train, y_train)"
   ]
  },
  {
   "cell_type": "code",
   "execution_count": 128,
   "metadata": {},
   "outputs": [],
   "source": [
    "xgb_pred = xgb.predict(df_test)"
   ]
  },
  {
   "cell_type": "code",
   "execution_count": 130,
   "metadata": {},
   "outputs": [
    {
     "data": {
      "text/plain": [
       "(2774, 7)"
      ]
     },
     "execution_count": 130,
     "metadata": {},
     "output_type": "execute_result"
    }
   ],
   "source": [
    "df_test.shape"
   ]
  },
  {
   "cell_type": "code",
   "execution_count": 131,
   "metadata": {},
   "outputs": [
    {
     "data": {
      "text/plain": [
       "(2774,)"
      ]
     },
     "execution_count": 131,
     "metadata": {},
     "output_type": "execute_result"
    }
   ],
   "source": [
    "xgb_pred.shape"
   ]
  },
  {
   "cell_type": "code",
   "execution_count": 110,
   "metadata": {},
   "outputs": [
    {
     "name": "stdout",
     "output_type": "stream",
     "text": [
      "0.5342465753424658\n",
      "              precision    recall  f1-score   support\n",
      "\n",
      "  10 minutes       0.00      0.00      0.00         1\n",
      " 120 minutes       0.00      0.00      0.00        14\n",
      "  20 minutes       0.00      0.00      0.00         1\n",
      "  30 minutes       0.67      0.70      0.69      1876\n",
      "  45 minutes       0.23      0.27      0.25       650\n",
      "  65 minutes       0.01      0.00      0.01       231\n",
      "  80 minutes       0.00      0.00      0.00         1\n",
      "\n",
      "    accuracy                           0.53      2774\n",
      "   macro avg       0.13      0.14      0.13      2774\n",
      "weighted avg       0.51      0.53      0.52      2774\n",
      "\n",
      "\n",
      "\n",
      "[[   0    0    0    1    0    0    0]\n",
      " [   0    0    0    9    4    1    0]\n",
      " [   0    0    0    0    1    0    0]\n",
      " [   0    0    0 1307  505   64    0]\n",
      " [   0    0    0  460  174   16    0]\n",
      " [   0    0    1  162   67    1    0]\n",
      " [   0    0    0    1    0    0    0]]\n"
     ]
    }
   ],
   "source": [
    "print(accuracy_score(y_test, xgb_pred))\n",
    "print(classification_report(y_test, xgb_pred))\n",
    "print(\"\\n\")\n",
    "print(confusion_matrix(y_test, xgb_pred))"
   ]
  },
  {
   "cell_type": "markdown",
   "metadata": {},
   "source": [
    "# Modeling and Predicting by Handling Imbalanced Dataset"
   ]
  },
  {
   "cell_type": "code",
   "execution_count": 219,
   "metadata": {},
   "outputs": [],
   "source": [
    "x = data.drop([\"Delivery_Time\", \"Location\"], axis = 1)\n",
    "y = data[\"Delivery_Time\"]"
   ]
  },
  {
   "cell_type": "code",
   "execution_count": 220,
   "metadata": {},
   "outputs": [],
   "source": [
    "x = x.drop(\"Minimum_Order\", axis = 1)"
   ]
  },
  {
   "cell_type": "code",
   "execution_count": 221,
   "metadata": {},
   "outputs": [
    {
     "data": {
      "text/html": [
       "<div>\n",
       "<style scoped>\n",
       "    .dataframe tbody tr th:only-of-type {\n",
       "        vertical-align: middle;\n",
       "    }\n",
       "\n",
       "    .dataframe tbody tr th {\n",
       "        vertical-align: top;\n",
       "    }\n",
       "\n",
       "    .dataframe thead th {\n",
       "        text-align: right;\n",
       "    }\n",
       "</style>\n",
       "<table border=\"1\" class=\"dataframe\">\n",
       "  <thead>\n",
       "    <tr style=\"text-align: right;\">\n",
       "      <th></th>\n",
       "      <th>Restaurant</th>\n",
       "      <th>Cuisines</th>\n",
       "      <th>Average_Cost</th>\n",
       "      <th>Rating</th>\n",
       "      <th>Votes</th>\n",
       "      <th>Reviews</th>\n",
       "      <th>Area</th>\n",
       "    </tr>\n",
       "  </thead>\n",
       "  <tbody>\n",
       "    <tr>\n",
       "      <th>0</th>\n",
       "      <td>3.526361</td>\n",
       "      <td>0.693147</td>\n",
       "      <td>5.303305</td>\n",
       "      <td>1.504077</td>\n",
       "      <td>2.564949</td>\n",
       "      <td>1.609438</td>\n",
       "      <td>7.214504</td>\n",
       "    </tr>\n",
       "    <tr>\n",
       "      <th>1</th>\n",
       "      <td>1.386294</td>\n",
       "      <td>4.127134</td>\n",
       "      <td>4.615121</td>\n",
       "      <td>1.504077</td>\n",
       "      <td>2.484907</td>\n",
       "      <td>1.609438</td>\n",
       "      <td>5.905362</td>\n",
       "    </tr>\n",
       "    <tr>\n",
       "      <th>2</th>\n",
       "      <td>2.772589</td>\n",
       "      <td>1.386294</td>\n",
       "      <td>5.017280</td>\n",
       "      <td>1.526056</td>\n",
       "      <td>4.605170</td>\n",
       "      <td>3.433987</td>\n",
       "      <td>6.131226</td>\n",
       "    </tr>\n",
       "    <tr>\n",
       "      <th>3</th>\n",
       "      <td>3.912023</td>\n",
       "      <td>2.833213</td>\n",
       "      <td>5.525453</td>\n",
       "      <td>1.547563</td>\n",
       "      <td>5.176150</td>\n",
       "      <td>4.564348</td>\n",
       "      <td>7.643483</td>\n",
       "    </tr>\n",
       "    <tr>\n",
       "      <th>4</th>\n",
       "      <td>3.526361</td>\n",
       "      <td>2.708050</td>\n",
       "      <td>5.303305</td>\n",
       "      <td>1.435085</td>\n",
       "      <td>5.948035</td>\n",
       "      <td>5.046646</td>\n",
       "      <td>6.126869</td>\n",
       "    </tr>\n",
       "    <tr>\n",
       "      <th>...</th>\n",
       "      <td>...</td>\n",
       "      <td>...</td>\n",
       "      <td>...</td>\n",
       "      <td>...</td>\n",
       "      <td>...</td>\n",
       "      <td>...</td>\n",
       "      <td>...</td>\n",
       "    </tr>\n",
       "    <tr>\n",
       "      <th>11089</th>\n",
       "      <td>3.912023</td>\n",
       "      <td>0.693147</td>\n",
       "      <td>5.525453</td>\n",
       "      <td>1.648659</td>\n",
       "      <td>5.789960</td>\n",
       "      <td>5.046646</td>\n",
       "      <td>3.135494</td>\n",
       "    </tr>\n",
       "    <tr>\n",
       "      <th>11090</th>\n",
       "      <td>1.386294</td>\n",
       "      <td>6.028279</td>\n",
       "      <td>4.615121</td>\n",
       "      <td>1.526056</td>\n",
       "      <td>3.610918</td>\n",
       "      <td>2.833213</td>\n",
       "      <td>7.643483</td>\n",
       "    </tr>\n",
       "    <tr>\n",
       "      <th>11091</th>\n",
       "      <td>1.386294</td>\n",
       "      <td>2.397895</td>\n",
       "      <td>4.615121</td>\n",
       "      <td>1.504077</td>\n",
       "      <td>3.828641</td>\n",
       "      <td>2.944439</td>\n",
       "      <td>5.814131</td>\n",
       "    </tr>\n",
       "    <tr>\n",
       "      <th>11092</th>\n",
       "      <td>1.386294</td>\n",
       "      <td>6.028279</td>\n",
       "      <td>4.615121</td>\n",
       "      <td>1.410987</td>\n",
       "      <td>3.218876</td>\n",
       "      <td>2.302585</td>\n",
       "      <td>5.905362</td>\n",
       "    </tr>\n",
       "    <tr>\n",
       "      <th>11093</th>\n",
       "      <td>1.386294</td>\n",
       "      <td>6.028279</td>\n",
       "      <td>4.615121</td>\n",
       "      <td>1.029619</td>\n",
       "      <td>0.000000</td>\n",
       "      <td>0.000000</td>\n",
       "      <td>5.564520</td>\n",
       "    </tr>\n",
       "  </tbody>\n",
       "</table>\n",
       "<p>11094 rows × 7 columns</p>\n",
       "</div>"
      ],
      "text/plain": [
       "       Restaurant  Cuisines  Average_Cost    Rating     Votes   Reviews  \\\n",
       "0        3.526361  0.693147      5.303305  1.504077  2.564949  1.609438   \n",
       "1        1.386294  4.127134      4.615121  1.504077  2.484907  1.609438   \n",
       "2        2.772589  1.386294      5.017280  1.526056  4.605170  3.433987   \n",
       "3        3.912023  2.833213      5.525453  1.547563  5.176150  4.564348   \n",
       "4        3.526361  2.708050      5.303305  1.435085  5.948035  5.046646   \n",
       "...           ...       ...           ...       ...       ...       ...   \n",
       "11089    3.912023  0.693147      5.525453  1.648659  5.789960  5.046646   \n",
       "11090    1.386294  6.028279      4.615121  1.526056  3.610918  2.833213   \n",
       "11091    1.386294  2.397895      4.615121  1.504077  3.828641  2.944439   \n",
       "11092    1.386294  6.028279      4.615121  1.410987  3.218876  2.302585   \n",
       "11093    1.386294  6.028279      4.615121  1.029619  0.000000  0.000000   \n",
       "\n",
       "           Area  \n",
       "0      7.214504  \n",
       "1      5.905362  \n",
       "2      6.131226  \n",
       "3      7.643483  \n",
       "4      6.126869  \n",
       "...         ...  \n",
       "11089  3.135494  \n",
       "11090  7.643483  \n",
       "11091  5.814131  \n",
       "11092  5.905362  \n",
       "11093  5.564520  \n",
       "\n",
       "[11094 rows x 7 columns]"
      ]
     },
     "execution_count": 221,
     "metadata": {},
     "output_type": "execute_result"
    }
   ],
   "source": [
    "x"
   ]
  },
  {
   "cell_type": "code",
   "execution_count": 222,
   "metadata": {},
   "outputs": [],
   "source": [
    "from sklearn.model_selection import train_test_split\n",
    "x_train, x_test, y_train, y_test = train_test_split(x,y,test_size= 0.25,random_state = 42)"
   ]
  },
  {
   "cell_type": "code",
   "execution_count": 223,
   "metadata": {},
   "outputs": [],
   "source": [
    "from imblearn.combine import SMOTETomek\n",
    "from imblearn.over_sampling import SMOTE\n",
    "smote=SMOTE(k_neighbors=2) # 0.7627627627627628\n",
    "X,Y=smote.fit_sample(x_train,y_train)"
   ]
  },
  {
   "cell_type": "markdown",
   "metadata": {},
   "source": [
    "#WITHOUT TRAIN_TEST_SPLIT\n",
    "from imblearn.combine import SMOTETomek\n",
    "from imblearn.over_sampling import SMOTE\n",
    "smote=SMOTE(k_neighbors=2) # 0.7627627627627628\n",
    "X,Y=smote.fit_sample(x,y)"
   ]
  },
  {
   "cell_type": "code",
   "execution_count": 224,
   "metadata": {},
   "outputs": [],
   "source": [
    "# from imblearn.combine import SMOTETomek\n",
    "# from imblearn.over_sampling import ADASYN\n",
    "# adasyn=ADASYN(\"not majority\",n_neighbors = 2) # 0.7627627627627628\n",
    "# X,Y=adasyn.fit_sample(x_train,y_train)"
   ]
  },
  {
   "cell_type": "code",
   "execution_count": 225,
   "metadata": {},
   "outputs": [
    {
     "name": "stdout",
     "output_type": "stream",
     "text": [
      "Before: Counter({'30 minutes': 5530, '45 minutes': 2015, '65 minutes': 692, '120 minutes': 48, '20 minutes': 19, '80 minutes': 13, '10 minutes': 3})\n",
      "After: Counter({'45 minutes': 5530, '30 minutes': 5530, '65 minutes': 5530, '120 minutes': 5530, '20 minutes': 5530, '80 minutes': 5530, '10 minutes': 5530})\n"
     ]
    }
   ],
   "source": [
    "from collections import Counter\n",
    "print(\"Before:\", Counter(y_train))\n",
    "print(\"After:\", Counter(Y))"
   ]
  },
  {
   "cell_type": "code",
   "execution_count": 226,
   "metadata": {},
   "outputs": [],
   "source": [
    "from xgboost import XGBClassifier\n",
    "xgb = XGBClassifier(base_score=0.5, booster='gbtree', colsample_bylevel=1,\n",
    "              colsample_bynode=1, colsample_bytree=0.6, gamma=0.3,\n",
    "              learning_rate=0.25, max_delta_step=0, max_depth=64,\n",
    "              min_child_weight=3, missing=None, n_estimators=500, n_jobs=1,\n",
    "              nthread=None, objective='multi:softprob', random_state=0,\n",
    "              reg_alpha=0, reg_lambda=1, scale_pos_weight=1, seed=None,\n",
    "              silent=None, subsample=1, verbosity=1)"
   ]
  },
  {
   "cell_type": "code",
   "execution_count": 227,
   "metadata": {},
   "outputs": [
    {
     "name": "stdout",
     "output_type": "stream",
     "text": [
      "[16:06:04] WARNING: /Users/travis/build/dmlc/xgboost/src/learner.cc:480: \n",
      "Parameters: { scale_pos_weight } might not be used.\n",
      "\n",
      "  This may not be accurate due to some parameters are only used in language bindings but\n",
      "  passed down to XGBoost core.  Or some parameters are not used but slip through this\n",
      "  verification. Please open an issue if you find above cases.\n",
      "\n",
      "\n"
     ]
    },
    {
     "data": {
      "text/plain": [
       "XGBClassifier(base_score=0.5, booster='gbtree', colsample_bylevel=1,\n",
       "              colsample_bynode=1, colsample_bytree=0.6, gamma=0.3, gpu_id=-1,\n",
       "              importance_type='gain', interaction_constraints='',\n",
       "              learning_rate=0.25, max_delta_step=0, max_depth=64,\n",
       "              min_child_weight=3, missing=None, monotone_constraints='()',\n",
       "              n_estimators=500, n_jobs=1, nthread=1, num_parallel_tree=1,\n",
       "              objective='multi:softprob', random_state=0, reg_alpha=0,\n",
       "              reg_lambda=1, scale_pos_weight=1, seed=0, silent=None,\n",
       "              subsample=1, tree_method='exact', validate_parameters=1,\n",
       "              verbosity=1)"
      ]
     },
     "execution_count": 227,
     "metadata": {},
     "output_type": "execute_result"
    }
   ],
   "source": [
    "xgb.fit(X, Y)"
   ]
  },
  {
   "cell_type": "code",
   "execution_count": 228,
   "metadata": {},
   "outputs": [],
   "source": [
    "xgb_pred = xgb.predict(x_test)"
   ]
  },
  {
   "cell_type": "code",
   "execution_count": 229,
   "metadata": {},
   "outputs": [
    {
     "data": {
      "text/plain": [
       "(2774,)"
      ]
     },
     "execution_count": 229,
     "metadata": {},
     "output_type": "execute_result"
    }
   ],
   "source": [
    "xgb_pred.shape"
   ]
  },
  {
   "cell_type": "code",
   "execution_count": 230,
   "metadata": {},
   "outputs": [
    {
     "data": {
      "text/plain": [
       "(2774,)"
      ]
     },
     "execution_count": 230,
     "metadata": {},
     "output_type": "execute_result"
    }
   ],
   "source": [
    "y_test.shape"
   ]
  },
  {
   "cell_type": "code",
   "execution_count": 231,
   "metadata": {},
   "outputs": [
    {
     "name": "stdout",
     "output_type": "stream",
     "text": [
      "0.7703677000720981\n",
      "              precision    recall  f1-score   support\n",
      "\n",
      "  10 minutes       0.00      0.00      0.00         1\n",
      " 120 minutes       0.57      0.29      0.38        14\n",
      "  20 minutes       0.20      1.00      0.33         1\n",
      "  30 minutes       0.84      0.89      0.87      1876\n",
      "  45 minutes       0.63      0.59      0.61       650\n",
      "  65 minutes       0.47      0.35      0.40       231\n",
      "  80 minutes       0.50      1.00      0.67         1\n",
      "\n",
      "    accuracy                           0.77      2774\n",
      "   macro avg       0.46      0.59      0.47      2774\n",
      "weighted avg       0.76      0.77      0.76      2774\n",
      "\n",
      "\n",
      "\n",
      "[[   0    0    0    1    0    0    0]\n",
      " [   0    4    0    8    2    0    0]\n",
      " [   0    0    1    0    0    0    0]\n",
      " [   1    2    2 1667  161   43    0]\n",
      " [   0    1    2  213  382   51    1]\n",
      " [   1    0    0   85   63   82    0]\n",
      " [   0    0    0    0    0    0    1]]\n"
     ]
    }
   ],
   "source": [
    "print(accuracy_score(y_test, xgb_pred))\n",
    "print(classification_report(y_test, xgb_pred))\n",
    "print(\"\\n\")\n",
    "print(confusion_matrix(y_test, xgb_pred))"
   ]
  },
  {
   "cell_type": "markdown",
   "metadata": {},
   "source": [
    "# RandomForest"
   ]
  },
  {
   "cell_type": "code",
   "execution_count": 232,
   "metadata": {},
   "outputs": [],
   "source": [
    "from sklearn.ensemble import RandomForestClassifier\n",
    "from sklearn.metrics import classification_report, confusion_matrix, accuracy_score, f1_score\n",
    "rfc = RandomForestClassifier(criterion= \"entropy\", n_estimators = 500)"
   ]
  },
  {
   "cell_type": "code",
   "execution_count": 233,
   "metadata": {},
   "outputs": [
    {
     "data": {
      "text/plain": [
       "RandomForestClassifier(criterion='entropy', n_estimators=500)"
      ]
     },
     "execution_count": 233,
     "metadata": {},
     "output_type": "execute_result"
    }
   ],
   "source": [
    "rfc.fit(X,Y)"
   ]
  },
  {
   "cell_type": "code",
   "execution_count": 234,
   "metadata": {},
   "outputs": [],
   "source": [
    "rfc_pred = rfc.predict(x_test)"
   ]
  },
  {
   "cell_type": "code",
   "execution_count": 235,
   "metadata": {},
   "outputs": [
    {
     "name": "stdout",
     "output_type": "stream",
     "text": [
      "0.7635183850036049\n",
      "              precision    recall  f1-score   support\n",
      "\n",
      "  10 minutes       0.00      0.00      0.00         1\n",
      " 120 minutes       0.44      0.29      0.35        14\n",
      "  20 minutes       0.00      0.00      0.00         1\n",
      "  30 minutes       0.86      0.87      0.86      1876\n",
      "  45 minutes       0.60      0.62      0.61       650\n",
      "  65 minutes       0.43      0.35      0.39       231\n",
      "  80 minutes       0.25      1.00      0.40         1\n",
      "\n",
      "    accuracy                           0.76      2774\n",
      "   macro avg       0.37      0.45      0.37      2774\n",
      "weighted avg       0.76      0.76      0.76      2774\n",
      "\n",
      "\n",
      "\n",
      "[[   0    0    0    1    0    0    0]\n",
      " [   0    4    0    6    4    0    0]\n",
      " [   0    0    0    0    0    1    0]\n",
      " [   1    4    2 1630  189   50    0]\n",
      " [   0    1    1  188  402   57    1]\n",
      " [   1    0    1   73   73   81    2]\n",
      " [   0    0    0    0    0    0    1]]\n"
     ]
    }
   ],
   "source": [
    "print(accuracy_score(y_test, rfc_pred))\n",
    "print(classification_report(y_test, rfc_pred))\n",
    "print(\"\\n\")\n",
    "print(confusion_matrix(y_test, rfc_pred))"
   ]
  },
  {
   "cell_type": "markdown",
   "metadata": {},
   "source": [
    "# Logistic Regression"
   ]
  },
  {
   "cell_type": "code",
   "execution_count": 236,
   "metadata": {},
   "outputs": [],
   "source": [
    "from sklearn.linear_model import LogisticRegression\n",
    "logr = LogisticRegression(multi_class = 'ovr')"
   ]
  },
  {
   "cell_type": "code",
   "execution_count": 237,
   "metadata": {},
   "outputs": [
    {
     "name": "stderr",
     "output_type": "stream",
     "text": [
      "/opt/anaconda3/lib/python3.7/site-packages/sklearn/linear_model/_logistic.py:764: ConvergenceWarning: lbfgs failed to converge (status=1):\n",
      "STOP: TOTAL NO. of ITERATIONS REACHED LIMIT.\n",
      "\n",
      "Increase the number of iterations (max_iter) or scale the data as shown in:\n",
      "    https://scikit-learn.org/stable/modules/preprocessing.html\n",
      "Please also refer to the documentation for alternative solver options:\n",
      "    https://scikit-learn.org/stable/modules/linear_model.html#logistic-regression\n",
      "  extra_warning_msg=_LOGISTIC_SOLVER_CONVERGENCE_MSG)\n"
     ]
    },
    {
     "data": {
      "text/plain": [
       "LogisticRegression(multi_class='ovr')"
      ]
     },
     "execution_count": 237,
     "metadata": {},
     "output_type": "execute_result"
    }
   ],
   "source": [
    "logr.fit(X,Y)"
   ]
  },
  {
   "cell_type": "code",
   "execution_count": 238,
   "metadata": {},
   "outputs": [],
   "source": [
    "logr_pred = logr.predict(x_test)"
   ]
  },
  {
   "cell_type": "code",
   "execution_count": 239,
   "metadata": {},
   "outputs": [
    {
     "name": "stdout",
     "output_type": "stream",
     "text": [
      "0.3731074260994953\n",
      "              precision    recall  f1-score   support\n",
      "\n",
      "  10 minutes       0.01      1.00      0.01         1\n",
      " 120 minutes       0.01      0.14      0.03        14\n",
      "  20 minutes       0.00      1.00      0.00         1\n",
      "  30 minutes       0.88      0.47      0.61      1876\n",
      "  45 minutes       0.46      0.19      0.27       650\n",
      "  65 minutes       0.15      0.11      0.13       231\n",
      "  80 minutes       0.00      1.00      0.00         1\n",
      "\n",
      "    accuracy                           0.37      2774\n",
      "   macro avg       0.22      0.56      0.15      2774\n",
      "weighted avg       0.72      0.37      0.49      2774\n",
      "\n",
      "\n",
      "\n",
      "[[  1   0   0   0   0   0   0]\n",
      " [  1   2   3   4   1   1   2]\n",
      " [  0   0   1   0   0   0   0]\n",
      " [142  83 385 878 113  71 204]\n",
      " [ 15  41  77  94 126  72 225]\n",
      " [  9  19  43  22  32  26  80]\n",
      " [  0   0   0   0   0   0   1]]\n"
     ]
    }
   ],
   "source": [
    "print(accuracy_score(y_test, logr_pred))\n",
    "print(classification_report(y_test, logr_pred))\n",
    "print(\"\\n\")\n",
    "print(confusion_matrix(y_test, logr_pred))"
   ]
  },
  {
   "cell_type": "markdown",
   "metadata": {},
   "source": [
    "# K Nearesr Neighbor"
   ]
  },
  {
   "cell_type": "code",
   "execution_count": 244,
   "metadata": {},
   "outputs": [],
   "source": [
    "from sklearn.neighbors import KNeighborsClassifier\n",
    "knn = KNeighborsClassifier(n_neighbors=3)"
   ]
  },
  {
   "cell_type": "code",
   "execution_count": 246,
   "metadata": {},
   "outputs": [
    {
     "data": {
      "text/plain": [
       "KNeighborsClassifier(n_neighbors=3)"
      ]
     },
     "execution_count": 246,
     "metadata": {},
     "output_type": "execute_result"
    }
   ],
   "source": [
    "knn.fit(X, Y)"
   ]
  },
  {
   "cell_type": "code",
   "execution_count": 247,
   "metadata": {},
   "outputs": [],
   "source": [
    "knn_pred = knn.predict(x_test)"
   ]
  },
  {
   "cell_type": "code",
   "execution_count": 248,
   "metadata": {},
   "outputs": [
    {
     "name": "stdout",
     "output_type": "stream",
     "text": [
      "0.6254506128334535\n",
      "              precision    recall  f1-score   support\n",
      "\n",
      "  10 minutes       0.00      0.00      0.00         1\n",
      " 120 minutes       0.10      0.36      0.15        14\n",
      "  20 minutes       0.03      1.00      0.06         1\n",
      "  30 minutes       0.84      0.69      0.76      1876\n",
      "  45 minutes       0.45      0.53      0.49       650\n",
      "  65 minutes       0.26      0.40      0.31       231\n",
      "  80 minutes       0.04      1.00      0.07         1\n",
      "\n",
      "    accuracy                           0.63      2774\n",
      "   macro avg       0.24      0.57      0.26      2774\n",
      "weighted avg       0.70      0.63      0.65      2774\n",
      "\n",
      "\n",
      "\n",
      "[[   0    0    0    1    0    0    0]\n",
      " [   0    5    0    5    3    1    0]\n",
      " [   0    0    1    0    0    0    0]\n",
      " [   4   33   26 1293  337  170   13]\n",
      " [   1    8    3  186  342   99   11]\n",
      " [   0    5    2   54   74   93    3]\n",
      " [   0    0    0    0    0    0    1]]\n"
     ]
    }
   ],
   "source": [
    "print(accuracy_score(y_test, knn_pred))\n",
    "print(classification_report(y_test, knn_pred))\n",
    "print(\"\\n\")\n",
    "print(confusion_matrix(y_test, knn_pred))"
   ]
  },
  {
   "cell_type": "code",
   "execution_count": null,
   "metadata": {},
   "outputs": [],
   "source": []
  }
 ],
 "metadata": {
  "kernelspec": {
   "display_name": "Python 3",
   "language": "python",
   "name": "python3"
  },
  "language_info": {
   "codemirror_mode": {
    "name": "ipython",
    "version": 3
   },
   "file_extension": ".py",
   "mimetype": "text/x-python",
   "name": "python",
   "nbconvert_exporter": "python",
   "pygments_lexer": "ipython3",
   "version": "3.7.4"
  }
 },
 "nbformat": 4,
 "nbformat_minor": 2
}
